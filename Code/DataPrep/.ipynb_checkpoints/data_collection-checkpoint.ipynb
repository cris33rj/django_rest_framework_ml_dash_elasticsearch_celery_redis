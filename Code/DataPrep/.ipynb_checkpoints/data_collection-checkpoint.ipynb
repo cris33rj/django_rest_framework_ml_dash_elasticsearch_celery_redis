{
 "cells": [
  {
   "cell_type": "code",
   "execution_count": 1,
   "metadata": {},
   "outputs": [],
   "source": [
    "import requests\n",
    "import pandas as pd\n",
    "\n",
    "%store -r WORKDIR\n",
    "\n",
    "if 'WORKDIR' not in dir():\n",
    "    WORKDIR = 'C:/Users/thewr/git/mit_data_science.git/'\n",
    "\n",
    "#headers = {\n",
    "#  'secret-key': '$2b$10$0YS2weSVQVpV2AgyA8SxWeqVy3878f6RBZtQj1qWU0NrBqFsHvep6',\n",
    "#  'Cookie': '__cfduid=dd809ec4d09a8f02f144c919827a774af1596981865'\n",
    "#}\n",
    "\n",
    "url='http://localhost:3000/pjme'\n",
    "payload = {}\n",
    "\n",
    "data_raw_file = WORKDIR + '/Data/Raw/energy_consumption_data_modeling.parquet'\n",
    "\n"
   ]
  },
  {
   "cell_type": "markdown",
   "metadata": {},
   "source": [
    "# Carga de Dados para o Desenvolvimento"
   ]
  },
  {
   "cell_type": "code",
   "execution_count": 2,
   "metadata": {},
   "outputs": [
    {
     "data": {
      "text/html": [
       "<div>\n",
       "<style scoped>\n",
       "    .dataframe tbody tr th:only-of-type {\n",
       "        vertical-align: middle;\n",
       "    }\n",
       "\n",
       "    .dataframe tbody tr th {\n",
       "        vertical-align: top;\n",
       "    }\n",
       "\n",
       "    .dataframe thead th {\n",
       "        text-align: right;\n",
       "    }\n",
       "</style>\n",
       "<table border=\"1\" class=\"dataframe\">\n",
       "  <thead>\n",
       "    <tr style=\"text-align: right;\">\n",
       "      <th></th>\n",
       "      <th>Datetime</th>\n",
       "      <th>PJME_MW</th>\n",
       "    </tr>\n",
       "  </thead>\n",
       "  <tbody>\n",
       "    <tr>\n",
       "      <td>0</td>\n",
       "      <td>2002-01-01 01:00:00</td>\n",
       "      <td>30393</td>\n",
       "    </tr>\n",
       "    <tr>\n",
       "      <td>1</td>\n",
       "      <td>2002-01-01 02:00:00</td>\n",
       "      <td>29265</td>\n",
       "    </tr>\n",
       "    <tr>\n",
       "      <td>2</td>\n",
       "      <td>2002-01-01 03:00:00</td>\n",
       "      <td>28357</td>\n",
       "    </tr>\n",
       "    <tr>\n",
       "      <td>3</td>\n",
       "      <td>2002-01-01 04:00:00</td>\n",
       "      <td>27899</td>\n",
       "    </tr>\n",
       "    <tr>\n",
       "      <td>4</td>\n",
       "      <td>2002-01-01 05:00:00</td>\n",
       "      <td>28057</td>\n",
       "    </tr>\n",
       "  </tbody>\n",
       "</table>\n",
       "</div>"
      ],
      "text/plain": [
       "              Datetime  PJME_MW\n",
       "0  2002-01-01 01:00:00    30393\n",
       "1  2002-01-01 02:00:00    29265\n",
       "2  2002-01-01 03:00:00    28357\n",
       "3  2002-01-01 04:00:00    27899\n",
       "4  2002-01-01 05:00:00    28057"
      ]
     },
     "execution_count": 2,
     "metadata": {},
     "output_type": "execute_result"
    }
   ],
   "source": [
    "#obj = requests.get(url,headers=headers, data=payload).json()\n",
    "obj = requests.get(url).json()\n",
    "\n",
    "data = pd.DataFrame.from_dict(obj)\n",
    "data.head()\n"
   ]
  },
  {
   "cell_type": "code",
   "execution_count": 3,
   "metadata": {},
   "outputs": [
    {
     "data": {
      "text/plain": [
       "(145366, 2)"
      ]
     },
     "execution_count": 3,
     "metadata": {},
     "output_type": "execute_result"
    }
   ],
   "source": [
    "data.shape"
   ]
  },
  {
   "cell_type": "code",
   "execution_count": 4,
   "metadata": {},
   "outputs": [
    {
     "data": {
      "text/html": [
       "<div>\n",
       "<style scoped>\n",
       "    .dataframe tbody tr th:only-of-type {\n",
       "        vertical-align: middle;\n",
       "    }\n",
       "\n",
       "    .dataframe tbody tr th {\n",
       "        vertical-align: top;\n",
       "    }\n",
       "\n",
       "    .dataframe thead th {\n",
       "        text-align: right;\n",
       "    }\n",
       "</style>\n",
       "<table border=\"1\" class=\"dataframe\">\n",
       "  <thead>\n",
       "    <tr style=\"text-align: right;\">\n",
       "      <th></th>\n",
       "      <th>Datetime</th>\n",
       "      <th>PJME_MW</th>\n",
       "    </tr>\n",
       "  </thead>\n",
       "  <tbody>\n",
       "    <tr>\n",
       "      <td>0</td>\n",
       "      <td>2002-01-01 01:00:00</td>\n",
       "      <td>30393</td>\n",
       "    </tr>\n",
       "    <tr>\n",
       "      <td>1</td>\n",
       "      <td>2002-01-01 02:00:00</td>\n",
       "      <td>29265</td>\n",
       "    </tr>\n",
       "    <tr>\n",
       "      <td>2</td>\n",
       "      <td>2002-01-01 03:00:00</td>\n",
       "      <td>28357</td>\n",
       "    </tr>\n",
       "    <tr>\n",
       "      <td>3</td>\n",
       "      <td>2002-01-01 04:00:00</td>\n",
       "      <td>27899</td>\n",
       "    </tr>\n",
       "    <tr>\n",
       "      <td>4</td>\n",
       "      <td>2002-01-01 05:00:00</td>\n",
       "      <td>28057</td>\n",
       "    </tr>\n",
       "  </tbody>\n",
       "</table>\n",
       "</div>"
      ],
      "text/plain": [
       "              Datetime  PJME_MW\n",
       "0  2002-01-01 01:00:00    30393\n",
       "1  2002-01-01 02:00:00    29265\n",
       "2  2002-01-01 03:00:00    28357\n",
       "3  2002-01-01 04:00:00    27899\n",
       "4  2002-01-01 05:00:00    28057"
      ]
     },
     "execution_count": 4,
     "metadata": {},
     "output_type": "execute_result"
    }
   ],
   "source": [
    "data.head()"
   ]
  },
  {
   "cell_type": "markdown",
   "metadata": {},
   "source": [
    "# Export Data "
   ]
  },
  {
   "cell_type": "code",
   "execution_count": 5,
   "metadata": {},
   "outputs": [],
   "source": [
    "data.to_parquet(data_raw_file)"
   ]
  },
  {
   "cell_type": "code",
   "execution_count": null,
   "metadata": {},
   "outputs": [],
   "source": []
  }
 ],
 "metadata": {
  "kernelspec": {
   "display_name": "Python 3",
   "language": "python",
   "name": "python3"
  },
  "language_info": {
   "codemirror_mode": {
    "name": "ipython",
    "version": 3
   },
   "file_extension": ".py",
   "mimetype": "text/x-python",
   "name": "python",
   "nbconvert_exporter": "python",
   "pygments_lexer": "ipython3",
   "version": "3.7.4"
  }
 },
 "nbformat": 4,
 "nbformat_minor": 4
}
