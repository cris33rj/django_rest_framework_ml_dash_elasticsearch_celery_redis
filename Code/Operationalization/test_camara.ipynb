{
 "cells": [
  {
   "cell_type": "markdown",
   "metadata": {},
   "source": [
    "# Importação de Bibliotecas "
   ]
  },
  {
   "cell_type": "code",
   "execution_count": 28,
   "metadata": {},
   "outputs": [],
   "source": [
    "import pandas as pd\n",
    "import requests\n",
    "import json\n",
    "import seaborn as sns\n",
    "import matplotlib.pyplot as plt\n",
    "from urllib.parse import urlencode\n",
    "\n",
    "\n",
    "\n",
    "%matplotlib inline\n",
    "\n",
    "\n",
    "base_url = 'https://dadosabertos.camara.leg.br/api/v2/'"
   ]
  },
  {
   "cell_type": "markdown",
   "metadata": {},
   "source": [
    "# Carregando os Deputados Atuais"
   ]
  },
  {
   "cell_type": "markdown",
   "metadata": {},
   "source": [
    "Apenda o dataset que deve ser atualizado em *base_url* e recupera os dados.\n",
    "A resposta da solicitação é escrita no notebook. Se tudo deu certo, o código deve ser 200."
   ]
  },
  {
   "cell_type": "code",
   "execution_count": 195,
   "metadata": {},
   "outputs": [
    {
     "name": "stdout",
     "output_type": "stream",
     "text": [
      "=> Recuperando lista de deputados\n",
      "<Response [200]>\n"
     ]
    }
   ],
   "source": [
    "url = base_url + 'deputados'\n",
    "\n",
    "print('=> Recuperando lista de deputados')\n",
    "response = requests.get(url)\n",
    "print(response)"
   ]
  },
  {
   "cell_type": "markdown",
   "metadata": {},
   "source": [
    "## Decodificando a resposta  "
   ]
  },
  {
   "cell_type": "markdown",
   "metadata": {},
   "source": [
    "De-serializar a string de resposta com o objeto dos dados. Utiliza-se a biblioteca **json** para carregar os dados que estão na string *response.text*. O objeto recuperado é um dicionário, com chaves e valores. Pode-se ver que o total de dados recuperados são de 513 elementos, correspondendo os 513 deputados."
   ]
  },
  {
   "cell_type": "code",
   "execution_count": 196,
   "metadata": {},
   "outputs": [
    {
     "name": "stdout",
     "output_type": "stream",
     "text": [
      "<class 'dict'>\n",
      "dict_keys(['dados', 'links'])\n",
      "513\n"
     ]
    }
   ],
   "source": [
    "obj = json.loads(response.text)\n",
    "print(obj.__class__)\n",
    "print(obj.keys())\n",
    "print(len(obj['dados']))"
   ]
  },
  {
   "cell_type": "markdown",
   "metadata": {},
   "source": [
    "## Transformar o Objeto em DataFrame "
   ]
  },
  {
   "cell_type": "markdown",
   "metadata": {},
   "source": [
    "O **pandas** possui uma forma de recuperar os dados do json para um DataFrame. Dessa forma, os dados podem ser facilmente transportados para o formato tabular."
   ]
  },
  {
   "cell_type": "code",
   "execution_count": 199,
   "metadata": {},
   "outputs": [
    {
     "name": "stdout",
     "output_type": "stream",
     "text": [
      "(513, 9)\n",
      "['email', 'idDeputado', 'idLegislatura', 'nome', 'siglaPartido', 'siglaUf', 'uri', 'uriPartido', 'urlFoto']\n"
     ]
    },
    {
     "data": {
      "text/html": [
       "<div>\n",
       "<style scoped>\n",
       "    .dataframe tbody tr th:only-of-type {\n",
       "        vertical-align: middle;\n",
       "    }\n",
       "\n",
       "    .dataframe tbody tr th {\n",
       "        vertical-align: top;\n",
       "    }\n",
       "\n",
       "    .dataframe thead th {\n",
       "        text-align: right;\n",
       "    }\n",
       "</style>\n",
       "<table border=\"1\" class=\"dataframe\">\n",
       "  <thead>\n",
       "    <tr style=\"text-align: right;\">\n",
       "      <th></th>\n",
       "      <th>email</th>\n",
       "      <th>idDeputado</th>\n",
       "      <th>idLegislatura</th>\n",
       "      <th>nome</th>\n",
       "      <th>siglaPartido</th>\n",
       "      <th>siglaUf</th>\n",
       "      <th>uri</th>\n",
       "      <th>uriPartido</th>\n",
       "      <th>urlFoto</th>\n",
       "    </tr>\n",
       "  </thead>\n",
       "  <tbody>\n",
       "    <tr>\n",
       "      <th>0</th>\n",
       "      <td>dep.abiliosantana@camara.leg.br</td>\n",
       "      <td>204554</td>\n",
       "      <td>56</td>\n",
       "      <td>Abílio Santana</td>\n",
       "      <td>PL</td>\n",
       "      <td>BA</td>\n",
       "      <td>https://dadosabertos.camara.leg.br/api/v2/depu...</td>\n",
       "      <td>https://dadosabertos.camara.leg.br/api/v2/part...</td>\n",
       "      <td>https://www.camara.leg.br/internet/deputado/ba...</td>\n",
       "    </tr>\n",
       "    <tr>\n",
       "      <th>1</th>\n",
       "      <td>dep.abouanni@camara.leg.br</td>\n",
       "      <td>204521</td>\n",
       "      <td>56</td>\n",
       "      <td>Abou Anni</td>\n",
       "      <td>PSL</td>\n",
       "      <td>SP</td>\n",
       "      <td>https://dadosabertos.camara.leg.br/api/v2/depu...</td>\n",
       "      <td>https://dadosabertos.camara.leg.br/api/v2/part...</td>\n",
       "      <td>https://www.camara.leg.br/internet/deputado/ba...</td>\n",
       "    </tr>\n",
       "    <tr>\n",
       "      <th>2</th>\n",
       "      <td>dep.acaciofavacho@camara.leg.br</td>\n",
       "      <td>204379</td>\n",
       "      <td>56</td>\n",
       "      <td>Acácio Favacho</td>\n",
       "      <td>PROS</td>\n",
       "      <td>AP</td>\n",
       "      <td>https://dadosabertos.camara.leg.br/api/v2/depu...</td>\n",
       "      <td>https://dadosabertos.camara.leg.br/api/v2/part...</td>\n",
       "      <td>https://www.camara.leg.br/internet/deputado/ba...</td>\n",
       "    </tr>\n",
       "    <tr>\n",
       "      <th>3</th>\n",
       "      <td>dep.adolfoviana@camara.leg.br</td>\n",
       "      <td>204560</td>\n",
       "      <td>56</td>\n",
       "      <td>Adolfo Viana</td>\n",
       "      <td>PSDB</td>\n",
       "      <td>BA</td>\n",
       "      <td>https://dadosabertos.camara.leg.br/api/v2/depu...</td>\n",
       "      <td>https://dadosabertos.camara.leg.br/api/v2/part...</td>\n",
       "      <td>https://www.camara.leg.br/internet/deputado/ba...</td>\n",
       "    </tr>\n",
       "    <tr>\n",
       "      <th>4</th>\n",
       "      <td>dep.adrianaventura@camara.leg.br</td>\n",
       "      <td>204528</td>\n",
       "      <td>56</td>\n",
       "      <td>Adriana Ventura</td>\n",
       "      <td>NOVO</td>\n",
       "      <td>SP</td>\n",
       "      <td>https://dadosabertos.camara.leg.br/api/v2/depu...</td>\n",
       "      <td>https://dadosabertos.camara.leg.br/api/v2/part...</td>\n",
       "      <td>https://www.camara.leg.br/internet/deputado/ba...</td>\n",
       "    </tr>\n",
       "  </tbody>\n",
       "</table>\n",
       "</div>"
      ],
      "text/plain": [
       "                              email  idDeputado  idLegislatura  \\\n",
       "0   dep.abiliosantana@camara.leg.br      204554             56   \n",
       "1        dep.abouanni@camara.leg.br      204521             56   \n",
       "2   dep.acaciofavacho@camara.leg.br      204379             56   \n",
       "3     dep.adolfoviana@camara.leg.br      204560             56   \n",
       "4  dep.adrianaventura@camara.leg.br      204528             56   \n",
       "\n",
       "              nome siglaPartido siglaUf  \\\n",
       "0   Abílio Santana           PL      BA   \n",
       "1        Abou Anni          PSL      SP   \n",
       "2   Acácio Favacho         PROS      AP   \n",
       "3     Adolfo Viana         PSDB      BA   \n",
       "4  Adriana Ventura         NOVO      SP   \n",
       "\n",
       "                                                 uri  \\\n",
       "0  https://dadosabertos.camara.leg.br/api/v2/depu...   \n",
       "1  https://dadosabertos.camara.leg.br/api/v2/depu...   \n",
       "2  https://dadosabertos.camara.leg.br/api/v2/depu...   \n",
       "3  https://dadosabertos.camara.leg.br/api/v2/depu...   \n",
       "4  https://dadosabertos.camara.leg.br/api/v2/depu...   \n",
       "\n",
       "                                          uriPartido  \\\n",
       "0  https://dadosabertos.camara.leg.br/api/v2/part...   \n",
       "1  https://dadosabertos.camara.leg.br/api/v2/part...   \n",
       "2  https://dadosabertos.camara.leg.br/api/v2/part...   \n",
       "3  https://dadosabertos.camara.leg.br/api/v2/part...   \n",
       "4  https://dadosabertos.camara.leg.br/api/v2/part...   \n",
       "\n",
       "                                             urlFoto  \n",
       "0  https://www.camara.leg.br/internet/deputado/ba...  \n",
       "1  https://www.camara.leg.br/internet/deputado/ba...  \n",
       "2  https://www.camara.leg.br/internet/deputado/ba...  \n",
       "3  https://www.camara.leg.br/internet/deputado/ba...  \n",
       "4  https://www.camara.leg.br/internet/deputado/ba...  "
      ]
     },
     "execution_count": 199,
     "metadata": {},
     "output_type": "execute_result"
    }
   ],
   "source": [
    "df_deputados = pd.DataFrame.from_dict(obj['dados'])\n",
    "print(df_deputados.shape)\n",
    "df_deputados.rename({'id':'idDeputado'}, axis=1, inplace=True)\n",
    "print(df_deputados.columns.tolist())\n",
    "df_deputados.head()"
   ]
  },
  {
   "cell_type": "markdown",
   "metadata": {},
   "source": [
    "## Links de paginação "
   ]
  },
  {
   "cell_type": "markdown",
   "metadata": {},
   "source": [
    "Utilizada para fazer a paginação do resultado. Para recuperar todos os dados, precisa-se iterar sob todas as páginas. Como não há um link com *rel* igual a *next*, entendemos que não tem paginação no resultado."
   ]
  },
  {
   "cell_type": "code",
   "execution_count": 102,
   "metadata": {},
   "outputs": [
    {
     "data": {
      "text/html": [
       "<div>\n",
       "<style scoped>\n",
       "    .dataframe tbody tr th:only-of-type {\n",
       "        vertical-align: middle;\n",
       "    }\n",
       "\n",
       "    .dataframe tbody tr th {\n",
       "        vertical-align: top;\n",
       "    }\n",
       "\n",
       "    .dataframe thead th {\n",
       "        text-align: right;\n",
       "    }\n",
       "</style>\n",
       "<table border=\"1\" class=\"dataframe\">\n",
       "  <thead>\n",
       "    <tr style=\"text-align: right;\">\n",
       "      <th></th>\n",
       "      <th>href</th>\n",
       "      <th>rel</th>\n",
       "    </tr>\n",
       "  </thead>\n",
       "  <tbody>\n",
       "    <tr>\n",
       "      <th>0</th>\n",
       "      <td>https://dadosabertos.camara.leg.br/api/v2/depu...</td>\n",
       "      <td>self</td>\n",
       "    </tr>\n",
       "    <tr>\n",
       "      <th>1</th>\n",
       "      <td>https://dadosabertos.camara.leg.br/api/v2/depu...</td>\n",
       "      <td>first</td>\n",
       "    </tr>\n",
       "    <tr>\n",
       "      <th>2</th>\n",
       "      <td>https://dadosabertos.camara.leg.br/api/v2/depu...</td>\n",
       "      <td>last</td>\n",
       "    </tr>\n",
       "  </tbody>\n",
       "</table>\n",
       "</div>"
      ],
      "text/plain": [
       "                                                href    rel\n",
       "0  https://dadosabertos.camara.leg.br/api/v2/depu...   self\n",
       "1  https://dadosabertos.camara.leg.br/api/v2/depu...  first\n",
       "2  https://dadosabertos.camara.leg.br/api/v2/depu...   last"
      ]
     },
     "execution_count": 102,
     "metadata": {},
     "output_type": "execute_result"
    }
   ],
   "source": [
    "df_links = pd.DataFrame.from_dict(obj['links'])\n",
    "df_links"
   ]
  },
  {
   "cell_type": "markdown",
   "metadata": {},
   "source": [
    "## Como está a distribuição de deputados por partido? "
   ]
  },
  {
   "cell_type": "markdown",
   "metadata": {},
   "source": [
    "Podemos utilizar a biblioteca do **seaborn** para fazer algumas análises rápidas."
   ]
  },
  {
   "cell_type": "code",
   "execution_count": 66,
   "metadata": {},
   "outputs": [
    {
     "data": {
      "text/plain": [
       "Text(0.5, 0, '')"
      ]
     },
     "execution_count": 66,
     "metadata": {},
     "output_type": "execute_result"
    },
    {
     "data": {
      "image/png": "[encoded data removed]",
      "text/plain": [
       "<Figure size 1440x288 with 1 Axes>"
      ]
     },
     "metadata": {
      "needs_background": "light"
     },
     "output_type": "display_data"
    }
   ],
   "source": [
    "plt.figure(figsize=(20,4))\n",
    "chart = sns.countplot(x=df_deputados.siglaPartido, palette='gnuplot2',\n",
    "                      saturation=0.75, ax=None,\n",
    "                      order=df_deputados.siglaPartido.value_counts().index)\n",
    "chart.set_xticklabels(\n",
    "    chart.get_xticklabels(), \n",
    "    rotation=45, \n",
    "    fontsize='x-large'\n",
    "\n",
    ")\n",
    "plt.title('Distribuição de Partidos da Câmara')\n",
    "plt.grid()\n",
    "plt.xlabel(\"\")"
   ]
  },
  {
   "cell_type": "markdown",
   "metadata": {},
   "source": [
    "## Distribuição de Deputados de Acordo com UF "
   ]
  },
  {
   "cell_type": "code",
   "execution_count": 67,
   "metadata": {},
   "outputs": [
    {
     "data": {
      "text/plain": [
       "Text(0.5, 0, '')"
      ]
     },
     "execution_count": 67,
     "metadata": {},
     "output_type": "execute_result"
    },
    {
     "data": {
      "image/png": "[encoded data removed]",
      "text/plain": [
       "<Figure size 1440x288 with 1 Axes>"
      ]
     },
     "metadata": {
      "needs_background": "light"
     },
     "output_type": "display_data"
    }
   ],
   "source": [
    "plt.figure(figsize=(20,4))\n",
    "chart = sns.countplot(x=df_deputados.siglaUf, palette='gnuplot2',\n",
    "                      saturation=0.75, ax=None,\n",
    "                      order=df_deputados.siglaUf.value_counts().index)\n",
    "chart.set_xticklabels(\n",
    "    chart.get_xticklabels(), \n",
    "    rotation=45, \n",
    "    fontsize='x-large'\n",
    "\n",
    ")\n",
    "plt.title('Distribuição de Partidos da Câmara')\n",
    "plt.grid()\n",
    "plt.xlabel(\"\")"
   ]
  },
  {
   "cell_type": "markdown",
   "metadata": {},
   "source": [
    "# Recuperar Dados de Despesas dos Deputados "
   ]
  },
  {
   "cell_type": "markdown",
   "metadata": {},
   "source": [
    "Algumas queries precisam ser paginadas, pois o resultado não vem completo na mesma resposta. Isso otimiza a comunicação com a API e evita que uma mensagem muito longa seja transportada. Assim, precisa-se iterar sob as páginas retornadas no atributo *links* da resposta."
   ]
  },
  {
   "cell_type": "code",
   "execution_count": 182,
   "metadata": {},
   "outputs": [],
   "source": [
    "def get_page_results(url, output_list):\n",
    "        obj = requests.get(url).json()\n",
    "        df_data = pd.DataFrame.from_dict(obj['dados'])\n",
    "        df_links = pd.DataFrame.from_dict(obj['links']).set_index('rel')\n",
    "        output_list.append(df_data)\n",
    "        if 'next' in df_links.index:\n",
    "            get_page_results(df_links.loc['next'].href, output_list)"
   ]
  },
  {
   "cell_type": "code",
   "execution_count": 227,
   "metadata": {},
   "outputs": [
    {
     "name": "stdout",
     "output_type": "stream",
     "text": [
      "Coletando os dados do deputado 1 / 513\n",
      "Coletando os dados do deputado 2 / 513\n",
      "Coletando os dados do deputado 3 / 513\n",
      "Coletando os dados do deputado 4 / 513\n",
      "Coletando os dados do deputado 5 / 513\n",
      "Coletando os dados do deputado 6 / 513\n",
      "Coletando os dados do deputado 7 / 513\n",
      "Coletando os dados do deputado 8 / 513\n",
      "Coletando os dados do deputado 9 / 513\n",
      "Coletando os dados do deputado 10 / 513\n",
      "Coletando os dados do deputado 11 / 513\n",
      "Coletando os dados do deputado 12 / 513\n",
      "Coletando os dados do deputado 13 / 513\n",
      "Coletando os dados do deputado 14 / 513\n",
      "Coletando os dados do deputado 15 / 513\n",
      "Coletando os dados do deputado 16 / 513\n",
      "Coletando os dados do deputado 17 / 513\n",
      "Coletando os dados do deputado 18 / 513\n",
      "Coletando os dados do deputado 19 / 513\n",
      "Coletando os dados do deputado 20 / 513\n",
      "Coletando os dados do deputado 21 / 513\n",
      "Coletando os dados do deputado 22 / 513\n",
      "Coletando os dados do deputado 23 / 513\n",
      "Coletando os dados do deputado 24 / 513\n",
      "Coletando os dados do deputado 25 / 513\n",
      "Coletando os dados do deputado 26 / 513\n",
      "Coletando os dados do deputado 27 / 513\n",
      "Coletando os dados do deputado 28 / 513\n",
      "Coletando os dados do deputado 29 / 513\n",
      "Coletando os dados do deputado 30 / 513\n",
      "Coletando os dados do deputado 31 / 513\n",
      "Coletando os dados do deputado 32 / 513\n",
      "Coletando os dados do deputado 33 / 513\n",
      "Coletando os dados do deputado 34 / 513\n",
      "Coletando os dados do deputado 35 / 513\n",
      "Coletando os dados do deputado 36 / 513\n",
      "Coletando os dados do deputado 37 / 513\n",
      "Coletando os dados do deputado 38 / 513\n",
      "Coletando os dados do deputado 39 / 513\n",
      "Coletando os dados do deputado 40 / 513\n",
      "Coletando os dados do deputado 41 / 513\n",
      "Coletando os dados do deputado 42 / 513\n",
      "Coletando os dados do deputado 43 / 513\n",
      "Coletando os dados do deputado 44 / 513\n",
      "Coletando os dados do deputado 45 / 513\n",
      "Coletando os dados do deputado 46 / 513\n",
      "Coletando os dados do deputado 47 / 513\n",
      "Coletando os dados do deputado 48 / 513\n",
      "Coletando os dados do deputado 49 / 513\n",
      "Coletando os dados do deputado 50 / 513\n",
      "Coletando os dados do deputado 51 / 513\n",
      "Coletando os dados do deputado 52 / 513\n",
      "Coletando os dados do deputado 53 / 513\n",
      "Coletando os dados do deputado 54 / 513\n",
      "Coletando os dados do deputado 55 / 513\n",
      "Coletando os dados do deputado 56 / 513\n",
      "Coletando os dados do deputado 57 / 513\n",
      "Coletando os dados do deputado 58 / 513\n",
      "Coletando os dados do deputado 59 / 513\n",
      "Coletando os dados do deputado 60 / 513\n",
      "Coletando os dados do deputado 61 / 513\n",
      "Coletando os dados do deputado 62 / 513\n",
      "Coletando os dados do deputado 63 / 513\n",
      "Coletando os dados do deputado 64 / 513\n",
      "Coletando os dados do deputado 65 / 513\n",
      "Coletando os dados do deputado 66 / 513\n",
      "Coletando os dados do deputado 67 / 513\n",
      "Coletando os dados do deputado 68 / 513\n",
      "Coletando os dados do deputado 69 / 513\n",
      "Coletando os dados do deputado 70 / 513\n",
      "Coletando os dados do deputado 71 / 513\n",
      "Coletando os dados do deputado 72 / 513\n",
      "Coletando os dados do deputado 73 / 513\n",
      "Coletando os dados do deputado 74 / 513\n",
      "Coletando os dados do deputado 75 / 513\n",
      "Coletando os dados do deputado 76 / 513\n",
      "Coletando os dados do deputado 77 / 513\n",
      "Coletando os dados do deputado 78 / 513\n",
      "Coletando os dados do deputado 79 / 513\n",
      "Coletando os dados do deputado 80 / 513\n",
      "Coletando os dados do deputado 81 / 513\n",
      "Coletando os dados do deputado 82 / 513\n",
      "Coletando os dados do deputado 83 / 513\n",
      "Coletando os dados do deputado 84 / 513\n",
      "Coletando os dados do deputado 85 / 513\n",
      "Coletando os dados do deputado 86 / 513\n",
      "Coletando os dados do deputado 87 / 513\n",
      "Coletando os dados do deputado 88 / 513\n",
      "Coletando os dados do deputado 89 / 513\n",
      "Coletando os dados do deputado 90 / 513\n",
      "Coletando os dados do deputado 91 / 513\n",
      "Coletando os dados do deputado 92 / 513\n",
      "Coletando os dados do deputado 93 / 513\n",
      "Coletando os dados do deputado 94 / 513\n",
      "Coletando os dados do deputado 95 / 513\n",
      "Coletando os dados do deputado 96 / 513\n",
      "Coletando os dados do deputado 97 / 513\n",
      "Coletando os dados do deputado 98 / 513\n",
      "Coletando os dados do deputado 99 / 513\n",
      "Coletando os dados do deputado 100 / 513\n",
      "Coletando os dados do deputado 101 / 513\n",
      "Coletando os dados do deputado 102 / 513\n",
      "Coletando os dados do deputado 103 / 513\n",
      "Coletando os dados do deputado 104 / 513\n",
      "Coletando os dados do deputado 105 / 513\n",
      "Coletando os dados do deputado 106 / 513\n",
      "Coletando os dados do deputado 107 / 513\n",
      "Coletando os dados do deputado 108 / 513\n",
      "Coletando os dados do deputado 109 / 513\n",
      "Coletando os dados do deputado 110 / 513\n",
      "Coletando os dados do deputado 111 / 513\n",
      "Coletando os dados do deputado 112 / 513\n",
      "Coletando os dados do deputado 113 / 513\n",
      "Coletando os dados do deputado 114 / 513\n",
      "Coletando os dados do deputado 115 / 513\n",
      "Coletando os dados do deputado 116 / 513\n",
      "Coletando os dados do deputado 117 / 513\n",
      "Coletando os dados do deputado 118 / 513\n",
      "Coletando os dados do deputado 119 / 513\n",
      "Coletando os dados do deputado 120 / 513\n",
      "Coletando os dados do deputado 121 / 513\n",
      "Coletando os dados do deputado 122 / 513\n",
      "Coletando os dados do deputado 123 / 513\n",
      "Coletando os dados do deputado 124 / 513\n",
      "Coletando os dados do deputado 125 / 513\n",
      "Coletando os dados do deputado 126 / 513\n",
      "Coletando os dados do deputado 127 / 513\n",
      "Coletando os dados do deputado 128 / 513\n",
      "Coletando os dados do deputado 129 / 513\n",
      "Coletando os dados do deputado 130 / 513\n",
      "Coletando os dados do deputado 131 / 513\n",
      "Coletando os dados do deputado 132 / 513\n",
      "Coletando os dados do deputado 133 / 513\n",
      "Coletando os dados do deputado 134 / 513\n",
      "Coletando os dados do deputado 135 / 513\n",
      "Coletando os dados do deputado 136 / 513\n",
      "Coletando os dados do deputado 137 / 513\n",
      "Coletando os dados do deputado 138 / 513\n",
      "Coletando os dados do deputado 139 / 513\n",
      "Coletando os dados do deputado 140 / 513\n",
      "Coletando os dados do deputado 141 / 513\n",
      "Coletando os dados do deputado 142 / 513\n",
      "Coletando os dados do deputado 143 / 513\n",
      "Coletando os dados do deputado 144 / 513\n",
      "Coletando os dados do deputado 145 / 513\n",
      "Coletando os dados do deputado 146 / 513\n",
      "Coletando os dados do deputado 147 / 513\n",
      "Coletando os dados do deputado 148 / 513\n",
      "Coletando os dados do deputado 149 / 513\n",
      "Coletando os dados do deputado 150 / 513\n",
      "Coletando os dados do deputado 151 / 513\n",
      "Coletando os dados do deputado 152 / 513\n",
      "Coletando os dados do deputado 153 / 513\n",
      "Coletando os dados do deputado 154 / 513\n",
      "Coletando os dados do deputado 155 / 513\n",
      "Coletando os dados do deputado 156 / 513\n",
      "Coletando os dados do deputado 157 / 513\n",
      "Coletando os dados do deputado 158 / 513\n",
      "Coletando os dados do deputado 159 / 513\n",
      "Coletando os dados do deputado 160 / 513\n",
      "Coletando os dados do deputado 161 / 513\n",
      "Coletando os dados do deputado 162 / 513\n",
      "Coletando os dados do deputado 163 / 513\n",
      "Coletando os dados do deputado 164 / 513\n",
      "Coletando os dados do deputado 165 / 513\n",
      "Coletando os dados do deputado 166 / 513\n",
      "Coletando os dados do deputado 167 / 513\n",
      "Coletando os dados do deputado 168 / 513\n",
      "Coletando os dados do deputado 169 / 513\n",
      "Coletando os dados do deputado 170 / 513\n",
      "Coletando os dados do deputado 171 / 513\n",
      "Coletando os dados do deputado 172 / 513\n",
      "Coletando os dados do deputado 173 / 513\n",
      "Coletando os dados do deputado 174 / 513\n",
      "Coletando os dados do deputado 175 / 513\n",
      "Coletando os dados do deputado 176 / 513\n",
      "Coletando os dados do deputado 177 / 513\n",
      "Coletando os dados do deputado 178 / 513\n",
      "Coletando os dados do deputado 179 / 513\n",
      "Coletando os dados do deputado 180 / 513\n",
      "Coletando os dados do deputado 181 / 513\n",
      "Coletando os dados do deputado 182 / 513\n",
      "Coletando os dados do deputado 183 / 513\n",
      "Coletando os dados do deputado 184 / 513\n",
      "Coletando os dados do deputado 185 / 513\n",
      "Coletando os dados do deputado 186 / 513\n",
      "Coletando os dados do deputado 187 / 513\n",
      "Coletando os dados do deputado 188 / 513\n",
      "Coletando os dados do deputado 189 / 513\n",
      "Coletando os dados do deputado 190 / 513\n",
      "Coletando os dados do deputado 191 / 513\n",
      "Coletando os dados do deputado 192 / 513\n",
      "Coletando os dados do deputado 193 / 513\n",
      "Coletando os dados do deputado 194 / 513\n",
      "Coletando os dados do deputado 195 / 513\n",
      "Coletando os dados do deputado 196 / 513\n",
      "Coletando os dados do deputado 197 / 513\n",
      "Coletando os dados do deputado 198 / 513\n",
      "Coletando os dados do deputado 199 / 513\n",
      "Coletando os dados do deputado 200 / 513\n",
      "Coletando os dados do deputado 201 / 513\n",
      "Coletando os dados do deputado 202 / 513\n",
      "Coletando os dados do deputado 203 / 513\n",
      "Coletando os dados do deputado 204 / 513\n",
      "Coletando os dados do deputado 205 / 513\n",
      "Coletando os dados do deputado 206 / 513\n",
      "Coletando os dados do deputado 207 / 513\n",
      "Coletando os dados do deputado 208 / 513\n",
      "Coletando os dados do deputado 209 / 513\n",
      "Coletando os dados do deputado 210 / 513\n",
      "Coletando os dados do deputado 211 / 513\n",
      "Coletando os dados do deputado 212 / 513\n",
      "Coletando os dados do deputado 213 / 513\n",
      "Coletando os dados do deputado 214 / 513\n",
      "Coletando os dados do deputado 215 / 513\n",
      "Coletando os dados do deputado 216 / 513\n",
      "Coletando os dados do deputado 217 / 513\n",
      "Coletando os dados do deputado 218 / 513\n",
      "Coletando os dados do deputado 219 / 513\n",
      "Coletando os dados do deputado 220 / 513\n",
      "Coletando os dados do deputado 221 / 513\n",
      "Coletando os dados do deputado 222 / 513\n",
      "Coletando os dados do deputado 223 / 513\n",
      "Coletando os dados do deputado 224 / 513\n",
      "Coletando os dados do deputado 225 / 513\n",
      "Coletando os dados do deputado 226 / 513\n",
      "Coletando os dados do deputado 227 / 513\n",
      "Coletando os dados do deputado 228 / 513\n",
      "Coletando os dados do deputado 229 / 513\n",
      "Coletando os dados do deputado 230 / 513\n",
      "Coletando os dados do deputado 231 / 513\n",
      "Coletando os dados do deputado 232 / 513\n",
      "Coletando os dados do deputado 233 / 513\n",
      "Coletando os dados do deputado 234 / 513\n",
      "Coletando os dados do deputado 235 / 513\n",
      "Coletando os dados do deputado 236 / 513\n",
      "Coletando os dados do deputado 237 / 513\n",
      "Coletando os dados do deputado 238 / 513\n",
      "Coletando os dados do deputado 239 / 513\n",
      "Coletando os dados do deputado 240 / 513\n",
      "Coletando os dados do deputado 241 / 513\n",
      "Coletando os dados do deputado 242 / 513\n",
      "Coletando os dados do deputado 243 / 513\n",
      "Coletando os dados do deputado 244 / 513\n",
      "Coletando os dados do deputado 245 / 513\n",
      "Coletando os dados do deputado 246 / 513\n",
      "Coletando os dados do deputado 247 / 513\n",
      "Coletando os dados do deputado 248 / 513\n",
      "Coletando os dados do deputado 249 / 513\n",
      "Coletando os dados do deputado 250 / 513\n",
      "Coletando os dados do deputado 251 / 513\n",
      "Coletando os dados do deputado 252 / 513\n",
      "Coletando os dados do deputado 253 / 513\n",
      "Coletando os dados do deputado 254 / 513\n",
      "Coletando os dados do deputado 255 / 513\n",
      "Coletando os dados do deputado 256 / 513\n",
      "Coletando os dados do deputado 257 / 513\n",
      "Coletando os dados do deputado 258 / 513\n",
      "Coletando os dados do deputado 259 / 513\n",
      "Coletando os dados do deputado 260 / 513\n",
      "Coletando os dados do deputado 261 / 513\n",
      "Coletando os dados do deputado 262 / 513\n",
      "Coletando os dados do deputado 263 / 513\n",
      "Coletando os dados do deputado 264 / 513\n",
      "Coletando os dados do deputado 265 / 513\n",
      "Coletando os dados do deputado 266 / 513\n",
      "Coletando os dados do deputado 267 / 513\n",
      "Coletando os dados do deputado 268 / 513\n",
      "Coletando os dados do deputado 269 / 513\n",
      "Coletando os dados do deputado 270 / 513\n",
      "Coletando os dados do deputado 271 / 513\n",
      "Coletando os dados do deputado 272 / 513\n",
      "Coletando os dados do deputado 273 / 513\n",
      "Coletando os dados do deputado 274 / 513\n",
      "Coletando os dados do deputado 275 / 513\n",
      "Coletando os dados do deputado 276 / 513\n",
      "Coletando os dados do deputado 277 / 513\n",
      "Coletando os dados do deputado 278 / 513\n",
      "Coletando os dados do deputado 279 / 513\n",
      "Coletando os dados do deputado 280 / 513\n",
      "Coletando os dados do deputado 281 / 513\n",
      "Coletando os dados do deputado 282 / 513\n",
      "Coletando os dados do deputado 283 / 513\n",
      "Coletando os dados do deputado 284 / 513\n",
      "Coletando os dados do deputado 285 / 513\n",
      "Coletando os dados do deputado 286 / 513\n",
      "Coletando os dados do deputado 287 / 513\n",
      "Coletando os dados do deputado 288 / 513\n",
      "Coletando os dados do deputado 289 / 513\n",
      "Coletando os dados do deputado 290 / 513\n",
      "Coletando os dados do deputado 291 / 513\n",
      "Coletando os dados do deputado 292 / 513\n",
      "Coletando os dados do deputado 293 / 513\n",
      "Coletando os dados do deputado 294 / 513\n",
      "Coletando os dados do deputado 295 / 513\n",
      "Coletando os dados do deputado 296 / 513\n",
      "Coletando os dados do deputado 297 / 513\n",
      "Coletando os dados do deputado 298 / 513\n",
      "Coletando os dados do deputado 299 / 513\n",
      "Coletando os dados do deputado 300 / 513\n",
      "Coletando os dados do deputado 301 / 513\n",
      "Coletando os dados do deputado 302 / 513\n",
      "Coletando os dados do deputado 303 / 513\n",
      "Coletando os dados do deputado 304 / 513\n",
      "Coletando os dados do deputado 305 / 513\n",
      "Coletando os dados do deputado 306 / 513\n",
      "Coletando os dados do deputado 307 / 513\n",
      "Coletando os dados do deputado 308 / 513\n",
      "Coletando os dados do deputado 309 / 513\n",
      "Coletando os dados do deputado 310 / 513\n",
      "Coletando os dados do deputado 311 / 513\n",
      "Coletando os dados do deputado 312 / 513\n",
      "Coletando os dados do deputado 313 / 513\n",
      "Coletando os dados do deputado 314 / 513\n",
      "Coletando os dados do deputado 315 / 513\n",
      "Coletando os dados do deputado 316 / 513\n",
      "Coletando os dados do deputado 317 / 513\n",
      "Coletando os dados do deputado 318 / 513\n",
      "Coletando os dados do deputado 319 / 513\n",
      "Coletando os dados do deputado 320 / 513\n",
      "Coletando os dados do deputado 321 / 513\n",
      "Coletando os dados do deputado 322 / 513\n",
      "Coletando os dados do deputado 323 / 513\n",
      "Coletando os dados do deputado 324 / 513\n",
      "Coletando os dados do deputado 325 / 513\n",
      "Coletando os dados do deputado 326 / 513\n",
      "Coletando os dados do deputado 327 / 513\n",
      "Coletando os dados do deputado 328 / 513\n",
      "Coletando os dados do deputado 329 / 513\n",
      "Coletando os dados do deputado 330 / 513\n",
      "Coletando os dados do deputado 331 / 513\n",
      "Coletando os dados do deputado 332 / 513\n",
      "Coletando os dados do deputado 333 / 513\n",
      "Coletando os dados do deputado 334 / 513\n",
      "Coletando os dados do deputado 335 / 513\n",
      "Coletando os dados do deputado 336 / 513\n",
      "Coletando os dados do deputado 337 / 513\n",
      "Coletando os dados do deputado 338 / 513\n",
      "Coletando os dados do deputado 339 / 513\n",
      "Coletando os dados do deputado 340 / 513\n",
      "Coletando os dados do deputado 341 / 513\n",
      "Coletando os dados do deputado 342 / 513\n",
      "Coletando os dados do deputado 343 / 513\n",
      "Coletando os dados do deputado 344 / 513\n",
      "Coletando os dados do deputado 345 / 513\n",
      "Coletando os dados do deputado 346 / 513\n",
      "Coletando os dados do deputado 347 / 513\n",
      "Coletando os dados do deputado 348 / 513\n",
      "Coletando os dados do deputado 349 / 513\n",
      "Coletando os dados do deputado 350 / 513\n",
      "Coletando os dados do deputado 351 / 513\n",
      "Coletando os dados do deputado 352 / 513\n",
      "Coletando os dados do deputado 353 / 513\n",
      "Coletando os dados do deputado 354 / 513\n",
      "Coletando os dados do deputado 355 / 513\n",
      "Coletando os dados do deputado 356 / 513\n",
      "Coletando os dados do deputado 357 / 513\n",
      "Coletando os dados do deputado 358 / 513\n",
      "Coletando os dados do deputado 359 / 513\n",
      "Coletando os dados do deputado 360 / 513\n",
      "Coletando os dados do deputado 361 / 513\n",
      "Coletando os dados do deputado 362 / 513\n",
      "Coletando os dados do deputado 363 / 513\n",
      "Coletando os dados do deputado 364 / 513\n",
      "Coletando os dados do deputado 365 / 513\n",
      "Coletando os dados do deputado 366 / 513\n",
      "Coletando os dados do deputado 367 / 513\n",
      "Coletando os dados do deputado 368 / 513\n",
      "Coletando os dados do deputado 369 / 513\n",
      "Coletando os dados do deputado 370 / 513\n",
      "Coletando os dados do deputado 371 / 513\n",
      "Coletando os dados do deputado 372 / 513\n",
      "Coletando os dados do deputado 373 / 513\n",
      "Coletando os dados do deputado 374 / 513\n",
      "Coletando os dados do deputado 375 / 513\n",
      "Coletando os dados do deputado 376 / 513\n",
      "Coletando os dados do deputado 377 / 513\n",
      "Coletando os dados do deputado 378 / 513\n",
      "Coletando os dados do deputado 379 / 513\n",
      "Coletando os dados do deputado 380 / 513\n",
      "Coletando os dados do deputado 381 / 513\n",
      "Coletando os dados do deputado 382 / 513\n",
      "Coletando os dados do deputado 383 / 513\n",
      "Coletando os dados do deputado 384 / 513\n",
      "Coletando os dados do deputado 385 / 513\n",
      "Coletando os dados do deputado 386 / 513\n",
      "Coletando os dados do deputado 387 / 513\n",
      "Coletando os dados do deputado 388 / 513\n",
      "Coletando os dados do deputado 389 / 513\n",
      "Coletando os dados do deputado 390 / 513\n",
      "Coletando os dados do deputado 391 / 513\n",
      "Coletando os dados do deputado 392 / 513\n",
      "Coletando os dados do deputado 393 / 513\n",
      "Coletando os dados do deputado 394 / 513\n",
      "Coletando os dados do deputado 395 / 513\n",
      "Coletando os dados do deputado 396 / 513\n",
      "Coletando os dados do deputado 397 / 513\n",
      "Coletando os dados do deputado 398 / 513\n",
      "Coletando os dados do deputado 399 / 513\n",
      "Coletando os dados do deputado 400 / 513\n",
      "Coletando os dados do deputado 401 / 513\n",
      "Coletando os dados do deputado 402 / 513\n",
      "Coletando os dados do deputado 403 / 513\n",
      "Coletando os dados do deputado 404 / 513\n",
      "Coletando os dados do deputado 405 / 513\n",
      "Coletando os dados do deputado 406 / 513\n",
      "Coletando os dados do deputado 407 / 513\n",
      "Coletando os dados do deputado 408 / 513\n",
      "Coletando os dados do deputado 409 / 513\n",
      "Coletando os dados do deputado 410 / 513\n",
      "Coletando os dados do deputado 411 / 513\n",
      "Coletando os dados do deputado 412 / 513\n",
      "Coletando os dados do deputado 413 / 513\n",
      "Coletando os dados do deputado 414 / 513\n",
      "Coletando os dados do deputado 415 / 513\n",
      "Coletando os dados do deputado 416 / 513\n",
      "Coletando os dados do deputado 417 / 513\n",
      "Coletando os dados do deputado 418 / 513\n",
      "Coletando os dados do deputado 419 / 513\n",
      "Coletando os dados do deputado 420 / 513\n",
      "Coletando os dados do deputado 421 / 513\n",
      "Coletando os dados do deputado 422 / 513\n",
      "Coletando os dados do deputado 423 / 513\n",
      "Coletando os dados do deputado 424 / 513\n",
      "Coletando os dados do deputado 425 / 513\n",
      "Coletando os dados do deputado 426 / 513\n",
      "Coletando os dados do deputado 427 / 513\n",
      "Coletando os dados do deputado 428 / 513\n",
      "Coletando os dados do deputado 429 / 513\n",
      "Coletando os dados do deputado 430 / 513\n",
      "Coletando os dados do deputado 431 / 513\n",
      "Coletando os dados do deputado 432 / 513\n",
      "Coletando os dados do deputado 433 / 513\n",
      "Coletando os dados do deputado 434 / 513\n",
      "Coletando os dados do deputado 435 / 513\n",
      "Coletando os dados do deputado 436 / 513\n",
      "Coletando os dados do deputado 437 / 513\n",
      "Coletando os dados do deputado 438 / 513\n",
      "Coletando os dados do deputado 439 / 513\n",
      "Coletando os dados do deputado 440 / 513\n",
      "Coletando os dados do deputado 441 / 513\n",
      "Coletando os dados do deputado 442 / 513\n",
      "Coletando os dados do deputado 443 / 513\n",
      "Coletando os dados do deputado 444 / 513\n",
      "Coletando os dados do deputado 445 / 513\n",
      "Coletando os dados do deputado 446 / 513\n",
      "Coletando os dados do deputado 447 / 513\n",
      "Coletando os dados do deputado 448 / 513\n",
      "Coletando os dados do deputado 449 / 513\n",
      "Coletando os dados do deputado 450 / 513\n",
      "Coletando os dados do deputado 451 / 513\n",
      "Coletando os dados do deputado 452 / 513\n",
      "Coletando os dados do deputado 453 / 513\n",
      "Coletando os dados do deputado 454 / 513\n",
      "Coletando os dados do deputado 455 / 513\n",
      "Coletando os dados do deputado 456 / 513\n",
      "Coletando os dados do deputado 457 / 513\n",
      "Coletando os dados do deputado 458 / 513\n",
      "Coletando os dados do deputado 459 / 513\n",
      "Coletando os dados do deputado 460 / 513\n",
      "Coletando os dados do deputado 461 / 513\n",
      "Coletando os dados do deputado 462 / 513\n",
      "Coletando os dados do deputado 463 / 513\n",
      "Coletando os dados do deputado 464 / 513\n",
      "Coletando os dados do deputado 465 / 513\n",
      "Coletando os dados do deputado 466 / 513\n",
      "Coletando os dados do deputado 467 / 513\n",
      "Coletando os dados do deputado 468 / 513\n",
      "Coletando os dados do deputado 469 / 513\n",
      "Coletando os dados do deputado 470 / 513\n",
      "Coletando os dados do deputado 471 / 513\n",
      "Coletando os dados do deputado 472 / 513\n",
      "Coletando os dados do deputado 473 / 513\n",
      "Coletando os dados do deputado 474 / 513\n",
      "Coletando os dados do deputado 475 / 513\n",
      "Coletando os dados do deputado 476 / 513\n",
      "Coletando os dados do deputado 477 / 513\n",
      "Coletando os dados do deputado 478 / 513\n",
      "Coletando os dados do deputado 479 / 513\n",
      "Coletando os dados do deputado 480 / 513\n",
      "Coletando os dados do deputado 481 / 513\n",
      "Coletando os dados do deputado 482 / 513\n",
      "Coletando os dados do deputado 483 / 513\n",
      "Coletando os dados do deputado 484 / 513\n",
      "Coletando os dados do deputado 485 / 513\n",
      "Coletando os dados do deputado 486 / 513\n",
      "Coletando os dados do deputado 487 / 513\n",
      "Coletando os dados do deputado 488 / 513\n",
      "Coletando os dados do deputado 489 / 513\n",
      "Coletando os dados do deputado 490 / 513\n",
      "Coletando os dados do deputado 491 / 513\n",
      "Coletando os dados do deputado 492 / 513\n",
      "Coletando os dados do deputado 493 / 513\n",
      "Coletando os dados do deputado 494 / 513\n",
      "Coletando os dados do deputado 495 / 513\n",
      "Coletando os dados do deputado 496 / 513\n",
      "Coletando os dados do deputado 497 / 513\n",
      "Coletando os dados do deputado 498 / 513\n",
      "Coletando os dados do deputado 499 / 513\n",
      "Coletando os dados do deputado 500 / 513\n",
      "Coletando os dados do deputado 501 / 513\n",
      "Coletando os dados do deputado 502 / 513\n",
      "Coletando os dados do deputado 503 / 513\n",
      "Coletando os dados do deputado 504 / 513\n",
      "Coletando os dados do deputado 505 / 513\n",
      "Coletando os dados do deputado 506 / 513\n",
      "Coletando os dados do deputado 507 / 513\n",
      "Coletando os dados do deputado 508 / 513\n",
      "Coletando os dados do deputado 509 / 513\n",
      "Coletando os dados do deputado 510 / 513\n",
      "Coletando os dados do deputado 511 / 513\n",
      "Coletando os dados do deputado 512 / 513\n"
     ]
    },
    {
     "name": "stderr",
     "output_type": "stream",
     "text": [
      "C:\\Users\\BZ241WX\\AppData\\Local\\Continuum\\anaconda3\\lib\\site-packages\\ipykernel_launcher.py:19: FutureWarning: Sorting because non-concatenation axis is not aligned. A future version\n",
      "of pandas will change to not sort by default.\n",
      "\n",
      "To accept the future behavior, pass 'sort=False'.\n",
      "\n",
      "To retain the current behavior and silence the warning, pass 'sort=True'.\n",
      "\n"
     ]
    }
   ],
   "source": [
    "deputy_expense_list = []\n",
    "max_n_deputies = -1\n",
    "\n",
    "for i, id_deputado in enumerate(df_deputados.idDeputado.unique()[:max_n_deputies]):\n",
    "    print('Coletando os dados do deputado', i+1,'/',df_deputados.idDeputado.nunique())\n",
    "    params = {\n",
    "        'ano': 2019,\n",
    "        'itens': 100\n",
    "    }\n",
    "    url = base_url + 'deputados/' + str(id_deputado) + '/despesas'\n",
    "    url = url + \"?\" + urlencode(params)\n",
    "    expense_list = []\n",
    "    \n",
    "    get_page_results(url, expense_list)\n",
    "    df_expense = pd.concat(expense_list)\n",
    "    df_expense['idDeputado'] = id_deputado\n",
    "    \n",
    "    deputy_expense_list.append(df_expense)\n",
    "df_deputy_expenses = pd.concat(deputy_expense_list)"
   ]
  },
  {
   "cell_type": "code",
   "execution_count": 229,
   "metadata": {},
   "outputs": [],
   "source": [
    "df_deputy_expenses.to_parquet('../../Data/Raw/deputy_expenses.parquet')"
   ]
  },
  {
   "cell_type": "code",
   "execution_count": 230,
   "metadata": {},
   "outputs": [],
   "source": [
    "group_cols = ['idDeputado','tipoDespesa']\n",
    "measure_cols={\n",
    "    'valorLiquido':'sum',\n",
    "    'cnpjCpfFornecedor':'nunique',\n",
    "    'numDocumento':'nunique',\n",
    "}\n",
    "\n",
    "df_total_deputy_expenses = df_deputy_expenses.groupby(group_cols).agg(measure_cols).reset_index()\n",
    "\n",
    "df_results = df_total_deputy_expenses.merge(df_deputados, on='idDeputado', suffixes=['_deputy','_expense'])"
   ]
  },
  {
   "cell_type": "markdown",
   "metadata": {},
   "source": [
    "# Distribuição de Gastos por Deputado"
   ]
  },
  {
   "cell_type": "code",
   "execution_count": 238,
   "metadata": {},
   "outputs": [
    {
     "data": {
      "text/plain": [
       "<matplotlib.axes._subplots.AxesSubplot at 0x1848e94e4c8>"
      ]
     },
     "execution_count": 238,
     "metadata": {},
     "output_type": "execute_result"
    },
    {
     "data": {
      "image/png": "[encoded data removed]",
      "text/plain": [
       "<Figure size 432x288 with 1 Axes>"
      ]
     },
     "metadata": {
      "needs_background": "light"
     },
     "output_type": "display_data"
    }
   ],
   "source": [
    "X =  df_results.groupby('nome').valorLiquido.sum().sort_values() * 1e-3\n",
    "\n",
    "X.hist(bins=50)"
   ]
  },
  {
   "cell_type": "markdown",
   "metadata": {},
   "source": [
    "# Top Gastos "
   ]
  },
  {
   "cell_type": "code",
   "execution_count": 235,
   "metadata": {},
   "outputs": [
    {
     "data": {
      "text/plain": [
       "Text(0.5, 0, 'x Mil (R$)')"
      ]
     },
     "execution_count": 235,
     "metadata": {},
     "output_type": "execute_result"
    },
    {
     "data": {
      "image/png": "[encoded data removed]",
      "text/plain": [
       "<Figure size 432x864 with 1 Axes>"
      ]
     },
     "metadata": {
      "needs_background": "light"
     },
     "output_type": "display_data"
    }
   ],
   "source": [
    "\n",
    "plt.figure(figsize=(6,12))\n",
    "\n",
    "nshow = 20\n",
    "\n",
    "X = df_results.groupby('nome').valorLiquido.sum().sort_values() * 1e-3\n",
    "X.iloc[-nshow:].plot.barh(color='k')\n",
    "plt.xlabel('x Mil (R$)')"
   ]
  },
  {
   "cell_type": "code",
   "execution_count": 239,
   "metadata": {},
   "outputs": [
    {
     "data": {
      "text/plain": [
       "Text(0.5, 0, 'x Mil (R$)')"
      ]
     },
     "execution_count": 239,
     "metadata": {},
     "output_type": "execute_result"
    },
    {
     "data": {
      "image/png": "[encoded data removed]",
      "text/plain": [
       "<Figure size 432x432 with 1 Axes>"
      ]
     },
     "metadata": {
      "needs_background": "light"
     },
     "output_type": "display_data"
    }
   ],
   "source": [
    "plt.figure(figsize=(6,6))\n",
    "X = df_results.groupby('tipoDespesa').valorLiquido.sum().sort_values() * 1e-3\n",
    "X.plot.barh(color='k')\n",
    "plt.xlabel('x Mil (R$)')"
   ]
  }
 ],
 "metadata": {
  "kernelspec": {
   "display_name": "Python 3",
   "language": "python",
   "name": "python3"
  },
  "language_info": {
   "codemirror_mode": {
    "name": "ipython",
    "version": 3
   },
   "file_extension": ".py",
   "mimetype": "text/x-python",
   "name": "python",
   "nbconvert_exporter": "python",
   "pygments_lexer": "ipython3",
   "version": "3.7.4"
  }
 },
 "nbformat": 4,
 "nbformat_minor": 4
}
