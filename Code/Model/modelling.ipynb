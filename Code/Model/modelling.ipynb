{
 "cells": [
  {
   "cell_type": "code",
   "execution_count": 105,
   "metadata": {},
   "outputs": [],
   "source": [
    "import os\n",
    "import pandas as pd\n",
    "import seaborn as sns\n",
    "import numpy as np\n",
    "import matplotlib.pyplot as plt\n",
    "from fbprophet import Prophet\n",
    "import pickle\n",
    "import scipy.optimize as optim\n",
    "import logging\n",
    "from sklearn.metrics import mean_squared_error, mean_absolute_error\n",
    "plt.style.use('fivethirtyeight') # For plots\n",
    "from datetime import datetime, timedelta\n",
    "c = '#386B7F' # basic color for plots\n",
    "\n",
    "from statsmodels.graphics.tsaplots import plot_acf, plot_pacf\n",
    "\n",
    "import warnings\n",
    "warnings.filterwarnings('ignore')\n",
    "\n",
    "logging.getLogger().setLevel(logging.ERROR)\n",
    "    \n",
    "%matplotlib inline\n",
    "\n",
    "%store -r WORKDIR\n",
    "\n",
    "if 'WORKDIR' not in dir():\n",
    "    WORKDIR = 'C:/Users/thewr/git/mit_data_science.git/'\n",
    "\n",
    "dataset_max_date  = pd.Timestamp('26-Mar-2006')\n",
    "dataset_min_date = pd.Timestamp(dataset_max_date - timedelta(days = 30))\n",
    "\n",
    "time_col = 'ds'\n",
    "target_col = 'y'\n",
    "\n",
    "data_proc_file = WORKDIR + '/Data/Processed/energy_consumption_data_modeling.parquet'\n",
    "model_score_file = WORKDIR + '/Data/Modeling/model_scores.parquet'\n",
    "model_file = WORKDIR + '/Data/Modeling/trained_models.jbl'\n"
   ]
  },
  {
   "cell_type": "markdown",
   "metadata": {},
   "source": [
    "# Carga dos Dados "
   ]
  },
  {
   "cell_type": "code",
   "execution_count": 106,
   "metadata": {},
   "outputs": [
    {
     "name": "stdout",
     "output_type": "stream",
     "text": [
      "<class 'pandas.core.frame.DataFrame'>\n",
      "Int64Index: 8710 entries, 0 to 8709\n",
      "Data columns (total 2 columns):\n",
      "Datetime    8710 non-null datetime64[ns]\n",
      "PJME_MW     8710 non-null float64\n",
      "dtypes: datetime64[ns](1), float64(1)\n",
      "memory usage: 204.1 KB\n"
     ]
    }
   ],
   "source": [
    "pjme = pd.read_parquet(data_proc_file)\n",
    "pjme.info()\n",
    "\n"
   ]
  },
  {
   "cell_type": "code",
   "execution_count": 107,
   "metadata": {},
   "outputs": [],
   "source": [
    "if os.path.exists(model_score_file):\n",
    "    df_score_model = pd.read_parquet(model_score_file)\n",
    "    print(df_score_model['date_end'][0])\n",
    "    if not df_score_model.empty:\n",
    "        date_end = pd.Timestamp(df_score_model['date_end'][0].strftime('%Y.%m.%d'))    \n",
    "    if pd.notnull(date_end):\n",
    "        dataset_max_date  = pd.Timestamp(date_end + timedelta(days = 5))\n",
    "else: dataset_max_date  = dataset_max_date  \n"
   ]
  },
  {
   "cell_type": "code",
   "execution_count": 108,
   "metadata": {},
   "outputs": [
    {
     "name": "stdout",
     "output_type": "stream",
     "text": [
      "2006-03-26 00:00:00\n"
     ]
    }
   ],
   "source": [
    "print(dataset_max_date)"
   ]
  },
  {
   "cell_type": "code",
   "execution_count": 109,
   "metadata": {},
   "outputs": [],
   "source": [
    "dataset_min_date = pd.Timestamp(dataset_max_date - timedelta(days = 30))"
   ]
  },
  {
   "cell_type": "code",
   "execution_count": 110,
   "metadata": {},
   "outputs": [
    {
     "name": "stdout",
     "output_type": "stream",
     "text": [
      "2006-02-24 00:00:00\n"
     ]
    }
   ],
   "source": [
    "print(dataset_min_date)                 "
   ]
  },
  {
   "cell_type": "code",
   "execution_count": null,
   "metadata": {},
   "outputs": [],
   "source": []
  },
  {
   "cell_type": "code",
   "execution_count": 111,
   "metadata": {},
   "outputs": [
    {
     "data": {
      "text/html": [
       "<div>\n",
       "<style scoped>\n",
       "    .dataframe tbody tr th:only-of-type {\n",
       "        vertical-align: middle;\n",
       "    }\n",
       "\n",
       "    .dataframe tbody tr th {\n",
       "        vertical-align: top;\n",
       "    }\n",
       "\n",
       "    .dataframe thead th {\n",
       "        text-align: right;\n",
       "    }\n",
       "</style>\n",
       "<table border=\"1\" class=\"dataframe\">\n",
       "  <thead>\n",
       "    <tr style=\"text-align: right;\">\n",
       "      <th></th>\n",
       "      <th>Datetime</th>\n",
       "      <th>PJME_MW</th>\n",
       "    </tr>\n",
       "  </thead>\n",
       "  <tbody>\n",
       "    <tr>\n",
       "      <td>0</td>\n",
       "      <td>2006-01-01 00:00:00</td>\n",
       "      <td>30293.0</td>\n",
       "    </tr>\n",
       "    <tr>\n",
       "      <td>1</td>\n",
       "      <td>2006-01-01 01:00:00</td>\n",
       "      <td>28884.0</td>\n",
       "    </tr>\n",
       "    <tr>\n",
       "      <td>2</td>\n",
       "      <td>2006-01-01 02:00:00</td>\n",
       "      <td>27556.0</td>\n",
       "    </tr>\n",
       "    <tr>\n",
       "      <td>3</td>\n",
       "      <td>2006-01-01 03:00:00</td>\n",
       "      <td>26484.0</td>\n",
       "    </tr>\n",
       "    <tr>\n",
       "      <td>4</td>\n",
       "      <td>2006-01-01 04:00:00</td>\n",
       "      <td>25822.0</td>\n",
       "    </tr>\n",
       "  </tbody>\n",
       "</table>\n",
       "</div>"
      ],
      "text/plain": [
       "             Datetime  PJME_MW\n",
       "0 2006-01-01 00:00:00  30293.0\n",
       "1 2006-01-01 01:00:00  28884.0\n",
       "2 2006-01-01 02:00:00  27556.0\n",
       "3 2006-01-01 03:00:00  26484.0\n",
       "4 2006-01-01 04:00:00  25822.0"
      ]
     },
     "execution_count": 111,
     "metadata": {},
     "output_type": "execute_result"
    }
   ],
   "source": [
    "pjme.head()"
   ]
  },
  {
   "cell_type": "code",
   "execution_count": 112,
   "metadata": {},
   "outputs": [
    {
     "data": {
      "text/plain": [
       "Index(['Datetime', 'PJME_MW'], dtype='object')"
      ]
     },
     "execution_count": 112,
     "metadata": {},
     "output_type": "execute_result"
    }
   ],
   "source": [
    "pjme.columns"
   ]
  },
  {
   "cell_type": "code",
   "execution_count": 113,
   "metadata": {},
   "outputs": [],
   "source": [
    "pjme.set_index('Datetime',inplace=True)"
   ]
  },
  {
   "cell_type": "code",
   "execution_count": 114,
   "metadata": {},
   "outputs": [
    {
     "name": "stdout",
     "output_type": "stream",
     "text": [
      "shape: (721, 1)\n",
      "columns: Index(['PJME_MW'], dtype='object')\n"
     ]
    }
   ],
   "source": [
    "pjme = pjme[dataset_min_date:dataset_max_date]\n",
    "\n",
    "print('shape:', pjme.shape)\n",
    "print('columns:', pjme.columns)"
   ]
  },
  {
   "cell_type": "code",
   "execution_count": null,
   "metadata": {},
   "outputs": [],
   "source": []
  },
  {
   "cell_type": "code",
   "execution_count": 115,
   "metadata": {},
   "outputs": [
    {
     "data": {
      "text/html": [
       "<div>\n",
       "<style scoped>\n",
       "    .dataframe tbody tr th:only-of-type {\n",
       "        vertical-align: middle;\n",
       "    }\n",
       "\n",
       "    .dataframe tbody tr th {\n",
       "        vertical-align: top;\n",
       "    }\n",
       "\n",
       "    .dataframe thead th {\n",
       "        text-align: right;\n",
       "    }\n",
       "</style>\n",
       "<table border=\"1\" class=\"dataframe\">\n",
       "  <thead>\n",
       "    <tr style=\"text-align: right;\">\n",
       "      <th></th>\n",
       "      <th>PJME_MW</th>\n",
       "    </tr>\n",
       "    <tr>\n",
       "      <th>Datetime</th>\n",
       "      <th></th>\n",
       "    </tr>\n",
       "  </thead>\n",
       "  <tbody>\n",
       "    <tr>\n",
       "      <td>2006-02-24 00:00:00</td>\n",
       "      <td>30862.0</td>\n",
       "    </tr>\n",
       "    <tr>\n",
       "      <td>2006-02-24 01:00:00</td>\n",
       "      <td>28921.0</td>\n",
       "    </tr>\n",
       "    <tr>\n",
       "      <td>2006-02-24 02:00:00</td>\n",
       "      <td>27917.0</td>\n",
       "    </tr>\n",
       "    <tr>\n",
       "      <td>2006-02-24 03:00:00</td>\n",
       "      <td>27621.0</td>\n",
       "    </tr>\n",
       "    <tr>\n",
       "      <td>2006-02-24 04:00:00</td>\n",
       "      <td>27727.0</td>\n",
       "    </tr>\n",
       "  </tbody>\n",
       "</table>\n",
       "</div>"
      ],
      "text/plain": [
       "                     PJME_MW\n",
       "Datetime                    \n",
       "2006-02-24 00:00:00  30862.0\n",
       "2006-02-24 01:00:00  28921.0\n",
       "2006-02-24 02:00:00  27917.0\n",
       "2006-02-24 03:00:00  27621.0\n",
       "2006-02-24 04:00:00  27727.0"
      ]
     },
     "execution_count": 115,
     "metadata": {},
     "output_type": "execute_result"
    }
   ],
   "source": [
    "pjme.head()"
   ]
  },
  {
   "cell_type": "code",
   "execution_count": null,
   "metadata": {},
   "outputs": [],
   "source": []
  },
  {
   "cell_type": "code",
   "execution_count": 116,
   "metadata": {},
   "outputs": [
    {
     "data": {
      "text/html": [
       "<div>\n",
       "<style scoped>\n",
       "    .dataframe tbody tr th:only-of-type {\n",
       "        vertical-align: middle;\n",
       "    }\n",
       "\n",
       "    .dataframe tbody tr th {\n",
       "        vertical-align: top;\n",
       "    }\n",
       "\n",
       "    .dataframe thead th {\n",
       "        text-align: right;\n",
       "    }\n",
       "</style>\n",
       "<table border=\"1\" class=\"dataframe\">\n",
       "  <thead>\n",
       "    <tr style=\"text-align: right;\">\n",
       "      <th></th>\n",
       "      <th>PJME_MW</th>\n",
       "    </tr>\n",
       "    <tr>\n",
       "      <th>Datetime</th>\n",
       "      <th></th>\n",
       "    </tr>\n",
       "  </thead>\n",
       "  <tbody>\n",
       "    <tr>\n",
       "      <td>2006-03-25 20:00:00</td>\n",
       "      <td>32353.0</td>\n",
       "    </tr>\n",
       "    <tr>\n",
       "      <td>2006-03-25 21:00:00</td>\n",
       "      <td>31744.0</td>\n",
       "    </tr>\n",
       "    <tr>\n",
       "      <td>2006-03-25 22:00:00</td>\n",
       "      <td>30690.0</td>\n",
       "    </tr>\n",
       "    <tr>\n",
       "      <td>2006-03-25 23:00:00</td>\n",
       "      <td>29235.0</td>\n",
       "    </tr>\n",
       "    <tr>\n",
       "      <td>2006-03-26 00:00:00</td>\n",
       "      <td>27408.0</td>\n",
       "    </tr>\n",
       "  </tbody>\n",
       "</table>\n",
       "</div>"
      ],
      "text/plain": [
       "                     PJME_MW\n",
       "Datetime                    \n",
       "2006-03-25 20:00:00  32353.0\n",
       "2006-03-25 21:00:00  31744.0\n",
       "2006-03-25 22:00:00  30690.0\n",
       "2006-03-25 23:00:00  29235.0\n",
       "2006-03-26 00:00:00  27408.0"
      ]
     },
     "execution_count": 116,
     "metadata": {},
     "output_type": "execute_result"
    }
   ],
   "source": [
    "pjme.tail()"
   ]
  },
  {
   "cell_type": "code",
   "execution_count": 117,
   "metadata": {},
   "outputs": [
    {
     "data": {
      "text/plain": [
       "(721, 1)"
      ]
     },
     "execution_count": 117,
     "metadata": {},
     "output_type": "execute_result"
    }
   ],
   "source": [
    "pjme.shape"
   ]
  },
  {
   "cell_type": "code",
   "execution_count": 118,
   "metadata": {},
   "outputs": [
    {
     "name": "stdout",
     "output_type": "stream",
     "text": [
      "<class 'pandas.core.frame.DataFrame'>\n",
      "DatetimeIndex: 721 entries, 2006-02-24 00:00:00 to 2006-03-26 00:00:00\n",
      "Data columns (total 1 columns):\n",
      "PJME_MW    721 non-null float64\n",
      "dtypes: float64(1)\n",
      "memory usage: 11.3 KB\n"
     ]
    }
   ],
   "source": [
    "pjme.info()"
   ]
  },
  {
   "cell_type": "code",
   "execution_count": 119,
   "metadata": {},
   "outputs": [],
   "source": [
    "pjme = pjme.reset_index()"
   ]
  },
  {
   "cell_type": "code",
   "execution_count": 120,
   "metadata": {},
   "outputs": [],
   "source": [
    "split_date = pd.Timestamp(pjme.iloc[int(pjme.shape[0] * 0.80)]['Datetime'])"
   ]
  },
  {
   "cell_type": "code",
   "execution_count": 121,
   "metadata": {},
   "outputs": [
    {
     "name": "stdout",
     "output_type": "stream",
     "text": [
      "2006-03-20 00:00:00\n"
     ]
    }
   ],
   "source": [
    "print(split_date)"
   ]
  },
  {
   "cell_type": "code",
   "execution_count": 122,
   "metadata": {},
   "outputs": [
    {
     "data": {
      "text/html": [
       "<div>\n",
       "<style scoped>\n",
       "    .dataframe tbody tr th:only-of-type {\n",
       "        vertical-align: middle;\n",
       "    }\n",
       "\n",
       "    .dataframe tbody tr th {\n",
       "        vertical-align: top;\n",
       "    }\n",
       "\n",
       "    .dataframe thead th {\n",
       "        text-align: right;\n",
       "    }\n",
       "</style>\n",
       "<table border=\"1\" class=\"dataframe\">\n",
       "  <thead>\n",
       "    <tr style=\"text-align: right;\">\n",
       "      <th></th>\n",
       "      <th>Datetime</th>\n",
       "      <th>PJME_MW</th>\n",
       "    </tr>\n",
       "  </thead>\n",
       "  <tbody>\n",
       "    <tr>\n",
       "      <td>0</td>\n",
       "      <td>2006-02-24 00:00:00</td>\n",
       "      <td>30862.0</td>\n",
       "    </tr>\n",
       "    <tr>\n",
       "      <td>1</td>\n",
       "      <td>2006-02-24 01:00:00</td>\n",
       "      <td>28921.0</td>\n",
       "    </tr>\n",
       "    <tr>\n",
       "      <td>2</td>\n",
       "      <td>2006-02-24 02:00:00</td>\n",
       "      <td>27917.0</td>\n",
       "    </tr>\n",
       "    <tr>\n",
       "      <td>3</td>\n",
       "      <td>2006-02-24 03:00:00</td>\n",
       "      <td>27621.0</td>\n",
       "    </tr>\n",
       "    <tr>\n",
       "      <td>4</td>\n",
       "      <td>2006-02-24 04:00:00</td>\n",
       "      <td>27727.0</td>\n",
       "    </tr>\n",
       "  </tbody>\n",
       "</table>\n",
       "</div>"
      ],
      "text/plain": [
       "             Datetime  PJME_MW\n",
       "0 2006-02-24 00:00:00  30862.0\n",
       "1 2006-02-24 01:00:00  28921.0\n",
       "2 2006-02-24 02:00:00  27917.0\n",
       "3 2006-02-24 03:00:00  27621.0\n",
       "4 2006-02-24 04:00:00  27727.0"
      ]
     },
     "execution_count": 122,
     "metadata": {},
     "output_type": "execute_result"
    }
   ],
   "source": [
    "pjme.head()"
   ]
  },
  {
   "cell_type": "code",
   "execution_count": 123,
   "metadata": {},
   "outputs": [],
   "source": [
    "pjme.set_index('Datetime', inplace=True)"
   ]
  },
  {
   "cell_type": "code",
   "execution_count": 124,
   "metadata": {},
   "outputs": [
    {
     "data": {
      "image/png": "[encoded data removed]",
      "text/plain": [
       "<Figure size 864x576 with 2 Axes>"
      ]
     },
     "metadata": {
      "needs_background": "light"
     },
     "output_type": "display_data"
    }
   ],
   "source": [
    "fig, ax = plt.subplots(1, 2, figsize=(12,8))\n",
    "plot_acf(x=pjme['PJME_MW'], lags = 50, ax=ax[0])\n",
    "plot_pacf(x=pjme['PJME_MW'], lags = 50, ax=ax[1]);\n"
   ]
  },
  {
   "cell_type": "markdown",
   "metadata": {},
   "source": [
    "# Treino / Teste "
   ]
  },
  {
   "cell_type": "code",
   "execution_count": 125,
   "metadata": {},
   "outputs": [],
   "source": [
    "pjme_train = pjme.loc[pjme.index <= split_date].copy()\n",
    "pjme_test = pjme.loc[pjme.index > split_date].copy()"
   ]
  },
  {
   "cell_type": "code",
   "execution_count": 126,
   "metadata": {},
   "outputs": [],
   "source": [
    "pd.plotting.register_matplotlib_converters()"
   ]
  },
  {
   "cell_type": "code",
   "execution_count": 127,
   "metadata": {
    "scrolled": true
   },
   "outputs": [
    {
     "data": {
      "image/png": "[encoded data removed]",
      "text/plain": [
       "<Figure size 1080x360 with 1 Axes>"
      ]
     },
     "metadata": {
      "needs_background": "light"
     },
     "output_type": "display_data"
    }
   ],
   "source": [
    "# Plot train and test so you can see where we have split\n",
    "pjme_test \\\n",
    "    .rename(columns={'PJME_MW': 'TEST SET'}) \\\n",
    "    .join(pjme_train.rename(columns={'PJME_MW': 'TRAINING SET'}),\n",
    "          how='outer') \\\n",
    "    .plot(figsize=(15,5), title='PJM East', style='.')\n",
    "plt.show()"
   ]
  },
  {
   "cell_type": "code",
   "execution_count": 128,
   "metadata": {},
   "outputs": [
    {
     "data": {
      "text/html": [
       "<div>\n",
       "<style scoped>\n",
       "    .dataframe tbody tr th:only-of-type {\n",
       "        vertical-align: middle;\n",
       "    }\n",
       "\n",
       "    .dataframe tbody tr th {\n",
       "        vertical-align: top;\n",
       "    }\n",
       "\n",
       "    .dataframe thead th {\n",
       "        text-align: right;\n",
       "    }\n",
       "</style>\n",
       "<table border=\"1\" class=\"dataframe\">\n",
       "  <thead>\n",
       "    <tr style=\"text-align: right;\">\n",
       "      <th></th>\n",
       "      <th>ds</th>\n",
       "      <th>y</th>\n",
       "    </tr>\n",
       "  </thead>\n",
       "  <tbody>\n",
       "    <tr>\n",
       "      <td>0</td>\n",
       "      <td>2006-02-24 00:00:00</td>\n",
       "      <td>30862.0</td>\n",
       "    </tr>\n",
       "    <tr>\n",
       "      <td>1</td>\n",
       "      <td>2006-02-24 01:00:00</td>\n",
       "      <td>28921.0</td>\n",
       "    </tr>\n",
       "    <tr>\n",
       "      <td>2</td>\n",
       "      <td>2006-02-24 02:00:00</td>\n",
       "      <td>27917.0</td>\n",
       "    </tr>\n",
       "    <tr>\n",
       "      <td>3</td>\n",
       "      <td>2006-02-24 03:00:00</td>\n",
       "      <td>27621.0</td>\n",
       "    </tr>\n",
       "    <tr>\n",
       "      <td>4</td>\n",
       "      <td>2006-02-24 04:00:00</td>\n",
       "      <td>27727.0</td>\n",
       "    </tr>\n",
       "  </tbody>\n",
       "</table>\n",
       "</div>"
      ],
      "text/plain": [
       "                   ds        y\n",
       "0 2006-02-24 00:00:00  30862.0\n",
       "1 2006-02-24 01:00:00  28921.0\n",
       "2 2006-02-24 02:00:00  27917.0\n",
       "3 2006-02-24 03:00:00  27621.0\n",
       "4 2006-02-24 04:00:00  27727.0"
      ]
     },
     "execution_count": 128,
     "metadata": {},
     "output_type": "execute_result"
    }
   ],
   "source": [
    "# Format data for prophet model using ds and y\n",
    "pjme_train.reset_index() \\\n",
    "    .rename(columns={'Datetime':time_col,\n",
    "                     'PJME_MW':target_col}).head()"
   ]
  },
  {
   "cell_type": "code",
   "execution_count": 129,
   "metadata": {},
   "outputs": [
    {
     "name": "stderr",
     "output_type": "stream",
     "text": [
      "INFO:fbprophet:Disabling yearly seasonality. Run prophet with yearly_seasonality=True to override this.\n"
     ]
    },
    {
     "data": {
      "text/plain": [
       "<fbprophet.forecaster.Prophet at 0x1b78becb688>"
      ]
     },
     "execution_count": 129,
     "metadata": {},
     "output_type": "execute_result"
    }
   ],
   "source": [
    "# Setup and train model and fit\n",
    "model = Prophet()\n",
    "model.fit(pjme_train.reset_index() \\\n",
    "              .rename(columns={'Datetime':time_col,\n",
    "                               'PJME_MW':target_col}))"
   ]
  },
  {
   "cell_type": "code",
   "execution_count": 130,
   "metadata": {},
   "outputs": [],
   "source": [
    "# Predict on training set with model\n",
    "pjme_test_fcst = model.predict(df=pjme_test.reset_index() \\\n",
    "                                   .rename(columns={'Datetime':time_col}))"
   ]
  },
  {
   "cell_type": "code",
   "execution_count": 131,
   "metadata": {},
   "outputs": [
    {
     "data": {
      "text/html": [
       "<div>\n",
       "<style scoped>\n",
       "    .dataframe tbody tr th:only-of-type {\n",
       "        vertical-align: middle;\n",
       "    }\n",
       "\n",
       "    .dataframe tbody tr th {\n",
       "        vertical-align: top;\n",
       "    }\n",
       "\n",
       "    .dataframe thead th {\n",
       "        text-align: right;\n",
       "    }\n",
       "</style>\n",
       "<table border=\"1\" class=\"dataframe\">\n",
       "  <thead>\n",
       "    <tr style=\"text-align: right;\">\n",
       "      <th></th>\n",
       "      <th>ds</th>\n",
       "      <th>trend</th>\n",
       "      <th>yhat_lower</th>\n",
       "      <th>yhat_upper</th>\n",
       "      <th>trend_lower</th>\n",
       "      <th>trend_upper</th>\n",
       "      <th>additive_terms</th>\n",
       "      <th>additive_terms_lower</th>\n",
       "      <th>additive_terms_upper</th>\n",
       "      <th>daily</th>\n",
       "      <th>daily_lower</th>\n",
       "      <th>daily_upper</th>\n",
       "      <th>weekly</th>\n",
       "      <th>weekly_lower</th>\n",
       "      <th>weekly_upper</th>\n",
       "      <th>multiplicative_terms</th>\n",
       "      <th>multiplicative_terms_lower</th>\n",
       "      <th>multiplicative_terms_upper</th>\n",
       "      <th>yhat</th>\n",
       "    </tr>\n",
       "  </thead>\n",
       "  <tbody>\n",
       "    <tr>\n",
       "      <td>0</td>\n",
       "      <td>2006-03-20 01:00:00</td>\n",
       "      <td>32534.403534</td>\n",
       "      <td>26531.407924</td>\n",
       "      <td>29399.658998</td>\n",
       "      <td>32534.403534</td>\n",
       "      <td>32534.403534</td>\n",
       "      <td>-4545.944373</td>\n",
       "      <td>-4545.944373</td>\n",
       "      <td>-4545.944373</td>\n",
       "      <td>-3812.320640</td>\n",
       "      <td>-3812.320640</td>\n",
       "      <td>-3812.320640</td>\n",
       "      <td>-733.623733</td>\n",
       "      <td>-733.623733</td>\n",
       "      <td>-733.623733</td>\n",
       "      <td>0.0</td>\n",
       "      <td>0.0</td>\n",
       "      <td>0.0</td>\n",
       "      <td>27988.459161</td>\n",
       "    </tr>\n",
       "    <tr>\n",
       "      <td>1</td>\n",
       "      <td>2006-03-20 02:00:00</td>\n",
       "      <td>32558.595313</td>\n",
       "      <td>25692.026277</td>\n",
       "      <td>28730.895603</td>\n",
       "      <td>32558.595313</td>\n",
       "      <td>32558.595313</td>\n",
       "      <td>-5349.541493</td>\n",
       "      <td>-5349.541493</td>\n",
       "      <td>-5349.541493</td>\n",
       "      <td>-4776.806591</td>\n",
       "      <td>-4776.806591</td>\n",
       "      <td>-4776.806591</td>\n",
       "      <td>-572.734903</td>\n",
       "      <td>-572.734903</td>\n",
       "      <td>-572.734903</td>\n",
       "      <td>0.0</td>\n",
       "      <td>0.0</td>\n",
       "      <td>0.0</td>\n",
       "      <td>27209.053820</td>\n",
       "    </tr>\n",
       "    <tr>\n",
       "      <td>2</td>\n",
       "      <td>2006-03-20 03:00:00</td>\n",
       "      <td>32582.787092</td>\n",
       "      <td>25427.804690</td>\n",
       "      <td>28382.750097</td>\n",
       "      <td>32582.787092</td>\n",
       "      <td>32582.787092</td>\n",
       "      <td>-5742.034493</td>\n",
       "      <td>-5742.034493</td>\n",
       "      <td>-5742.034493</td>\n",
       "      <td>-5325.964199</td>\n",
       "      <td>-5325.964199</td>\n",
       "      <td>-5325.964199</td>\n",
       "      <td>-416.070293</td>\n",
       "      <td>-416.070293</td>\n",
       "      <td>-416.070293</td>\n",
       "      <td>0.0</td>\n",
       "      <td>0.0</td>\n",
       "      <td>0.0</td>\n",
       "      <td>26840.752599</td>\n",
       "    </tr>\n",
       "    <tr>\n",
       "      <td>3</td>\n",
       "      <td>2006-03-20 04:00:00</td>\n",
       "      <td>32606.978871</td>\n",
       "      <td>25618.885605</td>\n",
       "      <td>28623.062250</td>\n",
       "      <td>32606.978871</td>\n",
       "      <td>32606.978871</td>\n",
       "      <td>-5538.194470</td>\n",
       "      <td>-5538.194470</td>\n",
       "      <td>-5538.194470</td>\n",
       "      <td>-5273.618028</td>\n",
       "      <td>-5273.618028</td>\n",
       "      <td>-5273.618028</td>\n",
       "      <td>-264.576442</td>\n",
       "      <td>-264.576442</td>\n",
       "      <td>-264.576442</td>\n",
       "      <td>0.0</td>\n",
       "      <td>0.0</td>\n",
       "      <td>0.0</td>\n",
       "      <td>27068.784401</td>\n",
       "    </tr>\n",
       "    <tr>\n",
       "      <td>4</td>\n",
       "      <td>2006-03-20 05:00:00</td>\n",
       "      <td>32631.170650</td>\n",
       "      <td>26752.353091</td>\n",
       "      <td>29643.245999</td>\n",
       "      <td>32631.170650</td>\n",
       "      <td>32631.172484</td>\n",
       "      <td>-4449.044275</td>\n",
       "      <td>-4449.044275</td>\n",
       "      <td>-4449.044275</td>\n",
       "      <td>-4329.917411</td>\n",
       "      <td>-4329.917411</td>\n",
       "      <td>-4329.917411</td>\n",
       "      <td>-119.126864</td>\n",
       "      <td>-119.126864</td>\n",
       "      <td>-119.126864</td>\n",
       "      <td>0.0</td>\n",
       "      <td>0.0</td>\n",
       "      <td>0.0</td>\n",
       "      <td>28182.126375</td>\n",
       "    </tr>\n",
       "  </tbody>\n",
       "</table>\n",
       "</div>"
      ],
      "text/plain": [
       "                   ds         trend    yhat_lower    yhat_upper   trend_lower  \\\n",
       "0 2006-03-20 01:00:00  32534.403534  26531.407924  29399.658998  32534.403534   \n",
       "1 2006-03-20 02:00:00  32558.595313  25692.026277  28730.895603  32558.595313   \n",
       "2 2006-03-20 03:00:00  32582.787092  25427.804690  28382.750097  32582.787092   \n",
       "3 2006-03-20 04:00:00  32606.978871  25618.885605  28623.062250  32606.978871   \n",
       "4 2006-03-20 05:00:00  32631.170650  26752.353091  29643.245999  32631.170650   \n",
       "\n",
       "    trend_upper  additive_terms  additive_terms_lower  additive_terms_upper  \\\n",
       "0  32534.403534    -4545.944373          -4545.944373          -4545.944373   \n",
       "1  32558.595313    -5349.541493          -5349.541493          -5349.541493   \n",
       "2  32582.787092    -5742.034493          -5742.034493          -5742.034493   \n",
       "3  32606.978871    -5538.194470          -5538.194470          -5538.194470   \n",
       "4  32631.172484    -4449.044275          -4449.044275          -4449.044275   \n",
       "\n",
       "         daily  daily_lower  daily_upper      weekly  weekly_lower  \\\n",
       "0 -3812.320640 -3812.320640 -3812.320640 -733.623733   -733.623733   \n",
       "1 -4776.806591 -4776.806591 -4776.806591 -572.734903   -572.734903   \n",
       "2 -5325.964199 -5325.964199 -5325.964199 -416.070293   -416.070293   \n",
       "3 -5273.618028 -5273.618028 -5273.618028 -264.576442   -264.576442   \n",
       "4 -4329.917411 -4329.917411 -4329.917411 -119.126864   -119.126864   \n",
       "\n",
       "   weekly_upper  multiplicative_terms  multiplicative_terms_lower  \\\n",
       "0   -733.623733                   0.0                         0.0   \n",
       "1   -572.734903                   0.0                         0.0   \n",
       "2   -416.070293                   0.0                         0.0   \n",
       "3   -264.576442                   0.0                         0.0   \n",
       "4   -119.126864                   0.0                         0.0   \n",
       "\n",
       "   multiplicative_terms_upper          yhat  \n",
       "0                         0.0  27988.459161  \n",
       "1                         0.0  27209.053820  \n",
       "2                         0.0  26840.752599  \n",
       "3                         0.0  27068.784401  \n",
       "4                         0.0  28182.126375  "
      ]
     },
     "execution_count": 131,
     "metadata": {},
     "output_type": "execute_result"
    }
   ],
   "source": [
    "pjme_test_fcst.head()"
   ]
  },
  {
   "cell_type": "code",
   "execution_count": 132,
   "metadata": {},
   "outputs": [
    {
     "data": {
      "image/png": "[encoded data removed]",
      "text/plain": [
       "<Figure size 1080x360 with 1 Axes>"
      ]
     },
     "metadata": {
      "needs_background": "light"
     },
     "output_type": "display_data"
    }
   ],
   "source": [
    "# Plot the forecast\n",
    "f, ax = plt.subplots(1)\n",
    "f.set_figheight(5)\n",
    "f.set_figwidth(15)\n",
    "fig = model.plot(pjme_test_fcst,\n",
    "                 ax=ax)\n",
    "plt.show()"
   ]
  },
  {
   "cell_type": "code",
   "execution_count": 133,
   "metadata": {},
   "outputs": [
    {
     "data": {
      "image/png": "[encoded data removed]",
      "text/plain": [
       "<Figure size 648x648 with 3 Axes>"
      ]
     },
     "metadata": {},
     "output_type": "display_data"
    }
   ],
   "source": [
    "# Plot the components of the model\n",
    "fig = model.plot_components(pjme_test_fcst)"
   ]
  },
  {
   "cell_type": "code",
   "execution_count": 134,
   "metadata": {},
   "outputs": [
    {
     "data": {
      "image/png": "[encoded data removed]",
      "text/plain": [
       "<Figure size 1080x360 with 1 Axes>"
      ]
     },
     "metadata": {
      "needs_background": "light"
     },
     "output_type": "display_data"
    }
   ],
   "source": [
    "# Plot the forecast with the actuals\n",
    "f, ax = plt.subplots(1)\n",
    "f.set_figheight(5)\n",
    "f.set_figwidth(15)\n",
    "ax.scatter(pjme_test.index, pjme_test['PJME_MW'], color='r')\n",
    "fig = model.plot(pjme_test_fcst, ax=ax)"
   ]
  },
  {
   "cell_type": "code",
   "execution_count": 135,
   "metadata": {},
   "outputs": [],
   "source": [
    "month_lower_date = pd.Timestamp(split_date)\n",
    "month_upper_date = pd.Timestamp(split_date + timedelta(days = 5))\n",
    "\n",
    "week_lower_date = pd.Timestamp(split_date)\n",
    "week_upper_date = pd.Timestamp(split_date + timedelta(days = 1))"
   ]
  },
  {
   "cell_type": "markdown",
   "metadata": {},
   "source": [
    "# Error Metrics\n",
    "Our RMSE error is 15987910.88\n",
    "Our MAE error is 3247.98\n",
    "Our MAPE error is 10.344\n",
    "\n",
    "by comparison in the XGBoost model our errors were significantly less (8.9% MAPE): Check that out here"
   ]
  },
  {
   "cell_type": "code",
   "execution_count": 136,
   "metadata": {},
   "outputs": [
    {
     "data": {
      "text/plain": [
       "10029217.921819372"
      ]
     },
     "execution_count": 136,
     "metadata": {},
     "output_type": "execute_result"
    }
   ],
   "source": [
    "mean_squared_error(y_true=pjme_test['PJME_MW'],\n",
    "                   y_pred=pjme_test_fcst['yhat'])"
   ]
  },
  {
   "cell_type": "code",
   "execution_count": 137,
   "metadata": {},
   "outputs": [
    {
     "data": {
      "text/plain": [
       "2603.232239230226"
      ]
     },
     "execution_count": 137,
     "metadata": {},
     "output_type": "execute_result"
    }
   ],
   "source": [
    "mean_absolute_error(y_true=pjme_test['PJME_MW'],\n",
    "                   y_pred=pjme_test_fcst['yhat'])"
   ]
  },
  {
   "cell_type": "code",
   "execution_count": 138,
   "metadata": {},
   "outputs": [],
   "source": [
    "def mean_absolute_percentage_error(y_true, y_pred): \n",
    "    \"\"\"Calculates MAPE given y_true and y_pred\"\"\"\n",
    "    y_true, y_pred = np.array(y_true), np.array(y_pred)\n",
    "    return np.mean(np.abs((y_true - y_pred) / y_true)) * 100\n",
    "\n",
    "score = mean_absolute_percentage_error(y_true=pjme_test['PJME_MW'],\n",
    "                   y_pred=pjme_test_fcst['yhat'])"
   ]
  },
  {
   "cell_type": "code",
   "execution_count": 139,
   "metadata": {},
   "outputs": [
    {
     "name": "stdout",
     "output_type": "stream",
     "text": [
      "8.449281526369482\n"
     ]
    }
   ],
   "source": [
    "print(score)"
   ]
  },
  {
   "cell_type": "code",
   "execution_count": 140,
   "metadata": {},
   "outputs": [
    {
     "data": {
      "text/html": [
       "<div>\n",
       "<style scoped>\n",
       "    .dataframe tbody tr th:only-of-type {\n",
       "        vertical-align: middle;\n",
       "    }\n",
       "\n",
       "    .dataframe tbody tr th {\n",
       "        vertical-align: top;\n",
       "    }\n",
       "\n",
       "    .dataframe thead th {\n",
       "        text-align: right;\n",
       "    }\n",
       "</style>\n",
       "<table border=\"1\" class=\"dataframe\">\n",
       "  <thead>\n",
       "    <tr style=\"text-align: right;\">\n",
       "      <th></th>\n",
       "      <th>PJME_MW</th>\n",
       "    </tr>\n",
       "    <tr>\n",
       "      <th>Datetime</th>\n",
       "      <th></th>\n",
       "    </tr>\n",
       "  </thead>\n",
       "  <tbody>\n",
       "    <tr>\n",
       "      <td>2006-02-24 00:00:00</td>\n",
       "      <td>30862.0</td>\n",
       "    </tr>\n",
       "    <tr>\n",
       "      <td>2006-02-24 01:00:00</td>\n",
       "      <td>28921.0</td>\n",
       "    </tr>\n",
       "    <tr>\n",
       "      <td>2006-02-24 02:00:00</td>\n",
       "      <td>27917.0</td>\n",
       "    </tr>\n",
       "    <tr>\n",
       "      <td>2006-02-24 03:00:00</td>\n",
       "      <td>27621.0</td>\n",
       "    </tr>\n",
       "    <tr>\n",
       "      <td>2006-02-24 04:00:00</td>\n",
       "      <td>27727.0</td>\n",
       "    </tr>\n",
       "  </tbody>\n",
       "</table>\n",
       "</div>"
      ],
      "text/plain": [
       "                     PJME_MW\n",
       "Datetime                    \n",
       "2006-02-24 00:00:00  30862.0\n",
       "2006-02-24 01:00:00  28921.0\n",
       "2006-02-24 02:00:00  27917.0\n",
       "2006-02-24 03:00:00  27621.0\n",
       "2006-02-24 04:00:00  27727.0"
      ]
     },
     "execution_count": 140,
     "metadata": {},
     "output_type": "execute_result"
    }
   ],
   "source": [
    "pjme.head()"
   ]
  },
  {
   "cell_type": "code",
   "execution_count": 141,
   "metadata": {},
   "outputs": [],
   "source": [
    "pjme = pjme.reset_index()"
   ]
  },
  {
   "cell_type": "code",
   "execution_count": 142,
   "metadata": {},
   "outputs": [
    {
     "data": {
      "text/html": [
       "<div>\n",
       "<style scoped>\n",
       "    .dataframe tbody tr th:only-of-type {\n",
       "        vertical-align: middle;\n",
       "    }\n",
       "\n",
       "    .dataframe tbody tr th {\n",
       "        vertical-align: top;\n",
       "    }\n",
       "\n",
       "    .dataframe thead th {\n",
       "        text-align: right;\n",
       "    }\n",
       "</style>\n",
       "<table border=\"1\" class=\"dataframe\">\n",
       "  <thead>\n",
       "    <tr style=\"text-align: right;\">\n",
       "      <th></th>\n",
       "      <th>Datetime</th>\n",
       "      <th>PJME_MW</th>\n",
       "    </tr>\n",
       "  </thead>\n",
       "  <tbody>\n",
       "    <tr>\n",
       "      <td>0</td>\n",
       "      <td>2006-02-24 00:00:00</td>\n",
       "      <td>30862.0</td>\n",
       "    </tr>\n",
       "    <tr>\n",
       "      <td>1</td>\n",
       "      <td>2006-02-24 01:00:00</td>\n",
       "      <td>28921.0</td>\n",
       "    </tr>\n",
       "    <tr>\n",
       "      <td>2</td>\n",
       "      <td>2006-02-24 02:00:00</td>\n",
       "      <td>27917.0</td>\n",
       "    </tr>\n",
       "    <tr>\n",
       "      <td>3</td>\n",
       "      <td>2006-02-24 03:00:00</td>\n",
       "      <td>27621.0</td>\n",
       "    </tr>\n",
       "    <tr>\n",
       "      <td>4</td>\n",
       "      <td>2006-02-24 04:00:00</td>\n",
       "      <td>27727.0</td>\n",
       "    </tr>\n",
       "  </tbody>\n",
       "</table>\n",
       "</div>"
      ],
      "text/plain": [
       "             Datetime  PJME_MW\n",
       "0 2006-02-24 00:00:00  30862.0\n",
       "1 2006-02-24 01:00:00  28921.0\n",
       "2 2006-02-24 02:00:00  27917.0\n",
       "3 2006-02-24 03:00:00  27621.0\n",
       "4 2006-02-24 04:00:00  27727.0"
      ]
     },
     "execution_count": 142,
     "metadata": {},
     "output_type": "execute_result"
    }
   ],
   "source": [
    "pjme.head()"
   ]
  },
  {
   "cell_type": "code",
   "execution_count": 143,
   "metadata": {},
   "outputs": [],
   "source": [
    "Xrefit = pjme.copy()"
   ]
  },
  {
   "cell_type": "code",
   "execution_count": null,
   "metadata": {},
   "outputs": [],
   "source": []
  },
  {
   "cell_type": "code",
   "execution_count": 144,
   "metadata": {},
   "outputs": [],
   "source": [
    "Xrefit.columns = [time_col,target_col]"
   ]
  },
  {
   "cell_type": "code",
   "execution_count": 145,
   "metadata": {},
   "outputs": [
    {
     "data": {
      "text/html": [
       "<div>\n",
       "<style scoped>\n",
       "    .dataframe tbody tr th:only-of-type {\n",
       "        vertical-align: middle;\n",
       "    }\n",
       "\n",
       "    .dataframe tbody tr th {\n",
       "        vertical-align: top;\n",
       "    }\n",
       "\n",
       "    .dataframe thead th {\n",
       "        text-align: right;\n",
       "    }\n",
       "</style>\n",
       "<table border=\"1\" class=\"dataframe\">\n",
       "  <thead>\n",
       "    <tr style=\"text-align: right;\">\n",
       "      <th></th>\n",
       "      <th>ds</th>\n",
       "      <th>y</th>\n",
       "    </tr>\n",
       "  </thead>\n",
       "  <tbody>\n",
       "    <tr>\n",
       "      <td>0</td>\n",
       "      <td>2006-02-24 00:00:00</td>\n",
       "      <td>30862.0</td>\n",
       "    </tr>\n",
       "    <tr>\n",
       "      <td>1</td>\n",
       "      <td>2006-02-24 01:00:00</td>\n",
       "      <td>28921.0</td>\n",
       "    </tr>\n",
       "    <tr>\n",
       "      <td>2</td>\n",
       "      <td>2006-02-24 02:00:00</td>\n",
       "      <td>27917.0</td>\n",
       "    </tr>\n",
       "    <tr>\n",
       "      <td>3</td>\n",
       "      <td>2006-02-24 03:00:00</td>\n",
       "      <td>27621.0</td>\n",
       "    </tr>\n",
       "    <tr>\n",
       "      <td>4</td>\n",
       "      <td>2006-02-24 04:00:00</td>\n",
       "      <td>27727.0</td>\n",
       "    </tr>\n",
       "  </tbody>\n",
       "</table>\n",
       "</div>"
      ],
      "text/plain": [
       "                   ds        y\n",
       "0 2006-02-24 00:00:00  30862.0\n",
       "1 2006-02-24 01:00:00  28921.0\n",
       "2 2006-02-24 02:00:00  27917.0\n",
       "3 2006-02-24 03:00:00  27621.0\n",
       "4 2006-02-24 04:00:00  27727.0"
      ]
     },
     "execution_count": 145,
     "metadata": {},
     "output_type": "execute_result"
    }
   ],
   "source": [
    "Xrefit.head()"
   ]
  },
  {
   "cell_type": "code",
   "execution_count": 146,
   "metadata": {},
   "outputs": [
    {
     "data": {
      "text/html": [
       "<div>\n",
       "<style scoped>\n",
       "    .dataframe tbody tr th:only-of-type {\n",
       "        vertical-align: middle;\n",
       "    }\n",
       "\n",
       "    .dataframe tbody tr th {\n",
       "        vertical-align: top;\n",
       "    }\n",
       "\n",
       "    .dataframe thead th {\n",
       "        text-align: right;\n",
       "    }\n",
       "</style>\n",
       "<table border=\"1\" class=\"dataframe\">\n",
       "  <thead>\n",
       "    <tr style=\"text-align: right;\">\n",
       "      <th></th>\n",
       "      <th>ds</th>\n",
       "      <th>y</th>\n",
       "    </tr>\n",
       "  </thead>\n",
       "  <tbody>\n",
       "    <tr>\n",
       "      <td>716</td>\n",
       "      <td>2006-03-25 20:00:00</td>\n",
       "      <td>32353.0</td>\n",
       "    </tr>\n",
       "    <tr>\n",
       "      <td>717</td>\n",
       "      <td>2006-03-25 21:00:00</td>\n",
       "      <td>31744.0</td>\n",
       "    </tr>\n",
       "    <tr>\n",
       "      <td>718</td>\n",
       "      <td>2006-03-25 22:00:00</td>\n",
       "      <td>30690.0</td>\n",
       "    </tr>\n",
       "    <tr>\n",
       "      <td>719</td>\n",
       "      <td>2006-03-25 23:00:00</td>\n",
       "      <td>29235.0</td>\n",
       "    </tr>\n",
       "    <tr>\n",
       "      <td>720</td>\n",
       "      <td>2006-03-26 00:00:00</td>\n",
       "      <td>27408.0</td>\n",
       "    </tr>\n",
       "  </tbody>\n",
       "</table>\n",
       "</div>"
      ],
      "text/plain": [
       "                     ds        y\n",
       "716 2006-03-25 20:00:00  32353.0\n",
       "717 2006-03-25 21:00:00  31744.0\n",
       "718 2006-03-25 22:00:00  30690.0\n",
       "719 2006-03-25 23:00:00  29235.0\n",
       "720 2006-03-26 00:00:00  27408.0"
      ]
     },
     "execution_count": 146,
     "metadata": {},
     "output_type": "execute_result"
    }
   ],
   "source": [
    "Xrefit.tail()"
   ]
  },
  {
   "cell_type": "markdown",
   "metadata": {},
   "source": [
    "# Construção do Pipeline "
   ]
  },
  {
   "cell_type": "code",
   "execution_count": 147,
   "metadata": {},
   "outputs": [
    {
     "name": "stderr",
     "output_type": "stream",
     "text": [
      "INFO:fbprophet:Disabling yearly seasonality. Run prophet with yearly_seasonality=True to override this.\n"
     ]
    }
   ],
   "source": [
    "trained_models = {}\n",
    "df_model_result=pd.DataFrame()\n",
    "\n",
    "result_list = []\n",
    "\n",
    "model = Prophet()\n",
    "trained_models = model.fit(Xrefit.reset_index())\n",
    "    \n",
    "    #result list\n",
    "result_list.append({'model_name': 'prophet',\n",
    "                        'date_begin': Xrefit.ds.min(),\n",
    "                        'date_end'  : Xrefit.ds.max(),\n",
    "                        'score': score})\n",
    "    \n",
    "df_results = pd.DataFrame().from_dict(result_list)"
   ]
  },
  {
   "cell_type": "code",
   "execution_count": 148,
   "metadata": {},
   "outputs": [
    {
     "data": {
      "text/html": [
       "<div>\n",
       "<style scoped>\n",
       "    .dataframe tbody tr th:only-of-type {\n",
       "        vertical-align: middle;\n",
       "    }\n",
       "\n",
       "    .dataframe tbody tr th {\n",
       "        vertical-align: top;\n",
       "    }\n",
       "\n",
       "    .dataframe thead th {\n",
       "        text-align: right;\n",
       "    }\n",
       "</style>\n",
       "<table border=\"1\" class=\"dataframe\">\n",
       "  <thead>\n",
       "    <tr style=\"text-align: right;\">\n",
       "      <th></th>\n",
       "      <th>model_name</th>\n",
       "      <th>date_begin</th>\n",
       "      <th>date_end</th>\n",
       "      <th>score</th>\n",
       "    </tr>\n",
       "  </thead>\n",
       "  <tbody>\n",
       "    <tr>\n",
       "      <td>0</td>\n",
       "      <td>prophet</td>\n",
       "      <td>2006-02-24</td>\n",
       "      <td>2006-03-26</td>\n",
       "      <td>8.449282</td>\n",
       "    </tr>\n",
       "  </tbody>\n",
       "</table>\n",
       "</div>"
      ],
      "text/plain": [
       "  model_name date_begin   date_end     score\n",
       "0    prophet 2006-02-24 2006-03-26  8.449282"
      ]
     },
     "execution_count": 148,
     "metadata": {},
     "output_type": "execute_result"
    }
   ],
   "source": [
    "df_results.head()"
   ]
  },
  {
   "cell_type": "markdown",
   "metadata": {},
   "source": [
    "# Exportar os resultados e modelagem "
   ]
  },
  {
   "cell_type": "code",
   "execution_count": 149,
   "metadata": {},
   "outputs": [
    {
     "data": {
      "text/html": [
       "<div>\n",
       "<style scoped>\n",
       "    .dataframe tbody tr th:only-of-type {\n",
       "        vertical-align: middle;\n",
       "    }\n",
       "\n",
       "    .dataframe tbody tr th {\n",
       "        vertical-align: top;\n",
       "    }\n",
       "\n",
       "    .dataframe thead th {\n",
       "        text-align: right;\n",
       "    }\n",
       "</style>\n",
       "<table border=\"1\" class=\"dataframe\">\n",
       "  <thead>\n",
       "    <tr style=\"text-align: right;\">\n",
       "      <th></th>\n",
       "      <th>model_name</th>\n",
       "      <th>date_begin</th>\n",
       "      <th>date_end</th>\n",
       "      <th>score</th>\n",
       "    </tr>\n",
       "  </thead>\n",
       "  <tbody>\n",
       "    <tr>\n",
       "      <td>0</td>\n",
       "      <td>prophet</td>\n",
       "      <td>2006-02-24</td>\n",
       "      <td>2006-03-26</td>\n",
       "      <td>8.449282</td>\n",
       "    </tr>\n",
       "  </tbody>\n",
       "</table>\n",
       "</div>"
      ],
      "text/plain": [
       "  model_name date_begin   date_end     score\n",
       "0    prophet 2006-02-24 2006-03-26  8.449282"
      ]
     },
     "execution_count": 149,
     "metadata": {},
     "output_type": "execute_result"
    }
   ],
   "source": [
    "# exportar a tabela de resultados\n",
    "\n",
    "#data_proc_file = WORKDIR + '/Data/Processed/energy_consumption_data_modeling.parquet'\n",
    "#model_score_file = WORKDIR + '/Data/Modeling/model_scores.parquet'\n",
    "#model_file = WORKDIR + '/Data/Modeling/trained_models.jbl'\n",
    "df_results.to_parquet(model_score_file)\n",
    "\n",
    "filename = model_score_file.replace(\".parquet\",\"_\" + df_results.date_end.max().date().strftime('%Y-%m-%d') + \".parquet\") \n",
    "df_results.to_parquet(filename)\n",
    "\n",
    "filename = model_file  \n",
    "pickle.dump(trained_models, open(filename, 'wb'))\n",
    "\n",
    "\n",
    "filename = model_file.replace(\".jbl\",\"_\" + df_results.date_end.max().date().strftime('%Y-%m-%d') + \".jbl\")     \n",
    "#with open(trained_models, 'wb') as fid:\n",
    "    #pickle.dump(trained_models, fid)\n",
    "pickle.dump(trained_models, open(filename, 'wb'))\n",
    "    \n",
    "    \n",
    "    \n",
    "df_results.head()"
   ]
  },
  {
   "cell_type": "code",
   "execution_count": 150,
   "metadata": {},
   "outputs": [
    {
     "data": {
      "text/html": [
       "<div>\n",
       "<style scoped>\n",
       "    .dataframe tbody tr th:only-of-type {\n",
       "        vertical-align: middle;\n",
       "    }\n",
       "\n",
       "    .dataframe tbody tr th {\n",
       "        vertical-align: top;\n",
       "    }\n",
       "\n",
       "    .dataframe thead th {\n",
       "        text-align: right;\n",
       "    }\n",
       "</style>\n",
       "<table border=\"1\" class=\"dataframe\">\n",
       "  <thead>\n",
       "    <tr style=\"text-align: right;\">\n",
       "      <th></th>\n",
       "      <th>model_name</th>\n",
       "      <th>date_begin</th>\n",
       "      <th>date_end</th>\n",
       "      <th>score</th>\n",
       "    </tr>\n",
       "  </thead>\n",
       "  <tbody>\n",
       "    <tr>\n",
       "      <td>0</td>\n",
       "      <td>prophet</td>\n",
       "      <td>2006-02-24</td>\n",
       "      <td>2006-03-26</td>\n",
       "      <td>8.449282</td>\n",
       "    </tr>\n",
       "  </tbody>\n",
       "</table>\n",
       "</div>"
      ],
      "text/plain": [
       "  model_name date_begin   date_end     score\n",
       "0    prophet 2006-02-24 2006-03-26  8.449282"
      ]
     },
     "execution_count": 150,
     "metadata": {},
     "output_type": "execute_result"
    }
   ],
   "source": [
    "df_results.head()"
   ]
  },
  {
   "cell_type": "code",
   "execution_count": 151,
   "metadata": {},
   "outputs": [
    {
     "data": {
      "text/html": [
       "<div>\n",
       "<style scoped>\n",
       "    .dataframe tbody tr th:only-of-type {\n",
       "        vertical-align: middle;\n",
       "    }\n",
       "\n",
       "    .dataframe tbody tr th {\n",
       "        vertical-align: top;\n",
       "    }\n",
       "\n",
       "    .dataframe thead th {\n",
       "        text-align: right;\n",
       "    }\n",
       "</style>\n",
       "<table border=\"1\" class=\"dataframe\">\n",
       "  <thead>\n",
       "    <tr style=\"text-align: right;\">\n",
       "      <th></th>\n",
       "      <th>model_name</th>\n",
       "      <th>date_begin</th>\n",
       "      <th>date_end</th>\n",
       "      <th>score</th>\n",
       "    </tr>\n",
       "  </thead>\n",
       "  <tbody>\n",
       "    <tr>\n",
       "      <td>0</td>\n",
       "      <td>prophet</td>\n",
       "      <td>2006-02-24</td>\n",
       "      <td>2006-03-26</td>\n",
       "      <td>8.449282</td>\n",
       "    </tr>\n",
       "  </tbody>\n",
       "</table>\n",
       "</div>"
      ],
      "text/plain": [
       "  model_name date_begin   date_end     score\n",
       "0    prophet 2006-02-24 2006-03-26  8.449282"
      ]
     },
     "execution_count": 151,
     "metadata": {},
     "output_type": "execute_result"
    }
   ],
   "source": [
    "df_results.head()"
   ]
  },
  {
   "cell_type": "code",
   "execution_count": null,
   "metadata": {},
   "outputs": [],
   "source": []
  },
  {
   "cell_type": "code",
   "execution_count": null,
   "metadata": {},
   "outputs": [],
   "source": []
  }
 ],
 "metadata": {
  "kernelspec": {
   "display_name": "Python 3",
   "language": "python",
   "name": "python3"
  },
  "language_info": {
   "codemirror_mode": {
    "name": "ipython",
    "version": 3
   },
   "file_extension": ".py",
   "mimetype": "text/x-python",
   "name": "python",
   "nbconvert_exporter": "python",
   "pygments_lexer": "ipython3",
   "version": "3.7.4"
  }
 },
 "nbformat": 4,
 "nbformat_minor": 4
}
