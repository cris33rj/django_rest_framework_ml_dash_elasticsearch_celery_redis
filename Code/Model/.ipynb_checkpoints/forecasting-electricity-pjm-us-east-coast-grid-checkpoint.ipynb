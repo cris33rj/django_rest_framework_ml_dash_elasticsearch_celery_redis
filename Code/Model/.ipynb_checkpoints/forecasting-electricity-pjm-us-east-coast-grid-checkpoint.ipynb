{
 "cells": [
  {
   "cell_type": "markdown",
   "metadata": {},
   "source": [
    "# Using Machine Learning to Forecast Electricity Usage in the future\n",
    "\n",
    "## The past dictates the future - or does it?\n",
    "Forecasting time series data is different to other forms of machine learning problems due a one main reason - time series data often is correlated with the past. That is, today's value is influenced by, for example, yesterday's value, last week's value etc. This is known as 'autocorrelation' (ie correlating with 'self').\n",
    "\n",
    "Because time series has autocorrelation, many traditional machine learning algorithm that consider every data point 'independent' don't work well. That is, every prediction is solely based on a particular day's data, and not what happened yesterday, day before etc.\n",
    "\n",
    "To put it bluntly, traditional machine learning algorithms have **no concept of the passage of time - every single data point is just a 'row in the table'.** It doesn't factor into trends, which as humans, we would intuitively see (e.g. sales went up by 20% this week).\n",
    "\n",
    "Generally, to make a machine learning model factor data from a particular point's past, you use 'shifting' feature engineering techniques. That is, for example, expressly adding in yesterday's value show as a feature/column for the model to consider.\n",
    "\n",
    "This illustration will attempt to forecast energy consumption to give a bit of flavour of how time series forecasting works, comparing:\n",
    "\n",
    "1. Holtwinters Triple Exponential Smoothing\n",
    "2. Seasonal Autoregression Integrated Moving Average (SARIMA)\n",
    "3. XGBoost Regressor\n",
    "4. LASSO Regularised Regression\n",
    "5. Facebook’s Prophet\n",
    "\n",
    "## A showcase of time series forecasting - electricity usage!\n",
    "In the electricity industry, being able to forecast the electricity usage in the future is essential and a core part of any electricity retailer's business. The electricity usage of an electricity retailer's customers is generally known as the retailer's 'load' and the usage curve is known as the 'load curve'.\n",
    "\n",
    "Being able to accurately forecast load is important for a number of reasons:\n",
    "\n",
    "**Predict the future base load** - electricity retailers need to be able to estimate how much electricity they need to buy off the grid in advance.\n",
    "**Smooth out pricing** - if the load is known is advance, electricity retailers can hedge against the price to ensure they aren't caught out when the price skyrockets 3 months into the future.\n",
    "\n",
    "In a nutshell, the business problem is:\n",
    "\n",
    "**Given the historical power consumption, what is the expected power consumption for the next 365 days?**\n",
    "\n",
    "Because we want to predict the daily load for the next 365 days, there are multiple 'time steps' and this form of forecasting is known as 'multi-step forecasting'. In contrast, if you only wanted to predict the load on the 365th day or the load for tomorrow only, this would be known as a 'one-step forecast'.\n",
    "\n",
    "This dataset is from https://www.kaggle.com/robikscube/hourly-energy-consumption:\n",
    "\n",
    "> PJM Interconnection LLC (PJM) is a regional transmission organization (RTO) in the United States. It is part of the Eastern Interconnection grid operating an electric transmission system serving all or parts of Delaware, Illinois, Indiana, Kentucky, Maryland, Michigan, New Jersey, North Carolina, Ohio, Pennsylvania, Tennessee, Virginia, West Virginia, and the District of Columbia.\n",
    "> \n",
    "> The hourly power consumption data comes from PJM's website and are in megawatts (MW).\n",
    "> \n",
    "> The regions have changed over the years so data may only appear for certain dates per region."
   ]
  },
  {
   "cell_type": "markdown",
   "metadata": {},
   "source": [
    "PJM is one of the world's largest wholesale electricity markets, encompassing over 1,000 companies,  65 million customers and delivered 807 terawatt-hours of electricity in 2018 - [see their annual report](http://https://www.pjm.com/-/media/about-pjm/newsroom/annual-reports/2018-annual-report.ashx?la=en).\n",
    "\n",
    "We'll use the PJM East Region dataset - which covers the eastern states of the PJM area. There isn't readily available data that identifies which regions are covered, so I'm going to assume (for this analysis) the following States (the coastal ones):\n",
    "\n",
    "* Delaware\n",
    "* Maryland\n",
    "* New Jersey \n",
    "* North Carolina\n",
    "* Pennsylvania\n",
    "* Virginia\n",
    "* District of Columbia"
   ]
  },
  {
   "cell_type": "markdown",
   "metadata": {},
   "source": [
    "# Housekeeping and Preprocessing"
   ]
  },
  {
   "cell_type": "code",
   "execution_count": null,
   "metadata": {
    "_kg_hide-input": true,
    "_kg_hide-output": true
   },
   "outputs": [],
   "source": [
    "import pandas as pd\n",
    "import numpy as np\n",
    "from datetime import datetime\n",
    "\n",
    "# Configure matplotlib plotting\n",
    "import seaborn as sns\n",
    "import matplotlib.pyplot as plt\n",
    "from pandas.plotting import register_matplotlib_converters\n",
    "register_matplotlib_converters()\n",
    "plt.style.use('fivethirtyeight')\n",
    "\n",
    "from pylab import rcParams\n",
    "rcParams['figure.figsize'] = 11, 9 #Changes default matplotlib plots to this size"
   ]
  },
  {
   "cell_type": "markdown",
   "metadata": {},
   "source": [
    "# Exploratory Data Analysis\n",
    "\n",
    "We need to first check a few things:\n",
    "1. Duplicate and missing data, as well as spread\n",
    "2. How autocorrelated is this data and its seasonal decomposition"
   ]
  },
  {
   "cell_type": "code",
   "execution_count": null,
   "metadata": {
    "_kg_hide-input": true
   },
   "outputs": [],
   "source": [
    "# Load my EDA helper function created to do some high-level analysis\n",
    "class EDA():\n",
    "\n",
    "    df = pd.DataFrame()\n",
    "    \n",
    "    def __init__(self, df):\n",
    "        '''\n",
    "        Creates EDA object for the DataFrame\n",
    "        \n",
    "        Note for time series data, have the index be the timestamp prior to creating this Object.\n",
    "        \n",
    "        :param df : DataFrame\n",
    "        '''\n",
    "        self.df = df\n",
    "        \n",
    "    def missing_values(self):\n",
    "        '''\n",
    "        Checks missing values\n",
    "        \n",
    "        :return DataFrame\n",
    "        \n",
    "        '''\n",
    "        missing = self.df[self.df.isna().any(axis=1)]\n",
    "        \n",
    "        print(\"Missing values data\")\n",
    "        \n",
    "        return missing\n",
    "    \n",
    "    def duplicate_values(self):\n",
    "        duplicates = self.df[self.df.duplicated(subset=None, keep='first')==True]\n",
    "        \n",
    "        print(\"Duplicate values data\")\n",
    "        \n",
    "        return duplicates\n",
    "        \n",
    "    def duplicate_indices(self):\n",
    "        '''\n",
    "        Check whether the indices have any duplicates\n",
    "        \n",
    "        :return DataFrame\n",
    "        '''        \n",
    "        duplicate_indices = self.df[self.df.index.duplicated()==True]\n",
    "        \n",
    "        print(\"Duplicate indices\")\n",
    "        \n",
    "        return duplicate_indices\n",
    "            \n",
    "    def summary(self):\n",
    "        '''\n",
    "        Return summary/describe of DataFrame\n",
    "        \n",
    "        :return DataFrame\n",
    "        '''\n",
    "        df = self.df.reset_index() # Reset to include the index\n",
    "        \n",
    "        summary = df.describe(include='all').transpose()\n",
    "        \n",
    "        print(\"Summary metrics\")\n",
    "        \n",
    "        return summary\n",
    "    \n",
    "    def pandas_profiling(self):\n",
    "        import pandas_profiling\n",
    "        \n",
    "        self.df.profile_report(style={'full_width':True})  \n",
    "    \n",
    "    def histogram_KDE(self):\n",
    "        ''' \n",
    "        :return seaborn plot\n",
    "        '''       \n",
    "        sns.pairplot(self.df, diag='kde')\n",
    "        sns.distplot(kde=True, fit=[st.norm or st.lognorm])\n",
    "        \n",
    "    def outliers(self, col):\n",
    "        ''' \n",
    "        Checks outliers - anything outside of 5% to 95% quartile range\n",
    "        \n",
    "        :param col : str\n",
    "            Name of col to be tested\n",
    "            \n",
    "        :return DataFrame\n",
    "        '''\n",
    "        outliers = self.df[~self.df[col].between(self.df[col].quantile(.05), self.df[col].quantile(.95))]\n",
    "        \n",
    "        print(\"Outliers\")\n",
    "        \n",
    "        return outliers\n",
    "        \n",
    "    def missing_timeseries_points(self, freq='D'):\n",
    "        '''\n",
    "        Checks whether there's any missing data points in continuous time series data.\n",
    "        \n",
    "        :param freq optional default = 'D' : str\n",
    "            Frequency compliant with pandas formatting\n",
    "        \n",
    "        :return DataFrame\n",
    "        '''\n",
    "        # First create date range\n",
    "        date_range = pd.date_range(start=data.index.min(), end=data.index.max(), freq=freq)\n",
    "\n",
    "        # Now compare against dataset\n",
    "        missing_timeseries = self.df.index[~self.df.index.isin(date_range)]\n",
    "        \n",
    "        print(\"Missing timeseries data\")\n",
    "        \n",
    "        return missing_timeseries\n",
    "\n",
    "    def corr_heatmap(df):\n",
    "        fig, ax = plt.subplots(figsize=(10, 6))\n",
    "        corr = self.df.corr()\n",
    "        hm = sns.heatmap(round(corr,2), annot=True, cmap=\"coolwarm\",fmt='.2f', linewidths=.05)\n",
    "        fig.subplots_adjust(top=0.93)\n",
    "        title = fig.suptitle('Wine Attributes Correlation Heatmap', fontsize=14)\n",
    "\n",
    "        plt.show()\n",
    "\n",
    "    def plot_time_series_seasonal_decomp(self, type='add'):\n",
    "        '''\n",
    "        Plots seasonal decomposition of timeseries data\n",
    "        \n",
    "        :return matplotlib Plot\n",
    "        '''\n",
    "        from statsmodels.tsa.seasonal import seasonal_decompose\n",
    "        decomposition = seasonal_decompose(self.df, model='multiplicative')\n",
    "\n",
    "        fig = decomposition.plot()\n",
    "        plt.show()\n",
    "   \n",
    "    def time_series_ADF(self):            \n",
    "        '''\n",
    "        Returns Augmented Dickey-Fuller Test\n",
    "        '''\n",
    "        from statsmodels.tsa.stattools import adfuller as ADF\n",
    "\n",
    "        series = data['KwH'] # ADF takes series, not DF\n",
    "\n",
    "        result = ADF(series)\n",
    "\n",
    "        print('ADF Statistic: %f4.2' % result[0])\n",
    "        print('P-value %f4.2' % result[1])"
   ]
  },
  {
   "cell_type": "markdown",
   "metadata": {},
   "source": [
    "First let's have a look at the dataset - first few lines:"
   ]
  },
  {
   "cell_type": "code",
   "execution_count": null,
   "metadata": {
    "_kg_hide-input": true
   },
   "outputs": [],
   "source": [
    "# Load the Data\n",
    "data = pd.read_csv(\"../input/hourly-energy-consumption/PJME_hourly.csv\")\n",
    "\n",
    "data.set_index('Datetime',inplace=True)\n",
    "\n",
    "data.index = pd.to_datetime(data.index)\n",
    "\n",
    "data_copy = data.copy(deep=True) # Make a deep copy, including a copy of the data and the indices\n",
    "data.head(10)"
   ]
  },
  {
   "cell_type": "markdown",
   "metadata": {},
   "source": [
    "Next let's have a look at some of the summary EDA data, missing values and duplicates:"
   ]
  },
  {
   "cell_type": "code",
   "execution_count": null,
   "metadata": {
    "_kg_hide-input": true
   },
   "outputs": [],
   "source": [
    "eda_helper = EDA(data)\n",
    "\n",
    "eda_helper.summary()"
   ]
  },
  {
   "cell_type": "code",
   "execution_count": null,
   "metadata": {
    "_kg_hide-input": true
   },
   "outputs": [],
   "source": [
    "eda_helper.missing_values()"
   ]
  },
  {
   "cell_type": "code",
   "execution_count": null,
   "metadata": {
    "_kg_hide-input": true
   },
   "outputs": [],
   "source": [
    "eda_helper.duplicate_values()"
   ]
  },
  {
   "cell_type": "code",
   "execution_count": null,
   "metadata": {
    "_kg_hide-input": true
   },
   "outputs": [],
   "source": [
    "eda_helper.duplicate_indices()"
   ]
  },
  {
   "cell_type": "markdown",
   "metadata": {},
   "source": [
    "Next we'll process it so the data is at the hourly level:"
   ]
  },
  {
   "cell_type": "code",
   "execution_count": null,
   "metadata": {
    "_kg_hide-input": true
   },
   "outputs": [],
   "source": [
    "def preprocess_data(df):\n",
    "    # We have duplicates, so we need to de-duplicate it - grabbing first value that pops up for a time series\n",
    "    df.sort_index()\n",
    "    df = df.groupby(df.index).first()\n",
    "    \n",
    "    #Set freq to H\n",
    "    df = df.asfreq('H')\n",
    "    \n",
    "    return df"
   ]
  },
  {
   "cell_type": "code",
   "execution_count": null,
   "metadata": {
    "_kg_hide-input": true,
    "_kg_hide-output": true
   },
   "outputs": [],
   "source": [
    "data = preprocess_data(data)\n",
    "\n",
    "data.index"
   ]
  },
  {
   "cell_type": "markdown",
   "metadata": {},
   "source": [
    "After preprocessing and cleaning up the data, as well as making sure the frequency is at the hourly level, let's plot the data."
   ]
  },
  {
   "cell_type": "code",
   "execution_count": null,
   "metadata": {},
   "outputs": [],
   "source": [
    "# Let's visualise the data\n",
    "data.plot()\n",
    "\n",
    "plt.show()"
   ]
  },
  {
   "cell_type": "markdown",
   "metadata": {},
   "source": [
    "You can see because the frequency is at the hourly level, this is will make forecasting difficult (and its also difficult to visualise too!)\n",
    "\n",
    "So what we will do is resample it and aggregate it to the daily level"
   ]
  },
  {
   "cell_type": "code",
   "execution_count": null,
   "metadata": {
    "_kg_hide-input": true,
    "_kg_hide-output": true
   },
   "outputs": [],
   "source": [
    "# Given there's no missing data, we can resample the data to daily level\n",
    "daily_data = data.resample(rule='D').sum()\n",
    "\n",
    "# Set frequency explicitly to D\n",
    "daily_data = daily_data.asfreq('D')\n",
    "\n",
    "daily_data.head(10)"
   ]
  },
  {
   "cell_type": "code",
   "execution_count": null,
   "metadata": {
    "_kg_hide-input": true,
    "_kg_hide-output": true
   },
   "outputs": [],
   "source": [
    "# We can confirm it is at the right frequency\n",
    "daily_data.index"
   ]
  },
  {
   "cell_type": "markdown",
   "metadata": {},
   "source": [
    "Let's visualise the data again"
   ]
  },
  {
   "cell_type": "code",
   "execution_count": null,
   "metadata": {
    "_kg_hide-input": true
   },
   "outputs": [],
   "source": [
    "daily_data.plot()\n",
    "\n",
    "plt.show()"
   ]
  },
  {
   "cell_type": "markdown",
   "metadata": {},
   "source": [
    "Now there's a tail end where it's not a full day, so it's dropping off.\n",
    "\n",
    "For our purposes, we will just delete that part day."
   ]
  },
  {
   "cell_type": "code",
   "execution_count": null,
   "metadata": {
    "_kg_hide-input": true
   },
   "outputs": [],
   "source": [
    "daily_data = daily_data.drop([daily_data.index.min(), daily_data.index.max()])"
   ]
  },
  {
   "cell_type": "markdown",
   "metadata": {},
   "source": [
    "Good, so there's no missing or duplicate data and you can see the data is from 1 Jan 2002 to 2 August 2018."
   ]
  },
  {
   "cell_type": "markdown",
   "metadata": {},
   "source": [
    "**Seasonal Decomposition**\n",
    "\n",
    "At a high-level, time series data can be thought of as components put together. That is:\n",
    "\n",
    "**Data = Level + Trend + Seasonality + Noise**\n",
    "\n",
    "* **Level**: the average value in the series.\n",
    "* **Trend**: the increasing or decreasing value in the series.\n",
    "* **Seasonality**: the repeating short-term cycle in the series.\n",
    "* **Noise/Residual**: the random variation in the series.\n",
    "\n",
    "Using the Python statsmodel library, the above components can be 'decomposed' (ie seasonal decomposition):"
   ]
  },
  {
   "cell_type": "code",
   "execution_count": null,
   "metadata": {
    "_kg_hide-input": true
   },
   "outputs": [],
   "source": [
    "from statsmodels.tsa.seasonal import seasonal_decompose\n",
    "decomposition = seasonal_decompose(daily_data, model='additive')\n",
    "\n",
    "fig = decomposition.plot()\n",
    "plt.show()"
   ]
  },
  {
   "cell_type": "markdown",
   "metadata": {},
   "source": [
    "One thing that jumps out right now is very difficult to see what's going on, as the graph is very 'packed together'.\n",
    "\n",
    "More 'traditional' econometric/statistical models, such as Holtwinters and SARIMA, require 3 characteristics for them to work properly, namely:\n",
    "\n",
    "* Seasonality: the dataset is cyclical in nature\n",
    "* Stationarity: the properties of the dataset doesn't change over time\n",
    "* Autocorrelation: there is similiar between current and past (ie 'lagged') data points\n",
    "\n",
    "How about we aggregate up to weekly level to reduce the noise"
   ]
  },
  {
   "cell_type": "code",
   "execution_count": null,
   "metadata": {
    "_kg_hide-input": true
   },
   "outputs": [],
   "source": [
    "from statsmodels.tsa.seasonal import seasonal_decompose\n",
    "weekly_data = data.resample(rule='W').sum()\n",
    "decomposition = seasonal_decompose(weekly_data, model='additive') # Aggregate to weekly level\n",
    "\n",
    "fig = decomposition.plot()\n",
    "plt.show()"
   ]
  },
  {
   "cell_type": "markdown",
   "metadata": {},
   "source": [
    "You can see start to see a pattern - electricity usage peak and troughs seem to be very seasonal and repetitive. This makes sense, considering office hours, weather patterns, shopping holidays etc.\n",
    "\n",
    "Furthermore, you can see the trend of the data seems to be trailing downwards in the last few years."
   ]
  },
  {
   "cell_type": "markdown",
   "metadata": {},
   "source": [
    "Another way to visualise seasonality is to use a heatmap - we can base it on a week to see which days have higher electricity usage.\n",
    "\n",
    "Note we will drop off 2018 because it's not a full year and will skewer the heatmap.\n",
    "\n",
    "First let's construct the dataframe table."
   ]
  },
  {
   "cell_type": "code",
   "execution_count": null,
   "metadata": {
    "_kg_hide-input": true,
    "_kg_hide-output": false
   },
   "outputs": [],
   "source": [
    "# Create new dataset for heatmap\n",
    "heatmap_data = daily_data.copy()\n",
    "\n",
    "# First we need to add weekdays as a column\n",
    "heatmap_data['Weekday_Name'] = daily_data.index.weekday_name\n",
    "\n",
    "# Next we add the year as column and group the data up to annual day of week level\n",
    "heatmap_data['Year'] =  heatmap_data.index.year\n",
    "heatmap_data = heatmap_data.groupby(['Year', 'Weekday_Name']).sum()\n",
    "\n",
    "# Reset index \n",
    "heatmap_data = heatmap_data.reset_index()\n",
    "\n",
    "# We drop off 2018 because it's not a full year\n",
    "heatmap_data = heatmap_data[heatmap_data['Year'] != 2018]\n",
    "\n",
    "# Pivot it to a uniform data format for heatmaps\n",
    "heatmap_data = heatmap_data.pivot(index='Year', columns='Weekday_Name', values='PJME_MW')\n",
    "\n",
    "# Reorder columns\n",
    "heatmap_data = heatmap_data[['Monday', 'Tuesday', 'Wednesday', 'Thursday', 'Friday', 'Saturday', 'Sunday']]\n",
    "\n",
    "heatmap_data.head(100)"
   ]
  },
  {
   "cell_type": "markdown",
   "metadata": {},
   "source": [
    "Then we visualise it:"
   ]
  },
  {
   "cell_type": "code",
   "execution_count": null,
   "metadata": {
    "_kg_hide-input": true
   },
   "outputs": [],
   "source": [
    "# Visualise electricity load via Heatmap\n",
    "sns.heatmap(heatmap_data, linewidths=.5, cmap='YlOrRd', cbar=True, cbar_kws={\"format\": '%1.0f MWh'}).set_title('Heatmap - by Day of Week')"
   ]
  },
  {
   "cell_type": "markdown",
   "metadata": {},
   "source": [
    "So using this you can see (as expected) the weekend has lower electricity use. Many businesses are closed during weekends and therefore this makes sense."
   ]
  },
  {
   "cell_type": "markdown",
   "metadata": {},
   "source": [
    "Now let's do the same thing but over the hours of a day (to sort of see peak operating hours)"
   ]
  },
  {
   "cell_type": "code",
   "execution_count": null,
   "metadata": {
    "_kg_hide-input": true,
    "_kg_hide-output": true
   },
   "outputs": [],
   "source": [
    "# Create new dataset for heatmap\n",
    "heatmap_data = data.copy()\n",
    "\n",
    "# First we need to add weekdays as a column\n",
    "heatmap_data['Hour'] = data.index.hour\n",
    "\n",
    "# Next we add the year as column and group the data up to annual day of week level\n",
    "heatmap_data['Year'] =  heatmap_data.index.year\n",
    "heatmap_data = heatmap_data.groupby(['Year', 'Hour']).sum()\n",
    "\n",
    "# Reset index \n",
    "heatmap_data = heatmap_data.reset_index()\n",
    "\n",
    "# We drop off 2018 because it's not a full year\n",
    "heatmap_data = heatmap_data[heatmap_data['Year'] != 2018]\n",
    "\n",
    "# Pivot it to a uniform data format for heatmaps\n",
    "heatmap_data = heatmap_data.pivot(index='Year', columns='Hour', values='PJME_MW')\n",
    "\n",
    "heatmap_data.head(100)"
   ]
  },
  {
   "cell_type": "code",
   "execution_count": null,
   "metadata": {
    "_kg_hide-input": true
   },
   "outputs": [],
   "source": [
    "# Visualise electricity load via Heatmap\n",
    "sns.heatmap(heatmap_data, linewidths=.5, cmap='YlOrRd', cbar=True, cbar_kws={\"format\": '%1.0f MWh'}).set_title('Heatmap - by Hour of Day')"
   ]
  },
  {
   "cell_type": "markdown",
   "metadata": {},
   "source": [
    "Interestingly, it means 11am to 9pm is the busiest peak time of the grid."
   ]
  },
  {
   "cell_type": "markdown",
   "metadata": {},
   "source": [
    "We can also do the same with a 'season plot' - that is, compare each year over 12 months:"
   ]
  },
  {
   "cell_type": "code",
   "execution_count": null,
   "metadata": {
    "_kg_hide-input": true,
    "_kg_hide-output": true
   },
   "outputs": [],
   "source": [
    "# Create new dataset for heatmap\n",
    "heatmap_data = daily_data.copy()\n",
    "\n",
    "# First we need to add weekdays as a column\n",
    "heatmap_data['Month'] = daily_data.index.month_name()\n",
    "\n",
    "# Next we add the year as column and group the data up to annual day of week level\n",
    "heatmap_data['Year'] =  heatmap_data.index.year\n",
    "heatmap_data = heatmap_data.groupby(['Year', 'Month']).sum()\n",
    "\n",
    "# Reset index\n",
    "heatmap_data = heatmap_data.reset_index()\n",
    "\n",
    "# We drop off 2018 because it's not a full year\n",
    "heatmap_data = heatmap_data[heatmap_data['Year'] != 2018]\n",
    "\n",
    "# Pivot it to a uniform data format for heatmaps\n",
    "heatmap_data = heatmap_data.pivot(index='Year', columns='Month', values='PJME_MW')\n",
    "\n",
    "# Reorder columns\n",
    "heatmap_data = heatmap_data[['January', 'February', 'March', 'April', 'May', 'June', 'July', 'August', 'September', 'October', 'November', 'December']]\n",
    "\n",
    "heatmap_data.head(10)"
   ]
  },
  {
   "cell_type": "code",
   "execution_count": null,
   "metadata": {
    "_kg_hide-input": true
   },
   "outputs": [],
   "source": [
    "# Visualise electricity load via Heatmap\n",
    "sns.heatmap(heatmap_data, linewidths=.5, cmap='YlOrRd', cbar=True, cbar_kws={\"format\": '%1.0f MWh'}).set_title('Heatmap - by Day of Week')"
   ]
  },
  {
   "cell_type": "markdown",
   "metadata": {},
   "source": [
    "So you can see that July has the heaviest load on the grid - which makes sense as it is the height of summer in the region.\n",
    "\n",
    "Air conditioners are expensive after all!\n",
    "\n",
    "To further do some analysis, let's add in weather data. As we are focusing on the PJM East Region, for simplicity, I'll use Washington D.C.'s weather data as a reference for the entire region.\n",
    "\n",
    "Weather data was obtained from the [US NOAA's National Centers for Environmental Information (NCEI)](https://www.ncdc.noaa.gov/cdo-web/).\n",
    "\n",
    "Data is in Celsius degrees is only from 2016 to 2018. There's 166 weather stations in the dataset that cover the Washington D.C. region."
   ]
  },
  {
   "cell_type": "code",
   "execution_count": null,
   "metadata": {
    "_kg_hide-input": true,
    "_kg_hide-output": false
   },
   "outputs": [],
   "source": [
    "# First let's load the data\n",
    "weather_data_2017 = pd.read_csv(\"../input/ncei-climate-data-washington-dc-temperature/Washington_DC_Weather_Avg_Temp_2016-17.csv\")\n",
    "weather_data_2018 = pd.read_csv(\"../input/ncei-climate-data-washington-dc-temperature/Washington_DC_Weather_Avg_Temp_2018.csv\")\n",
    "\n",
    "weather_data = weather_data_2017.append(weather_data_2018)\n",
    "\n",
    "weather_data.head(10)"
   ]
  },
  {
   "cell_type": "markdown",
   "metadata": {},
   "source": [
    "Let's get to know the data a bit more - a few high level EDA stuff:"
   ]
  },
  {
   "cell_type": "code",
   "execution_count": null,
   "metadata": {
    "_kg_hide-input": true
   },
   "outputs": [],
   "source": [
    "eda_helper = EDA(weather_data)\n",
    "\n",
    "eda_helper.summary()"
   ]
  },
  {
   "cell_type": "markdown",
   "metadata": {},
   "source": [
    "We need to clean and aggregate the weather stations into one time series (including removing weather stations with missing data) - so let's do that:"
   ]
  },
  {
   "cell_type": "code",
   "execution_count": null,
   "metadata": {
    "_kg_hide-input": true,
    "_kg_hide-output": true
   },
   "outputs": [],
   "source": [
    "# Clean data and aggregate\n",
    "weather_data = weather_data[['DATE', 'TAVG']]\n",
    "weather_data = weather_data[~weather_data['TAVG'].isna()]\n",
    "\n",
    "weather_data.groupby(['DATE']).mean()\n",
    "weather_data = weather_data.set_index('DATE')\n",
    "weather_data.index = pd.to_datetime(weather_data.index)\n",
    "\n",
    "# Sort to make sure plotting works\n",
    "weather_data = weather_data.sort_values(by='DATE', ascending=True)"
   ]
  },
  {
   "cell_type": "markdown",
   "metadata": {},
   "source": [
    "Now let's plot the weather data and have a look"
   ]
  },
  {
   "cell_type": "code",
   "execution_count": null,
   "metadata": {},
   "outputs": [],
   "source": [
    "plt.plot(weather_data, label='Average Temp (°C)', color='lightseagreen')\n",
    "\n",
    "# Plot Labels, Legends etc\n",
    "plt.title('Washington D.C. Average Temperature')\n",
    "plt.legend(loc='best')\n",
    "plt.xlabel(\"Timestamp\")\n",
    "plt.ylabel(\"Degrees (°C)\")\n",
    "plt.legend(loc='best')\n",
    "\n",
    "plt.show()"
   ]
  },
  {
   "cell_type": "markdown",
   "metadata": {},
   "source": [
    "Now let's see both side by side - I've added in red lines to emphasis particular peaks (cold and hot):"
   ]
  },
  {
   "cell_type": "code",
   "execution_count": null,
   "metadata": {
    "_kg_hide-input": true
   },
   "outputs": [],
   "source": [
    "fig, ax = plt.subplots(2,1, figsize=(20,20))\n",
    "\n",
    "# Plot 1\n",
    "ax[0].plot(weather_data['2016-01-01':'2018-08-02'], label='Average Temp (°C)', color='lightseagreen')\n",
    "ax[0].set_title('Washington D.C. Average Temperature')\n",
    "ax[0].set_ylabel(\"Degrees (°C)\")\n",
    "ax[0].legend(loc='best')\n",
    "\n",
    "# Plot 2\n",
    "ax[1].plot(daily_data['2016-01-01':'2018-08-02'], label='PJME MW Daily Load (MW)', color='royalblue')\n",
    "ax[1].set_title('PJM East Region Electricity Load')\n",
    "ax[1].set_xlabel('Timestamp')\n",
    "ax[1].set_ylabel(\"Load (MW)\")\n",
    "ax[1].legend(loc='best')\n",
    "\n",
    "# Add vertical lines to emphasis point\n",
    "import datetime as dt\n",
    "ax[0].axvline(dt.datetime(2016, 8, 15), color='red', linestyle='--')\n",
    "ax[1].axvline(dt.datetime(2016, 8, 15), color='red', linestyle='--')\n",
    "ax[0].axvline(dt.datetime(2016, 12, 15), color='red', linestyle='--')\n",
    "ax[1].axvline(dt.datetime(2016, 12, 15), color='red', linestyle='--')\n",
    "ax[0].axvline(dt.datetime(2017, 7, 15), color='red', linestyle='--')\n",
    "ax[1].axvline(dt.datetime(2017, 7, 15), color='red', linestyle='--')\n",
    "ax[0].axvline(dt.datetime(2018, 1, 1), color='red', linestyle='--')\n",
    "ax[1].axvline(dt.datetime(2018, 1, 1), color='red', linestyle='--')\n",
    "\n",
    "plt.show()"
   ]
  },
  {
   "cell_type": "markdown",
   "metadata": {},
   "source": [
    "Let's see the correlation between the two:"
   ]
  },
  {
   "cell_type": "code",
   "execution_count": null,
   "metadata": {
    "_kg_hide-input": true
   },
   "outputs": [],
   "source": [
    "correlation = daily_data['2016-01-01':'2018-08-02']['PJME_MW'].corr(weather_data['2016-01-01':'2018-08-02']['TAVG'], method='pearson')\n",
    "\n",
    "print(\"The correlation between the PJM East Region electricity load and Washington D.C. average temperature is: {}%\".format(correlation*100))"
   ]
  },
  {
   "cell_type": "markdown",
   "metadata": {},
   "source": [
    "Interestingly, the correlation between the PJM East Region electricity load and Washington D.C. average temperature is only 13.03%. What this means is, extreme peaks in weather causes spikes, but weather in general isn't really useful for predicting electricity usage."
   ]
  },
  {
   "attachments": {
    "image.png": {
     "image/png": "[encoded data removed]"
    }
   },
   "cell_type": "markdown",
   "metadata": {},
   "source": [
    "# Statistical Test 'Smoke Alarms'\n",
    "\n",
    "Statistical Tests are a good way to test whether the data is conductive to conventional statistical methods.\n",
    "\n",
    "There are certain good statistical tests you can apply to a dataset as a 'smoke alarm' test. They are a good indication whether the data is conducive to accurate forecasting.\n",
    "\n",
    "Both the below statistical tests use Hypothesis Testing and P-Values, which require a cutoff to be picked in advance. The general rule of thumb is 5% - which means there's a only a 5% chance of the statistical tests to be incorrect.\n",
    "\n",
    "![image.png](attachment:image.png)\n",
    "\n",
    "\n",
    "'**Stationary**' means the properties of the dataset don't change over time. Non-stationary means the trends, seasonality changes over time and the data is affected by factors other than the passsage of time. A Non-Stationary is sometimes known as a 'Random Walk' - which are notoriously difficult to forecast, because the underlying properties keep changing (e.g. like trying to hit a moving target).\n",
    "\n",
    "Note that Random Walk is different to a set of 'random numbers' - it's random because the next point is based on a 'random' modification on the first point (e.g. add, minus, multiply). Whereas in a 'random numbers' set, ther would be little relationship between each data point."
   ]
  },
  {
   "cell_type": "markdown",
   "metadata": {},
   "source": [
    "So let's run the test for Stationarity and see the results: "
   ]
  },
  {
   "cell_type": "code",
   "execution_count": null,
   "metadata": {
    "_kg_hide-input": true
   },
   "outputs": [],
   "source": [
    "from statsmodels.tsa.stattools import adfuller as ADF\n",
    "\n",
    "series = daily_data['PJME_MW'] # ADF takes series, not DF\n",
    "\n",
    "result = ADF(series)\n",
    "\n",
    "print('ADF Statistic: ', result[0])\n",
    "print('P-value: {:.20f}'.format(result[1]))"
   ]
  },
  {
   "cell_type": "markdown",
   "metadata": {},
   "source": [
    "'**Heteroskedacity**' refers to instances where the data is evenly distributed along a regression line. Basically it means the data is more closely grouped together and therefore is less 'spiky' (ie has more peaks/troughs).\n",
    "\n",
    "Heteroskedactic data means the peaks and troughs (ie outliers) are being observed way more often than a 'normally distributed' dataset. This means that a model will have a hard time predicting these spikes.\n",
    "\n",
    "To alleviate this, heteroskedactic data generally needs to be Box-Cox/log transformed to dampen the extreme peaks/troughs. That is, bringing the data closer together so a model can better fit the whole data and hit the peaks/troughs."
   ]
  },
  {
   "cell_type": "markdown",
   "metadata": {},
   "source": [
    "So let's run the test for Heteroskedacity and see the results: "
   ]
  },
  {
   "cell_type": "code",
   "execution_count": null,
   "metadata": {
    "_kg_hide-input": true
   },
   "outputs": [],
   "source": [
    "from statsmodels.stats.diagnostic import het_breuschpagan as BP\n",
    "import statsmodels.api as sm\n",
    "from statsmodels.formula.api import ols\n",
    "\n",
    "bp_data = daily_data.copy()\n",
    "bp_data['Time_Period'] = range(1, len(bp_data)+1) # Convert time series points into consecutive ints\n",
    "\n",
    "formula = 'PJME_MW ~ Time_Period' # ie PJME MW depends on Time Period (OLS auto adds Y intercept)\n",
    "\n",
    "# Next we apply Ordinary Linear Square baseline regression model - as baseline test\n",
    "model = ols(formula, bp_data).fit()\n",
    "\n",
    "result = BP(model.resid, model.model.exog)\n",
    "\n",
    "print('ADF Statistic: ', result[0])\n",
    "print('P-value: {:.20f}'.format(result[1]))"
   ]
  },
  {
   "cell_type": "markdown",
   "metadata": {},
   "source": [
    "In our case, we got the above results which means:\n",
    "* The data is **Stationary** (as the P-Value was below 0.05)\n",
    "* The data is **heteroskedactic** (as the P-Value was not below 0.05)\n"
   ]
  },
  {
   "cell_type": "markdown",
   "metadata": {},
   "source": [
    "This explains why the seasonal decomposition and ADF show this data has a lot of noise and crazy swings!!\n",
    "\n",
    "The consequences of these statistical tests means that the traditional assumptions of linear regression have been violated. That is, more conventional methods of linear regression, statistical F-Tests and T-Tests become ineffective.\n",
    "\n",
    "Therefore, this forecasting model won't factor in these tests."
   ]
  },
  {
   "cell_type": "markdown",
   "metadata": {},
   "source": [
    "# Autocorrelation\n",
    "Autocorrelation is basically how much correlation there is between a particular time point and a prior one - e.g. today's value is highly correleated with last week's value.\n",
    "\n",
    "Again, Python Statsmodel has a great Autocorrelation Function (ACF) that easily produces this:"
   ]
  },
  {
   "cell_type": "code",
   "execution_count": null,
   "metadata": {
    "_kg_hide-input": true
   },
   "outputs": [],
   "source": [
    "from statsmodels.tsa.stattools import acf\n",
    "from statsmodels.graphics.tsaplots import plot_acf\n",
    "from statsmodels.graphics.tsaplots import plot_pacf\n",
    "\n",
    "#fig, ax = plt.subplots(2,1)\n",
    "\n",
    "# Plot the acf function\n",
    "plot_acf(daily_data['PJME_MW'],lags=720) #alpha 1 suppresses CI\n",
    "\n",
    "plt.show()"
   ]
  },
  {
   "cell_type": "markdown",
   "metadata": {},
   "source": [
    "What the above graph shows is how correlated a prior point is to the current point. The further the number is away from 0, the more correlation there is.\n",
    "\n",
    "Generally, we would only consider any points above (for positive numbers) and below (for negative numbers) the blue shaded area (the confidence interval) as statistically significant and worth noting.\n",
    "\n",
    "This shows that yesterday's value has a very high correlation with today's value and there is seasonality - every 6 months it seems to repeat itself.\n",
    "\n",
    "As eluded earlier, this makes sense if you factor in weather patterns - winter and summer have higher electricity usage due to more heat/cooling needed.\n",
    "\n",
    "My personal guess is because of weather - winter and summer have higher electricity usage."
   ]
  },
  {
   "cell_type": "markdown",
   "metadata": {},
   "source": [
    "Another modification of this autocorrelation analysis is the Partial Autocorrelation Function (PACF). This function is a variant of ACF, as it finds correlation of the residuals, after removing the effects which are already explained in earlier lags. That way, you don't get a 'compounding' correlation effect."
   ]
  },
  {
   "cell_type": "markdown",
   "metadata": {},
   "source": [
    "This graph shows that the last 90 days have a stronger correlation, but the effect becomes much less obvious the further back you go."
   ]
  },
  {
   "cell_type": "code",
   "execution_count": null,
   "metadata": {
    "_kg_hide-input": true
   },
   "outputs": [],
   "source": [
    "plot_pacf(daily_data['PJME_MW'],lags=720) #alpha 1 suppress CI\n",
    "\n",
    "plt.show()"
   ]
  },
  {
   "cell_type": "markdown",
   "metadata": {},
   "source": []
  },
  {
   "cell_type": "markdown",
   "metadata": {},
   "source": [
    "# Train Test Split \n",
    "Before we continue, let us split the data up between train and split with a specified cutoff date.\n",
    "\n",
    "Let's pick 3 August 2017 (12 months prior)"
   ]
  },
  {
   "cell_type": "code",
   "execution_count": null,
   "metadata": {
    "_kg_hide-input": true
   },
   "outputs": [],
   "source": [
    "# First we split it up between train and test\n",
    "# We will aim for a 12 month forecast horizon (ie predict the last 12 months in the dataset)\n",
    "cutoff = '2017-08-03'\n",
    "\n",
    "daily_data.sort_index()\n",
    "\n",
    "train = daily_data[:cutoff]\n",
    "test = daily_data[cutoff:]"
   ]
  },
  {
   "cell_type": "markdown",
   "metadata": {},
   "source": [
    "# Baseline Model - Naive Forecasting\n",
    "\n",
    "Before we go knee-deep into machine learning, it is good to use naive forecasting techniques to determine a 'baseline'. That is, if the ML models cannot beat these baseline forecasts, then we would be better off just using naive forecast instead.\n",
    "\n",
    "They are 'naive' in the sense they are simple to apply, but in reality they are pretty powerful and effective forecasts. Not too many ML models actually can consistently beat a naive forecast!\n",
    "\n",
    "A common naive forecast for predicting a multi-step forecast (i.e. for us, it would be the next 365 days), is to use a 'One-Year-Ago Persistent Forecast'. This basically means the value for say 31 August 2019 is predicted using the value for 31 August 2018."
   ]
  },
  {
   "cell_type": "code",
   "execution_count": null,
   "metadata": {
    "_kg_hide-input": true,
    "_kg_hide-output": true
   },
   "outputs": [],
   "source": [
    "baseline_prediction = train['2016-08-03':'2017-08-02']\n",
    "\n",
    "baseline_prediction.index = pd.date_range(start='2017-08-03', end='2018-08-02', freq='D')\n",
    "\n",
    "baseline_prediction.tail()"
   ]
  },
  {
   "cell_type": "markdown",
   "metadata": {},
   "source": [
    "Let's evaluate our model using Mean Absolute Error (MAE) and visualise the results.\n",
    "\n",
    "Mean Absolute Error (MAE) is an evaluation metric that measures the average magnitude of the errors in a set of predictions. In other words how 'wrong' the model is. Unlike other metrics, such as Root Mean Squared Error, it does not have any particular weighting.\n",
    "\n",
    "Training data is in blue, while test/evaluation data is in red."
   ]
  },
  {
   "cell_type": "code",
   "execution_count": null,
   "metadata": {
    "_kg_hide-input": true
   },
   "outputs": [],
   "source": [
    "# Evaluate it's performance using Mean Absolute Error (MAE)\n",
    "from statsmodels.tools.eval_measures import meanabs\n",
    "\n",
    "print(\"MAE Baseline: {:.20f}\".format(meanabs(test['PJME_MW'], baseline_prediction['PJME_MW'])))"
   ]
  },
  {
   "cell_type": "code",
   "execution_count": null,
   "metadata": {
    "_kg_hide-input": true
   },
   "outputs": [],
   "source": [
    "# Let's visually see the results\n",
    "plt.scatter(x=train.index, y=train['PJME_MW'], label='Training Data', color='black')\n",
    "plt.scatter(x=test.index, y=test['PJME_MW'], label='Test Actuals', color='red')\n",
    "plt.plot(baseline_prediction, label='Baseline', color='orange')\n",
    "\n",
    "# Plot Labels, Legends etc\n",
    "plt.xlabel(\"Timestamp\")\n",
    "plt.ylabel(\"MWh\")\n",
    "plt.legend(loc='best')\n",
    "plt.title('Baseline Model (Daily) - Results')\n",
    "\n",
    "# For clarify, let's limit to only 2017 onwards\n",
    "plt.xlim(datetime(2017, 1, 1),datetime(2018, 9, 1))\n",
    "\n",
    "plt.show()"
   ]
  },
  {
   "cell_type": "markdown",
   "metadata": {},
   "source": [
    "Immediately you can see that it is pretty half-decent forecast!\n",
    "\n",
    "But of course, we need to see the errors/residuals to figure out whether:\n",
    "1. It is normally distributed (i.e. it has no bias to under or over forecasting)\n",
    "2. Whether the errors are autocorrelated (that is, whether the model failed to pick up on any autocorrelation patterns)"
   ]
  },
  {
   "cell_type": "code",
   "execution_count": null,
   "metadata": {},
   "outputs": [],
   "source": [
    "# First construct the residuals - basically the errors\n",
    "naive_errors = test.copy()\n",
    "naive_errors['PJME_MW_PREDICTION'] = baseline_prediction['PJME_MW']\n",
    "naive_errors['error'] = naive_errors['PJME_MW_PREDICTION'] - naive_errors['PJME_MW']\n",
    "\n",
    "# Let's visually see the errors via scatterplot\n",
    "plt.scatter(naive_errors.index, naive_errors['error'], label='Residual/Errors')\n",
    "\n",
    "# Plot Labels, Legends etc\n",
    "plt.title('Naive One-Year Persistence - Residual/Errors Distribution')\n",
    "plt.xlabel(\"Timestamp\")\n",
    "plt.ylabel(\"MWh\")\n",
    "plt.legend(loc='best')\n",
    "\n",
    "plt.show()"
   ]
  },
  {
   "cell_type": "code",
   "execution_count": null,
   "metadata": {
    "_kg_hide-input": true
   },
   "outputs": [],
   "source": [
    "# Plot Histogram with Kernel Density Estimation (KDE)\n",
    "sns.distplot(naive_errors['error'], kde=True);\n",
    "\n",
    "# Plot Labels, Legends etc\n",
    "plt.title('Naive One-Year Persistence - Residual/Errors Distribution')"
   ]
  },
  {
   "cell_type": "markdown",
   "metadata": {},
   "source": [
    "Not bad - the naive forecast actually is quite normally distributed, in terms of its errors."
   ]
  },
  {
   "cell_type": "code",
   "execution_count": null,
   "metadata": {
    "_kg_hide-input": true
   },
   "outputs": [],
   "source": [
    "from statsmodels.graphics.tsaplots import plot_acf\n",
    "\n",
    "# Plot the acf function\n",
    "plot_acf(naive_errors['error'],lags=300) #alpha 1 suppresses CI\n",
    "\n",
    "plt.title('Naive One-Year Persistence - Residual/Errors Autocorrelation')\n",
    "plt.show()"
   ]
  },
  {
   "cell_type": "markdown",
   "metadata": {},
   "source": [
    "# 1. Holtwinters Triple Exponential Smoothing\n",
    "Next we will use a time series forecasting model that takes advantage of the above identified components.\n",
    "\n",
    "This is known as a 'generative additive model', as the final forecast value is 'adding' together multiple components.\n",
    "\n",
    "The 'Triple' refers to the three components:\n",
    "1. **Level**\n",
    "2. **Trend**\n",
    "3. **Seasonality**\n",
    "\n",
    "Holtwinters works really well when the data is seasonal and has trends.\n",
    "\n",
    "'Smoothing' basically means more weight is put on more recent data compared to the past.\n",
    "\n",
    "Note the main hyperparameters for the model are:\n",
    "* **Additive vs Multiplicative **(ie 'add' or 'mul') \n",
    "* **Box Cox** - to use box cox log transformation to reduce the 'noise' of the data\n",
    "* **Alpha** - smoothing factor between 0 and 1. 1 means will always take yesterday's value (naive forecasting). 0 means take simple average of past.\n",
    "\n",
    "Additive means the formula looks more like this: Data = Level + Trend + Seasonality\n",
    "\n",
    "Multiplicative means the formula looks more like this: Data = Level x Trend x Seasonality"
   ]
  },
  {
   "cell_type": "markdown",
   "metadata": {},
   "source": [
    "We are using Box-Cox as heteroskedatic test before showed data requires dampening to reduce extremes."
   ]
  },
  {
   "cell_type": "code",
   "execution_count": null,
   "metadata": {
    "_kg_hide-input": true,
    "_kg_hide-output": true
   },
   "outputs": [],
   "source": [
    "from statsmodels.tsa.holtwinters import ExponentialSmoothing\n",
    "\n",
    "# First we split it up between train and test\n",
    "htrain = train['PJME_MW'] # HWES takes series, not DF\n",
    "htest = test['PJME_MW'] # HWES takes series, not DF\n",
    "\n",
    "model = ExponentialSmoothing(\n",
    "    htrain\n",
    "    ,trend='add'\n",
    "    ,seasonal='add'\n",
    "    ,freq='D'\n",
    "    ,seasonal_periods=90 #Default is auto estimated - 4 is quarterly and 7 is weekly\n",
    ").fit(\n",
    "    optimized=True # Default is True - auto estimates the other parameters using Grid Search\n",
    "    ,use_basinhopping=True # Uses Basin Hopping Algorithm for optimising parameters\n",
    "    ,use_boxcox='log' #Boxcox transformation via log\n",
    "    #,smoothing_level= # Alpha\n",
    "    #,smoothing_slope= # Beta\n",
    "    #,smoothing_seasonal= # Gamma\n",
    ")\n",
    "\n",
    "HWES_prediction = model.predict(start=htest.index[0], end=htest.index[-1])\n",
    "HWES_prediction = HWES_prediction.to_frame().rename(columns={0: 'PJME_MW'})\n",
    "\n",
    "print(\"Finished training and predicting\")\n",
    "\n",
    "# Let's see what the model did\n",
    "model.summary()"
   ]
  },
  {
   "cell_type": "markdown",
   "metadata": {},
   "source": [
    "Using Holtwinters, data from 2002 to 2017 was used to train the model, while the remaining 2017 to 2018 data was used to test/evaluate the model's accuracy.\n",
    "\n",
    "Training data is in blue, while test/evaluation data is in red.\n",
    "\n",
    "Let's evaluate our model using Mean Absolute Error (MAE) and visualise the results"
   ]
  },
  {
   "cell_type": "code",
   "execution_count": null,
   "metadata": {
    "_kg_hide-input": true
   },
   "outputs": [],
   "source": [
    "# Evaluate it's performance using Mean Absolute Error (MAE)\n",
    "from statsmodels.tools.eval_measures import meanabs\n",
    "\n",
    "print(\"MAE HWES ADD: {:.20f}\".format(meanabs(htest, HWES_prediction['PJME_MW'])))"
   ]
  },
  {
   "cell_type": "code",
   "execution_count": null,
   "metadata": {
    "_kg_hide-input": true
   },
   "outputs": [],
   "source": [
    "# Let's visually see the results\n",
    "plt.scatter(x=train.index, y=train['PJME_MW'], label='Training Data', color='black')\n",
    "plt.scatter(x=test.index, y=test['PJME_MW'], label='Test Actuals', color='red')\n",
    "plt.plot(HWES_prediction['PJME_MW'], label='HWES', color='orange')\n",
    "\n",
    "# Plot Labels, Legends etc\n",
    "plt.xlabel(\"Timestamp\")\n",
    "plt.ylabel(\"MWh\")\n",
    "plt.legend(loc='best')\n",
    "plt.title('Holtwinters Model (Daily) - Results')\n",
    "\n",
    "# For clarify, let's limit to only 2017 onwards\n",
    "plt.xlim(datetime(2017, 1, 1),datetime(2018, 9, 1))\n",
    "\n",
    "plt.show()"
   ]
  },
  {
   "cell_type": "markdown",
   "metadata": {},
   "source": [
    "So it seems Exponential Smoothing is a no-go - let's see how the others fare."
   ]
  },
  {
   "cell_type": "markdown",
   "metadata": {},
   "source": [
    "# XGBoost - Ensemble Learning\n",
    "\n",
    "XGBoost has gained in popularity recently by being quite good at predicting many different types of problems.\n",
    "\n",
    "Normally with decision-tree models, you would get the data and create one tree for it. This of course means it is very prone to overfitting and being confused by the unique tendencies of the past data.\n",
    "\n",
    "To overcome this, you do 'gradient boosting'. At a very high-level, it is analogous to the algorithm creating a decision tree to try to predict the result, figure out how wrong it was, and then create another tree that learns from the first one's 'mistakes'.\n",
    "\n",
    "This process is then repeated a few hundreds or even a few thousand times, with each tree being 'boosted' by the prior one's mistakes. The algorithm keeps going until it stops improving itself.\n",
    "\n",
    "The technical aspects of the mathematics are much more complex (and a bit beyond my knowledge to bef honest). If you want more details, the documentation is here."
   ]
  },
  {
   "cell_type": "markdown",
   "metadata": {},
   "source": [
    "## Feature Engineering\n",
    "\n",
    "As eluded earlier, most machine learning models don't 'look back' to prior values. Essentially if you have a table, each 'row' is an independent data point and the ML model doesn't consider the prior row's data.\n",
    "\n",
    "This is problematic for time series data, as shown above, autocorrelation happens.\n",
    "\n",
    "To address this issue, we use feature engineering to create additional features - in this case, I created 365 extra columns each prior day. Today minus 1 day, Today minus 2 days ... until Today minus 365 days."
   ]
  },
  {
   "cell_type": "code",
   "execution_count": null,
   "metadata": {
    "_kg_hide-input": true
   },
   "outputs": [],
   "source": [
    "# Feature Engineering first\n",
    "\n",
    "def preprocess_xgb_data(df, lag_start=1, lag_end=365):\n",
    "    '''\n",
    "    Takes data and preprocesses for XGBoost.\n",
    "    \n",
    "    :param lag_start default 1 : int\n",
    "        Lag window start - 1 indicates one-day behind\n",
    "    :param lag_end default 365 : int\n",
    "        Lag window start - 365 indicates one-year behind\n",
    "        \n",
    "    Returns tuple : (data, target)\n",
    "    '''\n",
    "    # Default is add in lag of 365 days of data - ie make the model consider 365 days of prior data\n",
    "    for i in range(lag_start,lag_end):\n",
    "        df[f'PJME_MW {i}'] = df.shift(periods=i, freq='D')['PJME_MW']\n",
    "\n",
    "    df.reset_index(inplace=True)\n",
    "\n",
    "    # Split out attributes of timestamp - hopefully this lets the algorithm consider seasonality\n",
    "    df['date_epoch'] = pd.to_numeric(df['Datetime']) # Easier for algorithm to consider consecutive integers, rather than timestamps\n",
    "    df['dayofweek'] = df['Datetime'].dt.dayofweek\n",
    "    df['dayofmonth'] = df['Datetime'].dt.day\n",
    "    df['dayofyear'] = df['Datetime'].dt.dayofyear\n",
    "    df['weekofyear'] = df['Datetime'].dt.weekofyear\n",
    "    df['quarter'] = df['Datetime'].dt.quarter\n",
    "    df['month'] = df['Datetime'].dt.month\n",
    "    df['year'] = df['Datetime'].dt.year\n",
    "    \n",
    "    x = df.drop(columns=['Datetime', 'PJME_MW']) #Don't need timestamp and target\n",
    "    y = df['PJME_MW'] # Target prediction is the load\n",
    "    \n",
    "    return x, y"
   ]
  },
  {
   "cell_type": "markdown",
   "metadata": {},
   "source": [
    "Let's see what this looks like:"
   ]
  },
  {
   "cell_type": "code",
   "execution_count": null,
   "metadata": {
    "_kg_hide-input": true
   },
   "outputs": [],
   "source": [
    "example_data = train.copy() #Otherwise it becomes a pointer\n",
    "\n",
    "example_x, example_y = preprocess_xgb_data(example_data)\n",
    "\n",
    "example_x.head(10)"
   ]
  },
  {
   "cell_type": "markdown",
   "metadata": {},
   "source": [
    "Now we need to split the time series between training and test - like what we did before.\n",
    "\n",
    "Cross validation is harder in this case, as the datasets need to be sequential.\n",
    "\n",
    "We will also need to specify features and labels (ie the target we want to predict)."
   ]
  },
  {
   "cell_type": "code",
   "execution_count": null,
   "metadata": {
    "_kg_hide-input": true
   },
   "outputs": [],
   "source": [
    "xtrain = train.copy() #Otherwise it becomes a pointer\n",
    "xtest = test.copy() # Otherwise it becomes a pointer\n",
    "\n",
    "train_feature, train_label = preprocess_xgb_data(xtrain)\n",
    "test_feature, test_label = preprocess_xgb_data(xtest)"
   ]
  },
  {
   "cell_type": "markdown",
   "metadata": {},
   "source": [
    "Finally we train the model and see how well it performed (using MAE) and visualise the results.\n",
    "\n",
    "To train the model, again I split the data into two parts: Training from 2002 to 2017 and Evaluation/Testing from 2017 to 2018.\n",
    "\n",
    "In this case, I used 1000 runs and a maximum depth of each tree to be 6. That is, it does 1000 runs (or less if it stops improving), with each tree having a max of 6 levels.\n",
    "\n",
    "As a tree-based algorithm, generally XGBoost doesn't handle trends in data well compared to linear models. However, given as shown above in the ADF test, the data is stationary, trend is not really an issue and we can proceed. Otherwise we would need to de-trend the data first as part of preprocessing."
   ]
  },
  {
   "cell_type": "code",
   "execution_count": null,
   "metadata": {
    "_kg_hide-input": true,
    "_kg_hide-output": true
   },
   "outputs": [],
   "source": [
    "#Train and predict using XGBoost\n",
    "from xgboost import XGBRegressor\n",
    "from sklearn.model_selection import KFold, train_test_split\n",
    "\n",
    "# We will try with 1000 trees and a maximum depth of each tree to be 5\n",
    "# Early stop if the model hasn't improved in 100 rounds\n",
    "model = XGBRegressor(\n",
    "    max_depth=6 # Default - 6\n",
    "    ,n_estimators=1000\n",
    "    ,booster='gbtree'\n",
    "    ,colsample_bytree=1 # Subsample ratio of columns when constructing each tree - default 1\n",
    "    ,eta=0.3 # Learning Rate - default 0.3\n",
    "    ,importance_type='weight' # Default is gain\n",
    ")\n",
    "model.fit(\n",
    "    train_feature\n",
    "    ,train_label\n",
    "    ,eval_set=[(train_feature, train_label)]\n",
    "    ,eval_metric='mae'\n",
    "    ,verbose=True\n",
    "    ,early_stopping_rounds=100 # Stop after 100 rounds if it doesn't after 100 times\n",
    ")\n",
    "\n",
    "xtest['PJME_MW Prediction'] = model.predict(test_feature)\n",
    "XGB_prediction = xtest[['Datetime', 'PJME_MW Prediction']].set_index('Datetime')"
   ]
  },
  {
   "cell_type": "code",
   "execution_count": null,
   "metadata": {
    "_kg_hide-input": true
   },
   "outputs": [],
   "source": [
    "from sklearn.metrics import mean_absolute_error\n",
    "\n",
    "print(\"MAE XGB: {:.20f}\".format(mean_absolute_error(test_label, XGB_prediction['PJME_MW Prediction'])))"
   ]
  },
  {
   "cell_type": "code",
   "execution_count": null,
   "metadata": {
    "_kg_hide-input": true
   },
   "outputs": [],
   "source": [
    "# Let's visually see the results\n",
    "plt.scatter(x=train.index, y=train['PJME_MW'], label='Training Data', color='black')\n",
    "plt.scatter(x=test.index, y=test['PJME_MW'], label='Test Actuals', color='red')\n",
    "plt.plot(XGB_prediction, label='XGB One-Step Ahead', color='orange')\n",
    "\n",
    "# Plot Labels, Legends etc\n",
    "plt.xlabel(\"Timestamp\")\n",
    "plt.ylabel(\"MWh\")\n",
    "plt.legend(loc='best')\n",
    "plt.title('XGBoost Model One-Step Ahead (Daily) - Results')\n",
    "\n",
    "# For clarify, let's limit to only 2015 onwards\n",
    "plt.xlim(datetime(2015, 1, 1),datetime(2018, 10, 1))\n",
    "\n",
    "\n",
    "plt.show()"
   ]
  },
  {
   "cell_type": "markdown",
   "metadata": {},
   "source": [
    "The results of the model are fairly accurate!\n",
    "\n",
    "However, caveat is that because the model knows about yesterday's value. Therefore, the 'forecast horizon' (ie the maximum length of time it can predict into the future) is only 1 day. This is also known as a 'One-Step Ahead Forecast'.\n",
    "\n",
    "If you only have yesterday's value, you can only predict today's value. If you only have today's value, you can only predict tomorrow's value."
   ]
  },
  {
   "cell_type": "markdown",
   "metadata": {},
   "source": [
    "Now let's see what the algorithm considered most important - we'll grab the **Top 10 features by weight**.\n",
    "\n",
    "The weight is the percentage representing the relative number of times a particular feature occurs in the trees of the model. It's a rough way of saying the more times you reference a particular feature, the more likely it is important."
   ]
  },
  {
   "cell_type": "code",
   "execution_count": null,
   "metadata": {
    "_kg_hide-input": true
   },
   "outputs": [],
   "source": [
    "import xgboost as xgb\n",
    "\n",
    "xgb.plot_importance(model, max_num_features=10, importance_type='weight') # \"weight” is the number of times a feature appears in a tree\n",
    "\n",
    "plt.show()"
   ]
  },
  {
   "cell_type": "markdown",
   "metadata": {},
   "source": [
    "Seems like yesterday's value is the biggest factor in determining today's value! This, again, makes sense, given how the autocorrelation function showed yesterday's value had the biggest correlation with today's value."
   ]
  },
  {
   "cell_type": "markdown",
   "metadata": {},
   "source": [
    "## An alternative feature engineering approach - let's include lag without data leakage\n",
    "Let's try to make the XGBoost model more than One-Step Ahead - we'll only feature engineer:\n",
    "\n",
    "- Day of the Week\n",
    "- Day of the Month\n",
    "- Day of the Year\n",
    "- Week of the Year\n",
    "- Month\n",
    "- Year\n",
    "\n",
    "Hopefully this is enough for the model to artificially pick up 'seasonality' factors - e.g., if same day of week, might be correlated.\n",
    "\n",
    "However, as forecast horizon is 365 days, we can still include lag-365 to lag-720 days data (i.e. year-before last year's data)."
   ]
  },
  {
   "cell_type": "code",
   "execution_count": null,
   "metadata": {
    "_kg_hide-input": true
   },
   "outputs": [],
   "source": [
    "# So because we need the lag data, we need to preprocess then do the split\n",
    "all_data = daily_data.copy()\n",
    "\n",
    "feature, label = preprocess_xgb_data(all_data, lag_start=365, lag_end=720)\n",
    "\n",
    "# We will aim for a 12 month forecast horizon (ie predict the last 365 days in the dataset)\n",
    "train_feature = feature[:-365]\n",
    "train_label = label[:-365]\n",
    "\n",
    "test_feature = feature[-365:]\n",
    "test_label = label[-365:]"
   ]
  },
  {
   "cell_type": "code",
   "execution_count": null,
   "metadata": {
    "_kg_hide-input": true,
    "_kg_hide-output": true
   },
   "outputs": [],
   "source": [
    "#Train and predict using XGBoost\n",
    "from xgboost import XGBRegressor\n",
    "from sklearn.model_selection import KFold, train_test_split\n",
    "\n",
    "# We will try with 1000 trees and a maximum depth of each tree to be 5\n",
    "# Early stop if the model hasn't improved in 100 rounds\n",
    "model = XGBRegressor(\n",
    "    max_depth=6 # Default - 6\n",
    "    ,n_estimators=1000\n",
    "    ,booster='gbtree'\n",
    "    ,colsample_bytree=1 # Subsample ratio of columns when constructing each tree - default 1\n",
    "    ,eta=0.3 # Learning Rate - default 0.3\n",
    "    ,importance_type='gain' # Default is gain\n",
    ")\n",
    "model.fit(\n",
    "    train_feature\n",
    "    ,train_label\n",
    "    ,eval_set=[(train_feature, train_label)]\n",
    "    ,eval_metric='mae'\n",
    "    ,verbose=True\n",
    "    ,early_stopping_rounds=100 # Stop after 100 rounds if it doesn't after 100 times\n",
    ")\n",
    "\n",
    "xtest['PJME_MW'] = model.predict(test_feature)\n",
    "XGB_prediction_no_lag = xtest[['Datetime', 'PJME_MW Prediction']].set_index('Datetime')\n",
    "XGB_prediction_no_lag = XGB_prediction_no_lag.rename(columns={'PJME_MW Prediction': 'PJME_MW'})"
   ]
  },
  {
   "cell_type": "code",
   "execution_count": null,
   "metadata": {
    "_kg_hide-input": true
   },
   "outputs": [],
   "source": [
    "# Let's visually see the results\n",
    "plt.scatter(x=train.index, y=train['PJME_MW'], label='Training Data', color='black')\n",
    "plt.scatter(x=test.index, y=test['PJME_MW'], label='Test Actuals', color='red')\n",
    "plt.plot(XGB_prediction_no_lag, label='XGB No Lag', color='orange')\n",
    "\n",
    "# Plot Labels, Legends etc\n",
    "plt.xlabel(\"Timestamp\")\n",
    "plt.ylabel(\"MWh\")\n",
    "plt.legend(loc='best')\n",
    "plt.title('XGBoost Model (Daily) - Results')\n",
    "\n",
    "# For clarify, let's limit to only 2015 onwards\n",
    "plt.xlim(datetime(2015, 1, 1),datetime(2018, 10, 1))\n",
    "\n",
    "plt.show()"
   ]
  },
  {
   "cell_type": "markdown",
   "metadata": {},
   "source": [
    "Again let's see feature importance - this time by gain, not weight (as model trained on gain)"
   ]
  },
  {
   "cell_type": "code",
   "execution_count": null,
   "metadata": {
    "_kg_hide-input": true
   },
   "outputs": [],
   "source": [
    "import xgboost as xgb\n",
    "\n",
    "xgb.plot_importance(model, max_num_features=10, importance_type='gain') # gain is how much each feature contributed to 'improvement' of tree\n",
    "\n",
    "plt.show()"
   ]
  },
  {
   "cell_type": "markdown",
   "metadata": {},
   "source": [
    "Overall, quite good results! Now let's have a look at the residuals/errors.\n",
    "\n",
    "First let's look at the distribution of the errors - remember, the ideal state is the errors are centred around zero (meaning the model does n't particularly over or under forecast in a biased way):"
   ]
  },
  {
   "cell_type": "code",
   "execution_count": null,
   "metadata": {
    "_kg_hide-input": true,
    "_kg_hide-output": true
   },
   "outputs": [],
   "source": [
    "# First construct the residuals - basically the errors\n",
    "xgboost_errors = XGB_prediction_no_lag.copy()\n",
    "xgboost_errors['PJME_MW_ACTUAL'] = test.copy()\n",
    "xgboost_errors['error'] = xgboost_errors['PJME_MW Prediction'] - xgboost_errors['PJME_MW_ACTUAL']"
   ]
  },
  {
   "cell_type": "code",
   "execution_count": null,
   "metadata": {
    "_kg_hide-input": true
   },
   "outputs": [],
   "source": [
    "# Let's visually see the errors via scatterplot\n",
    "plt.scatter(xgboost_errors.index, xgboost_errors['error'], label='Residual/Errors')\n",
    "\n",
    "# Plot Labels, Legends etc\n",
    "plt.title('XGBoost - Residual/Errors Distribution')\n",
    "plt.xlabel(\"Timestamp\")\n",
    "plt.ylabel(\"MWh\")\n",
    "plt.legend(loc='best')\n",
    "\n",
    "plt.show()"
   ]
  },
  {
   "cell_type": "code",
   "execution_count": null,
   "metadata": {
    "_kg_hide-input": false
   },
   "outputs": [],
   "source": [
    "# Plot Histogram with Kernel Density Estimation (KDE)\n",
    "sns.distplot(xgboost_errors['error'], kde=True);\n",
    "\n",
    "# Plot Labels, Legends etc\n",
    "plt.title('XGBoost - Residual/Errors Distribution')"
   ]
  },
  {
   "cell_type": "markdown",
   "metadata": {},
   "source": [
    "So looking quite good - you can see some forecasts were pretty off (particularly for spikes), but overall, it seems the model treats overs and under equal."
   ]
  },
  {
   "cell_type": "markdown",
   "metadata": {},
   "source": [
    "Next let's look at the autocorrelation of the errors"
   ]
  },
  {
   "cell_type": "code",
   "execution_count": null,
   "metadata": {
    "_kg_hide-input": true
   },
   "outputs": [],
   "source": [
    "from statsmodels.graphics.tsaplots import plot_acf\n",
    "\n",
    "# Plot the acf function\n",
    "plot_acf(xgboost_errors['error'],lags=300) #alpha 1 suppresses CI\n",
    "\n",
    "plt.title('XGBoost - Residual/Errors Autocorrelation')\n",
    "plt.show()"
   ]
  },
  {
   "cell_type": "markdown",
   "metadata": {},
   "source": [
    "So most of the points are within the shaded blue (ie confidence interval), indicating there's no statistically significant autocorrelation going on. This is good, as if there was autocorrelation with our errors, it means there's some autocorrelation our model is failing to capture."
   ]
  },
  {
   "cell_type": "markdown",
   "metadata": {},
   "source": [
    "# LASSO (L1) Regression\n",
    "\n",
    "LASSO regression incorporate regularisation and feature selection into its algorithm. Regularisation is a technique used in regression algorithms to avoid overfitting. For LASSO, this means it will penalise the 'irrelevant' features by effectively by 'zeroing' out those features (by multiplying it with a 0 coefficient). \n",
    "\n",
    "The main hyperparameter to tune is the penalty factor (i.e. lambda or alpha). A factor of 0 means no penalisation occurs, and it effectively just does an Ordinary-Least-Squares (OLS) regression.\n",
    "\n",
    "Since we've already set up all the train-test split (as well as feature engineering) in the prior XGBoost model, we can just re-use it.\n",
    "\n",
    "However, like the decision tree-based XGBoost, linear regression is sensitive to scale. Therefore, we also need to scale the data."
   ]
  },
  {
   "cell_type": "code",
   "execution_count": null,
   "metadata": {
    "_kg_hide-input": true,
    "_kg_hide-output": true
   },
   "outputs": [],
   "source": [
    "# So because we need the lag data, we need to preprocess then do the split\n",
    "all_data = daily_data.copy()\n",
    "\n",
    "# Create train test dataset using XGBoost preprocessing (365 days top 720 days lag)\n",
    "feature, label = preprocess_xgb_data(all_data, lag_start=365, lag_end=720)\n",
    "\n",
    "# We will aim for a 12 month forecast horizon (ie predict the last 365 days in the dataset)\n",
    "train_feature = feature[:-365]\n",
    "train_label = label[:-365]\n",
    "\n",
    "test_feature = feature[-365:]\n",
    "test_label = label[-365:]\n",
    "\n",
    "train_feature = train_feature.fillna(0)\n",
    "test_feature = test_feature.fillna(0)\n",
    "\n",
    "# train_feature.drop(columns=['date_epoch']) #Don't need timestamp\n",
    "# test_feature.drop(columns=['date_epoch']) #Don't need timestamp\n",
    "\n",
    "# Scale dataset\n",
    "from sklearn.preprocessing import StandardScaler\n",
    "scaler = StandardScaler()\n",
    "\n",
    "train_feature_scaled = scaler.fit_transform(train_feature)\n",
    "test_feature_scaled = scaler.transform(test_feature)"
   ]
  },
  {
   "cell_type": "markdown",
   "metadata": {},
   "source": [
    "Next we'll train the model using sklearn's time series split cross validation method.\n",
    "\n",
    "In this case, we'll create a 5-fold split."
   ]
  },
  {
   "cell_type": "code",
   "execution_count": null,
   "metadata": {
    "_kg_hide-input": true,
    "_kg_hide-output": true
   },
   "outputs": [],
   "source": [
    "# Create Time Series k-fold cross validation\n",
    "from sklearn.model_selection import TimeSeriesSplit\n",
    "tscv = TimeSeriesSplit(n_splits=5) # in this case 5-fold\n",
    "\n",
    "#Train and predict using LASSO\n",
    "from sklearn.linear_model import LassoCV\n",
    "\n",
    "model = LassoCV(\n",
    "    alphas=[0.0001, 0.0003, 0.0006, 0.001, 0.003, 0.006, 0.01, 0.03, 0.06, 0.1,0.3, 0.6, 1]\n",
    "    ,max_iter=1000 # 1000 iterations\n",
    "    ,random_state=42\n",
    "    ,cv=tscv\n",
    "    ,verbose=True\n",
    ")\n",
    "model.fit(\n",
    "    train_feature_scaled\n",
    "    ,train_label\n",
    ")\n",
    "LASSO_prediction = xtest.copy()\n",
    "LASSO_prediction['PJME_MW Prediction'] = model.predict(test_feature_scaled)\n",
    "LASSO_prediction = LASSO_prediction[['Datetime', 'PJME_MW Prediction']].set_index('Datetime')\n",
    "LASSO_prediction = LASSO_prediction.rename(columns={'PJME_MW Prediction': 'PJME_MW'})\n",
    "\n",
    "LASSO_prediction"
   ]
  },
  {
   "cell_type": "markdown",
   "metadata": {},
   "source": [
    "Now let's plot the results"
   ]
  },
  {
   "cell_type": "code",
   "execution_count": null,
   "metadata": {
    "_kg_hide-input": true
   },
   "outputs": [],
   "source": [
    "# Let's visually see the results\n",
    "plt.scatter(x=train.index, y=train['PJME_MW'], label='Training Data', color='black')\n",
    "plt.scatter(x=test.index, y=test['PJME_MW'], label='Test Actuals', color='red')\n",
    "plt.plot(LASSO_Prediction, label='LASSO', color='orange')\n",
    "\n",
    "# Plot Labels, Legends etc\n",
    "plt.xlabel(\"Timestamp\")\n",
    "plt.ylabel(\"MWh\")\n",
    "plt.legend(loc='best')\n",
    "plt.title('LASSO Model (Daily) - Results')\n",
    "plt.tight_layout()\n",
    "plt.grid(True)\n",
    "\n",
    "\n",
    "# For clarify, let's limit to only 2015 onwards\n",
    "plt.xlim(datetime(2015, 1, 1),datetime(2018, 10, 1))         \n",
    "\n",
    "plt.show()"
   ]
  },
  {
   "cell_type": "markdown",
   "metadata": {},
   "source": [
    "Next let's see feature importance by way of coefficients - we'll only get Top 10.\n",
    "\n",
    "Remember, LASSO will 'zero-out' irrelevant features, so in this case, these are the Top 10 features that LASSO considers are most important."
   ]
  },
  {
   "cell_type": "code",
   "execution_count": null,
   "metadata": {
    "_kg_hide-input": true
   },
   "outputs": [],
   "source": [
    "# Plot feature importance by way of coefficients    \n",
    "\n",
    "# Create DataFrame\n",
    "coefs = pd.DataFrame(model.coef_, train_feature.columns)\n",
    "coefs.columns = [\"coef\"]\n",
    "\n",
    "# Only grab the Top 10 Coefficients\n",
    "coefs[\"abs\"] = coefs.coef.apply(np.abs)\n",
    "coefs = coefs.sort_values(by=\"abs\", ascending=False).head(10)\n",
    "coefs = coefs.drop([\"abs\"], axis=1)\n",
    "\n",
    "# Plot\n",
    "coefs.coef.plot(kind='bar')\n",
    "\n",
    "# Plot title and x-axis line\n",
    "plt.title(\"Coefficients - Feature Importance\")\n",
    "plt.hlines(y=0, xmin=0, xmax=len(coefs), linestyles='dashed');"
   ]
  },
  {
   "cell_type": "markdown",
   "metadata": {},
   "source": [
    "So LASSO is producing half decent results! Now let's have a look at the residuals/errors.\n",
    "\n",
    "First let's look at the distribution of the errors - remember, the ideal state is the errors are centred around zero (meaning the model doesn't particularly over or under forecast in a biased way)"
   ]
  },
  {
   "cell_type": "code",
   "execution_count": null,
   "metadata": {
    "_kg_hide-input": true,
    "_kg_hide-output": true
   },
   "outputs": [],
   "source": [
    "# First construct the residuals - basically the errors\n",
    "lasso_errors = LASSO_prediction.copy()\n",
    "lasso_errors['PJME_MW_ACTUAL'] = test.copy()\n",
    "lasso_errors['error'] = lasso_errors['PJME_MW'] - lasso_errors['PJME_MW_ACTUAL']"
   ]
  },
  {
   "cell_type": "code",
   "execution_count": null,
   "metadata": {},
   "outputs": [],
   "source": [
    "# Plot Histogram with Kernel Density Estimation (KDE)\n",
    "sns.distplot(lasso_errors['error'], kde=True)\n",
    "\n",
    "# Plot Labels, Legends etc\n",
    "plt.title('LASSO - Residual/Errors Distribution')\n",
    "\n",
    "plt.show()"
   ]
  },
  {
   "cell_type": "code",
   "execution_count": null,
   "metadata": {
    "_kg_hide-input": true
   },
   "outputs": [],
   "source": [
    "# Plot the acf function\n",
    "plot_acf(lasso_errors['error'],lags=300) #alpha 1 suppresses CI\n",
    "\n",
    "plt.title('LASSO - Residual/Errors Autocorrelation')\n",
    "plt.show()"
   ]
  },
  {
   "cell_type": "markdown",
   "metadata": {},
   "source": [
    "# SARIMA\n",
    "\n",
    "The conventional ARIMA model assumes that the historical data are useful to predict the value at the next time step. In this case, this is somewhat true, as the ACF plot before showed past value is somewhat correlated with today's value.\n",
    "\n",
    "ARIMA basically integrates two naive forecasting techniques together:\n",
    "\n",
    "1. **Autoregression** - Uses one or more past values to forecast the future. The number of values used is known as the 'order' (e.g. order 2 means yesterday and day before's value is used)\n",
    "\n",
    "2. **Integrating** - the part that reduces seasonality. How many degrees of differencing is done to reduce seasonality is the 'order'.\n",
    "\n",
    "3. **Moving Average** - Uses the Moving Average of the historical data to adjust the forecasted values. This has a 'smoothing' effect on the past data, as it uses the moving average rather than the actual values of the past. The number of days in the moving average window is the 'order'.\n",
    "\n",
    "SARIMA then adds a '**seasonality**' flavour to the ARIMA model - it factors in trends and seasonality, as explained above.\n",
    "\n",
    "The main hyperparameters are SARIMAX(p,d,q)(P,D,Q,m):\n",
    "1. autoregression order (p)\n",
    "2. Integrating order (d)\n",
    "3. moving average window (q)\n",
    "4. Seasonal autoregressive order (P)\n",
    "5. Seasonal difference order (D)\n",
    "6. Seasonal moving average order (Q)\n",
    "7. number of time steps for a single seasonal period (m)\n",
    "\n",
    "The X is the exogenous (external) variables to the model - they are optional and for this model we won't use them."
   ]
  },
  {
   "cell_type": "markdown",
   "metadata": {},
   "source": [
    "Like Holtwinters, the training and testing data was split between 2002 to 2017 and 2017 to 2018.\n",
    "\n",
    "The results were as follows:\n"
   ]
  },
  {
   "cell_type": "code",
   "execution_count": null,
   "metadata": {
    "_kg_hide-input": true,
    "_kg_hide-output": true
   },
   "outputs": [],
   "source": [
    "from statsmodels.tsa.statespace.sarimax import SARIMAX\n",
    "from statsmodels.tools.eval_measures import meanabs\n",
    "\n",
    "# Equivalent to R's Auto ARIMA to get the optimal parameters\n",
    "#import pmdarima as pm\n",
    "#model = pm.auto_arima(htrain, seasonal=True, stationary=True, stepwise=True, trace=True, suppress_warnings=True)\n",
    "\n",
    "# First we split it up between train and test\n",
    "htrain = train['PJME_MW'] # SARIMAX takes series, not DF\n",
    "htest = test['PJME_MW'] # SARIMAX takes series, not DF\n",
    "\n",
    "# Next define hyperparameters. Default is AR model (1,0,0)(0,0,0,0)\n",
    "p = 1 # AR order\n",
    "d = 0 # I degree\n",
    "q = 1 # MA window\n",
    "P = 0 # AR seasonal order\n",
    "D = 1 # I seasonal order\n",
    "Q = 2 # MA seasonal order\n",
    "m = 6 # Seasonality period length\n",
    "\n",
    "model = SARIMAX(\n",
    "    htrain,\n",
    "    order=(p, d, q),\n",
    "    seasonal_order=(P, D, Q, m)\n",
    "    ,enforce_stationarity=False\n",
    "    ,enforce_invertibility=False\n",
    ").fit(\n",
    "    maxiter=50 # Default is 50\n",
    ")\n",
    "\n",
    "results = model.get_prediction(start=htest.index[0], end=htest.index[-1], dynamic=False)\n",
    "SARIMA_prediction_CI = results.conf_int(alpha=(1-0.8)) # 80% CI\n",
    "SARIMA_prediction = results.predicted_mean\n",
    "SARIMA_prediction = SARIMA_prediction.to_frame().rename(columns={0: 'PJME_MW'})\n",
    "\n",
    "# Evaluate it's performance using Mean Absolute Error (MAE)\n",
    "print(\"Finished training and predicting. MAE SARIMA: {:.20f}. AIC: {}. Parameters: p,d,q,P,D,Q,m: \".format(meanabs(htest, SARIMA_prediction['PJME_MW']), model.aic), p,d,q,P,D,Q,m)"
   ]
  },
  {
   "cell_type": "code",
   "execution_count": null,
   "metadata": {
    "_kg_hide-input": true
   },
   "outputs": [],
   "source": [
    "# Let's see what the model did\n",
    "model.plot_diagnostics(figsize=(15, 12))\n",
    "plt.show()"
   ]
  },
  {
   "cell_type": "markdown",
   "metadata": {},
   "source": [
    "Importantly, the model should have the residuals uncorrelated and normally distributed (ie the mean should be zero). That is the, the centre point of the residuals should be zero and the distribution plot (KDE) should also be centred on 0."
   ]
  },
  {
   "cell_type": "markdown",
   "metadata": {},
   "source": [
    "Let's evaluate the results and visualise it."
   ]
  },
  {
   "cell_type": "code",
   "execution_count": null,
   "metadata": {
    "_kg_hide-input": true
   },
   "outputs": [],
   "source": [
    "# Evaluate it's performance using Mean Absolute Error (MAE)\n",
    "from statsmodels.tools.eval_measures import meanabs\n",
    "\n",
    "print(\"MAE SARIMA: {:.20f}\".format(meanabs(htest, SARIMA_prediction['PJME_MW'])))"
   ]
  },
  {
   "cell_type": "code",
   "execution_count": null,
   "metadata": {
    "_kg_hide-input": true
   },
   "outputs": [],
   "source": [
    "# Let's visually see the results\n",
    "plt.scatter(x=train.index, y=train['PJME_MW'], label='Training Data', color='black')\n",
    "plt.scatter(x=test.index, y=test['PJME_MW'], label='Test Actuals', color='red')\n",
    "plt.plot(SARIMA_prediction['PJME_MW'], label='SARIMA', color='orange')\n",
    "\n",
    "# Plot Confidence Interval\n",
    "plt.fill_between(\n",
    "    SARIMA_prediction.index,\n",
    "    SARIMA_prediction_CI['lower PJME_MW'],\n",
    "    SARIMA_prediction_CI['upper PJME_MW'],\n",
    "    color='skyblue',\n",
    "    alpha=0.7, # 70% transparency\n",
    "    label='80% CI'\n",
    ")\n",
    "\n",
    "# Plot Labels, Legends etc\n",
    "plt.xlabel(\"Timestamp\")\n",
    "plt.ylabel(\"MWh\")\n",
    "plt.legend(loc='best')\n",
    "plt.title('SARIMA Model (Daily) - Results')\n",
    "\n",
    "# For clarify, let's limit to only 2017 onwards\n",
    "plt.xlim(datetime(2017, 1, 1),datetime(2018, 9, 1))\n",
    "\n",
    "plt.show()"
   ]
  },
  {
   "cell_type": "markdown",
   "metadata": {},
   "source": [
    "So you can see that despite some tuning, the results are not particularly good. The confidence interval is very big, indicating the model has is not 'confident' in the prediction either."
   ]
  },
  {
   "cell_type": "markdown",
   "metadata": {},
   "source": [
    "# Prophet\n",
    "\n",
    "Lastly, we will use Facebook Prophet - an open-source library that is also a generalised additive model (ie final result is made up of multiple components added together).\n",
    "\n",
    "## It's all about probabilities!\n",
    "\n",
    "Unlike regular Generalised Linear Models, Facebook Prophet's uses a Bayesian curve fitting approach. The concept of Bayesian theorem is, at high level, trying to determine the probability of related events given knowledge/assumptions you already know (ie 'priors').\n",
    "\n",
    "This is basically fancy talk for saying it focuses on finding a bunch of possible parameters and the probability of each one rather than finding fixed optimal values for the model. How certain (or uncertain) the model is about each possible parameter is known as the 'uncertainty interval' - the less data the model sees, the bigger the interval is.\n",
    "\n",
    "The sources of uncertainty that Prophet's Bayesian approach aims to address are:\n",
    "\n",
    "* Uncertainty of the predicted value\n",
    "* Uncertainty of the trend and trend changes\n",
    "* Uncertainty of additional noise\n",
    "\n",
    "## Trends, 'Changepoints' and Seasonality\n",
    "\n",
    "Prophet is different to SARIMA and HoltWinters, as it essentially decomposes time series differently by:\n",
    "\n",
    "**Data = Trend +/x Seasonality +/x Holidays +/x Noise**\n",
    "\n",
    "In Prophet, trend represents non-periodic changes while seasonality represents periodic changes. Where it differs from other statistic models like SARIMA and Holtwinters is Prophet factors in the uncertainty of trends changing.\n",
    "\n",
    "Interestingly, Prophet fits a curve to each component independently (ie fits a regression for each component with time as independent variable). That is:\n",
    "\n",
    "Trend - fits piece-wise linear/log curve\n",
    "Seasonality - uses fourier series\n",
    "Holidays - uses constant/fixed values\n",
    "Prophet reacts to changes in trends by 'changepoints' - that is sudden and abrupt changes in the trend. An example, is the release of a new electric car that will impact sale of petrol cars.\n",
    "\n",
    "How 'reactive'/flexible Prophet is to changepoints will impact how much fluctation the model will do. For example, when the changepoint scale is to very high, it becomes very sensitive and any small changes to the trend will be picked up. Consequently, the sensitive model may detect spikes that won't amount to anything, while an insensitive model may miss spikes altogether.\n",
    "\n",
    "The uncertainty of the predictions is determined by the number of changepoints and the flexibility of the changepoint allowed. In other words, if there were many changes in the past, there's likely going to be many changes in the future. Prophet gets the uncertainty by randomly sampling changepoints and seeing what happened before and after.\n",
    "\n",
    "Furthermore, Prophet factors in seasonality by considering both its length (ie seasonal period) and its frequency (ie its 'fourier order').For example, if something keeps happening every week on Monday, the period is 7 days and its frequency is 52 times a year.\n",
    "\n",
    "There's also a function for Prophet to consider additional factors (e.g. holidays), but for the purposes of this forecast we won't use it.\n"
   ]
  },
  {
   "cell_type": "markdown",
   "metadata": {},
   "source": [
    "## Training\n",
    "Prophet works quite well out of the box, so I just stuck with the default hyperparameters.\n",
    "\n",
    "The results can be seen below, with the black dots representing historical points and the blue line representing the prediction:"
   ]
  },
  {
   "cell_type": "code",
   "execution_count": null,
   "metadata": {
    "_kg_hide-input": true,
    "_kg_hide-output": true
   },
   "outputs": [],
   "source": [
    "from fbprophet import Prophet\n",
    "\n",
    "ftrain = train.reset_index().rename(columns={'Datetime':'ds', 'PJME_MW': 'y'}) # Prophet takes ds and y as column names only\n",
    "\n",
    "model = Prophet(\n",
    "    n_changepoints=25 # Default is 25\n",
    "    ,changepoint_prior_scale=0.05 # Default is 0.05\n",
    "    ,seasonality_mode='additive'\n",
    "    ,interval_width=0.8 # CI - default is 0.8 or 80%\n",
    ")\n",
    "model.fit(ftrain)\n",
    "\n",
    "# Create the future dataframe with date range that will be used to test accuracy\n",
    "future_df = test.reset_index()['Datetime'].to_frame().rename(columns={\"Datetime\":'ds'})\n",
    "\n",
    "# Predict the future\n",
    "forecast = model.predict(future_df)\n",
    "PROPHET_prediction = forecast.set_index('ds')[['yhat', 'yhat_lower', 'yhat_upper']][cutoff:]\n",
    "PROPHET_prediction = PROPHET_prediction.rename(columns={'yhat': 'PJME_MW'})\n",
    "\n",
    "print(\"Finished training and predicting\")"
   ]
  },
  {
   "cell_type": "code",
   "execution_count": null,
   "metadata": {
    "_kg_hide-input": true
   },
   "outputs": [],
   "source": [
    "model.plot(forecast)\n",
    "\n",
    "plt.show()"
   ]
  },
  {
   "cell_type": "markdown",
   "metadata": {},
   "source": [
    "Let's zoom into 2017 onwards and visualise it (with the consistent graph format as above):"
   ]
  },
  {
   "cell_type": "code",
   "execution_count": null,
   "metadata": {
    "_kg_hide-input": true
   },
   "outputs": [],
   "source": [
    "# Let's visually see the results\n",
    "plt.scatter(x=train.index, y=train['PJME_MW'], label='Training Data', color='black')\n",
    "plt.scatter(x=test.index, y=test['PJME_MW'], label='Test Actuals', color='red')\n",
    "plt.plot(PROPHET_prediction['PJME_MW'], label='Prophet', color='orange')\n",
    "\n",
    "# Plot Confidence Interval\n",
    "plt.fill_between(\n",
    "    PROPHET_prediction.index,\n",
    "    PROPHET_prediction['yhat_lower'],\n",
    "    PROPHET_prediction['yhat_upper'],\n",
    "    color='skyblue',\n",
    "    alpha=0.7, # 70% transparency\n",
    "    label='80% CI'\n",
    ")\n",
    "\n",
    "# Plot Labels, Legends etc\n",
    "plt.xlabel(\"Timestamp\")\n",
    "plt.ylabel(\"MWh\")\n",
    "plt.legend(loc='best')\n",
    "plt.title('Prophet Model (Daily) - Results')\n",
    "\n",
    "# For clarify, let's limit to only 2017 onwards\n",
    "plt.xlim(datetime(2017, 1, 1),datetime(2018, 9, 1))\n",
    "\n",
    "plt.show()"
   ]
  },
  {
   "cell_type": "markdown",
   "metadata": {},
   "source": [
    "You can see the 80% confidence interval (in light blue), indicating the model is confident that 80% of the actual data will land in that predicted range."
   ]
  },
  {
   "cell_type": "markdown",
   "metadata": {},
   "source": [
    "Like Holtwinters, let's see the components of the model:"
   ]
  },
  {
   "cell_type": "code",
   "execution_count": null,
   "metadata": {
    "_kg_hide-input": true
   },
   "outputs": [],
   "source": [
    "model.plot_components(forecast)\n",
    "\n",
    "plt.show()"
   ]
  },
  {
   "cell_type": "markdown",
   "metadata": {},
   "source": [
    "You can easily see seasonality and trends - there's a clear downward trend and seasonality every year (more electricity is used in winter)"
   ]
  },
  {
   "cell_type": "markdown",
   "metadata": {},
   "source": [
    "Now let's evaluate the residuals and see whether the model is biased in any way. First we'll look at the distribution of the errors:"
   ]
  },
  {
   "cell_type": "code",
   "execution_count": null,
   "metadata": {
    "_kg_hide-input": true,
    "_kg_hide-output": true
   },
   "outputs": [],
   "source": [
    "# First construct the residuals - basically the errors\n",
    "prophet_errors = PROPHET_prediction.copy()\n",
    "prophet_errors['PJME_MW_ACTUAL'] = test['PJME_MW']\n",
    "prophet_errors['error'] = prophet_errors['PJME_MW'] - prophet_errors['PJME_MW_ACTUAL']"
   ]
  },
  {
   "cell_type": "code",
   "execution_count": null,
   "metadata": {},
   "outputs": [],
   "source": [
    "# Let's visually see the errors via scatterplot\n",
    "plt.scatter(prophet_errors.index, prophet_errors['error'], label='Residual/Errors')\n",
    "\n",
    "# Plot Labels, Legends etc\n",
    "plt.title('Prophet - Residual/Errors Distribution')\n",
    "plt.xlabel(\"Timestamp\")\n",
    "plt.ylabel(\"MWh\")\n",
    "plt.legend(loc='best')\n",
    "\n",
    "plt.show()"
   ]
  },
  {
   "cell_type": "code",
   "execution_count": null,
   "metadata": {
    "_kg_hide-input": true
   },
   "outputs": [],
   "source": [
    "# Plot Histogram with Kernel Density Estimation (KDE)\n",
    "sns.distplot(prophet_errors['error'], kde=True);\n",
    "\n",
    "# Plot Labels, Legends etc\n",
    "plt.title('Prophet - Residual/Errors Distribution')"
   ]
  },
  {
   "cell_type": "code",
   "execution_count": null,
   "metadata": {},
   "outputs": [],
   "source": [
    "from statsmodels.graphics.tsaplots import plot_acf\n",
    "\n",
    "# Plot the acf function\n",
    "plot_acf(xgboost_errors['error'],lags=300) #alpha 1 suppresses CI\n",
    "\n",
    "plt.title('XGBoost - Residual/Errors Autocorrelation')\n",
    "plt.show()"
   ]
  },
  {
   "cell_type": "markdown",
   "metadata": {},
   "source": [
    "Again, you can see that the errors seem to be distributed around zero and there's no statistically significant autocorrelation going on. This indicates that the model isn't biased and not leaning torwards under or over forecasting.\n",
    "\n",
    "However, you can see that the model does seem to miss under forecast a bit more, particularly for spikes.\n",
    "\n",
    "Let's have a closer look at the biggest under forecasts:"
   ]
  },
  {
   "cell_type": "code",
   "execution_count": null,
   "metadata": {
    "_kg_hide-input": true,
    "_kg_hide-output": false
   },
   "outputs": [],
   "source": [
    "# Let's get the top 10 over forecasts (i.e. where the error is the highest negative number)\n",
    "top_10_errors = prophet_errors.sort_values('error', ascending=True)[['PJME_MW_ACTUAL', 'PJME_MW', 'error']].head(10)\n",
    "\n",
    "plt.scatter(top_10_errors.index, top_10_errors['PJME_MW'], label='Predicted MW')\n",
    "plt.scatter(top_10_errors.index, top_10_errors['PJME_MW_ACTUAL'], label='Actual MW')\n",
    "\n",
    "# Labels, Titles, etc.\n",
    "plt.title('Prophet - Top 10 Errors')\n",
    "plt.xlabel(\"Timestamp\")\n",
    "plt.ylabel(\"MWh\")\n",
    "plt.legend(loc='best')"
   ]
  },
  {
   "cell_type": "code",
   "execution_count": null,
   "metadata": {
    "_kg_hide-input": true
   },
   "outputs": [],
   "source": [
    "top_10_errors.head(10)"
   ]
  },
  {
   "cell_type": "markdown",
   "metadata": {},
   "source": [
    "The most incorrect days were July and January, the peak of summer and winter respectively. Makes sense!\n",
    "\n",
    "You get the biggest peaks in these periods due to weather."
   ]
  },
  {
   "cell_type": "markdown",
   "metadata": {},
   "source": [
    "# Bringing it all together - the final results\n",
    "\n",
    "Finally, Let's bring the models together and see which one did the best:"
   ]
  },
  {
   "cell_type": "code",
   "execution_count": null,
   "metadata": {
    "_kg_hide-input": true
   },
   "outputs": [],
   "source": [
    "print(\"MAE Baseline: {:.2f}\".format(meanabs(test['PJME_MW'], baseline_prediction['PJME_MW'])))\n",
    "print(\"MAE HoltWinters: {:.2f}\".format(meanabs(test['PJME_MW'], HWES_prediction['PJME_MW'])))\n",
    "print(\"MAE XGBoost: {:.2f}\".format(mean_absolute_error(test_label, XGB_prediction_no_lag['PJME_MW'])))\n",
    "print(\"MAE LASSO: {:.2f}\".format(mean_absolute_error(test_label, LASSO_prediction['PJME_MW'])))\n",
    "print(\"MAE SARIMA: {:.2f}\".format(meanabs(test['PJME_MW'], SARIMA_prediction['PJME_MW'])))\n",
    "print(\"MAE Prophet: {:.2f}\".format(meanabs(test['PJME_MW'], PROPHET_prediction['PJME_MW'])))"
   ]
  },
  {
   "cell_type": "markdown",
   "metadata": {},
   "source": [
    "Now let's also look at Mean Absolute Percentage Error (MAPE)\n",
    "\n",
    "Unlike MAE, MAPE has issues in its calculations, namely when the actual value is 0 (can't divide by zero) and negative values can't go beyond -100%.\n",
    "\n",
    "Regardless, MAPE is a good 'sense-check' to see which model is proportionally better."
   ]
  },
  {
   "cell_type": "code",
   "execution_count": null,
   "metadata": {
    "_kg_hide-input": true
   },
   "outputs": [],
   "source": [
    "def MAPE(y_true, y_pred): \n",
    "    '''Function to calculate MAPE'''\n",
    "    y_true, y_pred = np.array(y_true), np.array(y_pred)\n",
    "    return np.mean(np.abs((y_true - y_pred) / y_true)) * 100"
   ]
  },
  {
   "cell_type": "code",
   "execution_count": null,
   "metadata": {
    "_kg_hide-input": true
   },
   "outputs": [],
   "source": [
    "print(\"MAE Baseline: {:.2f}%\".format(MAPE(test['PJME_MW'], baseline_prediction['PJME_MW'])))\n",
    "print(\"MAE HoltWinters: {:.2f}%\".format(MAPE(test['PJME_MW'], HWES_prediction['PJME_MW'])))\n",
    "print(\"MAE XGBoost: {:.2f}%\".format(MAPE(test['PJME_MW'], XGB_prediction_no_lag['PJME_MW'])))\n",
    "print(\"MAE LASSO: {:.2f}%\".format(MAPE(test['PJME_MW'], LASSO_prediction['PJME_MW'])))\n",
    "print(\"MAE SARIMA: {:.2f}%\".format(MAPE(test['PJME_MW'], SARIMA_prediction['PJME_MW'])))\n",
    "print(\"MAE Prophet: {:.2f}%\".format(MAPE(test['PJME_MW'], PROPHET_prediction['PJME_MW'])))"
   ]
  },
  {
   "cell_type": "code",
   "execution_count": null,
   "metadata": {
    "_kg_hide-input": true
   },
   "outputs": [],
   "source": [
    "def plot_model_result(ax, prediction, model_name, color):\n",
    "    '''\n",
    "    Plot model results.\n",
    "    \n",
    "    prediction : DataFrame\n",
    "    model_name : str\n",
    "    \n",
    "    return ax\n",
    "    '''\n",
    "    # Training and Test Actuals\n",
    "    ax.scatter(x=train.index, y=train['PJME_MW'], label='Training Data', color='black')\n",
    "    ax.scatter(x=test.index, y=test['PJME_MW'], label='Test Actuals', color='red')\n",
    "\n",
    "    # Model Results\n",
    "    ax.plot(prediction['PJME_MW'], label=model_name, color=color, alpha=0.7)\n",
    "    \n",
    "    # For clarify, let's limit to only August 2016 onwards\n",
    "    ax.set_xlim(datetime(2016, 8, 1),datetime(2018, 10, 1))\n",
    "\n",
    "    # Set Y Axis\n",
    "    ax.set_ylim(500000, 1100000)\n",
    "    \n",
    "    # Set Axis labels\n",
    "    ax.set_ylabel(\"MWh\")\n",
    "    ax.legend(loc='best')\n",
    "    ax.set_title(\n",
    "        \"{}: MAPE: {:.2f}% | MAE: {:.2f}\".format(\n",
    "            model_name,MAPE(test[\"PJME_MW\"], prediction[\"PJME_MW\"]),\n",
    "            mean_absolute_error(test[\"PJME_MW\"], prediction[\"PJME_MW\"])\n",
    "            )\n",
    "        , fontsize=40\n",
    "    )\n",
    "\n",
    "    return ax"
   ]
  },
  {
   "cell_type": "code",
   "execution_count": null,
   "metadata": {},
   "outputs": [],
   "source": [
    "fig, ax = plt.subplots(6,1, figsize=(30,40))\n",
    "\n",
    "# Plot Labels, Legends etc\n",
    "plt.xlabel(\"Timestamp\")\n",
    "\n",
    "ax[0] = plot_model_result(ax[0], baseline_prediction, model_name='Baseline (Naive)', color='midnightblue')\n",
    "ax[1] = plot_model_result(ax[1], XGB_prediction_no_lag, model_name='XGBoost', color='deepskyblue')\n",
    "ax[2] = plot_model_result(ax[2], PROPHET_prediction, model_name='Prophet', color='steelblue')\n",
    "ax[3] = plot_model_result(ax[3], LASSO_prediction, model_name='LASSO', color='royalblue')\n",
    "ax[4] = plot_model_result(ax[4], HWES_prediction, model_name='Holtwinters', color='lightsteelblue')\n",
    "ax[5] = plot_model_result(ax[5], SARIMA_prediction, model_name='SARIMA', color='dodgerblue')\n",
    "\n",
    "plt.tight_layout(pad=3.0)\n",
    "plt.show()"
   ]
  },
  {
   "cell_type": "markdown",
   "metadata": {},
   "source": [
    "The lower the error the better/more accurate the model is, so therefore in this case, the winner is LASSO! However, Prophet and XGBoost still comes a pretty close second!\n",
    "\n",
    "You can see that there was a lot of noise in this dataset and while there's high seasonality, more conventional statistical approaches, such as Holtwinters and SARIMA weren't able to get through all that noise.\n",
    "\n",
    "Interestingly, all the forecasting models beat the baseline, except Holtwinters and SARIMA. This does at least demonstrate that we are still better off using these models than just doing naive forecasting.\n",
    "\n",
    "Hopefully that gives you a bit of a flavour to time series forecasting and some of the unique aspects of it!"
   ]
  }
 ],
 "metadata": {
  "kernelspec": {
   "display_name": "Python 3",
   "language": "python",
   "name": "python3"
  },
  "language_info": {
   "codemirror_mode": {
    "name": "ipython",
    "version": 3
   },
   "file_extension": ".py",
   "mimetype": "text/x-python",
   "name": "python",
   "nbconvert_exporter": "python",
   "pygments_lexer": "ipython3",
   "version": "3.7.4"
  }
 },
 "nbformat": 4,
 "nbformat_minor": 4
}
