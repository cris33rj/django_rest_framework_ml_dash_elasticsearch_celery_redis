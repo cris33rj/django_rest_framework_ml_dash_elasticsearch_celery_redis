{
 "cells": [
  {
   "cell_type": "code",
   "execution_count": 47,
   "metadata": {},
   "outputs": [],
   "source": [
    "import os\n",
    "import pandas as pd\n",
    "import seaborn as sns\n",
    "import numpy as np\n",
    "import matplotlib.pyplot as plt\n",
    "from fbprophet import Prophet\n",
    "import pickle\n",
    "import scipy.optimize as optim\n",
    "import logging\n",
    "from sklearn.metrics import mean_squared_error, mean_absolute_error\n",
    "plt.style.use('fivethirtyeight') # For plots\n",
    "from datetime import datetime, timedelta\n",
    "\n",
    "import warnings\n",
    "warnings.filterwarnings('ignore')\n",
    "\n",
    "logging.getLogger().setLevel(logging.ERROR)\n",
    "    \n",
    "%matplotlib inline\n",
    "\n",
    "%store -r WORKDIR\n",
    "\n",
    "if 'WORKDIR' not in dir():\n",
    "    WORKDIR = 'C:/Users/thewr/git/mit_data_science.git/'\n",
    "\n",
    "dataset_max_date  = pd.Timestamp('01-Mar-2006')\n",
    "dataset_min_date = pd.Timestamp(dataset_max_date - timedelta(days = 30))\n",
    "\n",
    "time_col = 'ds'\n",
    "target_col = 'y'\n",
    "\n",
    "data_proc_file = WORKDIR + '/Data/Processed/energy_consumption_data_modeling.parquet'\n",
    "model_score_file = WORKDIR + '/Data/Modeling/model_scores.parquet'\n",
    "model_file = WORKDIR + '/Data/Modeling/trained_models.jbl'\n"
   ]
  },
  {
   "cell_type": "markdown",
   "metadata": {},
   "source": [
    "# Carga dos Dados "
   ]
  },
  {
   "cell_type": "code",
   "execution_count": 48,
   "metadata": {},
   "outputs": [
    {
     "name": "stdout",
     "output_type": "stream",
     "text": [
      "<class 'pandas.core.frame.DataFrame'>\n",
      "Int64Index: 8710 entries, 0 to 8709\n",
      "Data columns (total 2 columns):\n",
      "Datetime    8710 non-null datetime64[ns]\n",
      "PJME_MW     8710 non-null float64\n",
      "dtypes: datetime64[ns](1), float64(1)\n",
      "memory usage: 204.1 KB\n"
     ]
    }
   ],
   "source": [
    "pjme = pd.read_parquet(data_proc_file)\n",
    "pjme.info()\n",
    "\n"
   ]
  },
  {
   "cell_type": "code",
   "execution_count": 49,
   "metadata": {},
   "outputs": [
    {
     "name": "stdout",
     "output_type": "stream",
     "text": [
      "2006-03-31 00:00:00\n"
     ]
    }
   ],
   "source": [
    "if os.path.exists(model_score_file):\n",
    "    df_score_model = pd.read_parquet(model_score_file)\n",
    "    print(df_score_model['date_end'][0])\n",
    "    if not df_score_model.empty:\n",
    "        date_end = pd.Timestamp(df_score_model['date_end'][0].strftime('%Y.%m.%d'))    \n",
    "    if pd.notnull(date_end):\n",
    "        dataset_max_date  = pd.Timestamp(date_end + timedelta(days = 5))\n",
    "else: dataset_max_date  = dataset_max_date  \n"
   ]
  },
  {
   "cell_type": "code",
   "execution_count": 50,
   "metadata": {},
   "outputs": [
    {
     "name": "stdout",
     "output_type": "stream",
     "text": [
      "2006-04-05 00:00:00\n"
     ]
    }
   ],
   "source": [
    "print(dataset_max_date)"
   ]
  },
  {
   "cell_type": "code",
   "execution_count": 51,
   "metadata": {},
   "outputs": [],
   "source": [
    "dataset_min_date = pd.Timestamp(dataset_max_date - timedelta(days = 30))"
   ]
  },
  {
   "cell_type": "code",
   "execution_count": 52,
   "metadata": {},
   "outputs": [
    {
     "name": "stdout",
     "output_type": "stream",
     "text": [
      "2006-03-06 00:00:00\n"
     ]
    }
   ],
   "source": [
    "print(dataset_min_date)                 "
   ]
  },
  {
   "cell_type": "code",
   "execution_count": null,
   "metadata": {},
   "outputs": [],
   "source": []
  },
  {
   "cell_type": "code",
   "execution_count": 53,
   "metadata": {},
   "outputs": [
    {
     "data": {
      "text/html": [
       "<div>\n",
       "<style scoped>\n",
       "    .dataframe tbody tr th:only-of-type {\n",
       "        vertical-align: middle;\n",
       "    }\n",
       "\n",
       "    .dataframe tbody tr th {\n",
       "        vertical-align: top;\n",
       "    }\n",
       "\n",
       "    .dataframe thead th {\n",
       "        text-align: right;\n",
       "    }\n",
       "</style>\n",
       "<table border=\"1\" class=\"dataframe\">\n",
       "  <thead>\n",
       "    <tr style=\"text-align: right;\">\n",
       "      <th></th>\n",
       "      <th>Datetime</th>\n",
       "      <th>PJME_MW</th>\n",
       "    </tr>\n",
       "  </thead>\n",
       "  <tbody>\n",
       "    <tr>\n",
       "      <td>0</td>\n",
       "      <td>2006-01-01 00:00:00</td>\n",
       "      <td>30293.0</td>\n",
       "    </tr>\n",
       "    <tr>\n",
       "      <td>1</td>\n",
       "      <td>2006-01-01 01:00:00</td>\n",
       "      <td>28884.0</td>\n",
       "    </tr>\n",
       "    <tr>\n",
       "      <td>2</td>\n",
       "      <td>2006-01-01 02:00:00</td>\n",
       "      <td>27556.0</td>\n",
       "    </tr>\n",
       "    <tr>\n",
       "      <td>3</td>\n",
       "      <td>2006-01-01 03:00:00</td>\n",
       "      <td>26484.0</td>\n",
       "    </tr>\n",
       "    <tr>\n",
       "      <td>4</td>\n",
       "      <td>2006-01-01 04:00:00</td>\n",
       "      <td>25822.0</td>\n",
       "    </tr>\n",
       "  </tbody>\n",
       "</table>\n",
       "</div>"
      ],
      "text/plain": [
       "             Datetime  PJME_MW\n",
       "0 2006-01-01 00:00:00  30293.0\n",
       "1 2006-01-01 01:00:00  28884.0\n",
       "2 2006-01-01 02:00:00  27556.0\n",
       "3 2006-01-01 03:00:00  26484.0\n",
       "4 2006-01-01 04:00:00  25822.0"
      ]
     },
     "execution_count": 53,
     "metadata": {},
     "output_type": "execute_result"
    }
   ],
   "source": [
    "pjme.head()"
   ]
  },
  {
   "cell_type": "code",
   "execution_count": 54,
   "metadata": {},
   "outputs": [
    {
     "data": {
      "text/plain": [
       "Index(['Datetime', 'PJME_MW'], dtype='object')"
      ]
     },
     "execution_count": 54,
     "metadata": {},
     "output_type": "execute_result"
    }
   ],
   "source": [
    "pjme.columns"
   ]
  },
  {
   "cell_type": "code",
   "execution_count": 55,
   "metadata": {},
   "outputs": [],
   "source": [
    "pjme.set_index('Datetime',inplace=True)"
   ]
  },
  {
   "cell_type": "code",
   "execution_count": 56,
   "metadata": {},
   "outputs": [
    {
     "name": "stdout",
     "output_type": "stream",
     "text": [
      "shape: (720, 1)\n",
      "columns: Index(['PJME_MW'], dtype='object')\n"
     ]
    }
   ],
   "source": [
    "pjme = pjme[dataset_min_date:dataset_max_date]\n",
    "\n",
    "print('shape:', pjme.shape)\n",
    "print('columns:', pjme.columns)"
   ]
  },
  {
   "cell_type": "code",
   "execution_count": 57,
   "metadata": {},
   "outputs": [],
   "source": [
    "pjme.reset_index(inplace=True)"
   ]
  },
  {
   "cell_type": "code",
   "execution_count": 58,
   "metadata": {},
   "outputs": [],
   "source": [
    "index_split_date = pjme.shape[0] * 0.80"
   ]
  },
  {
   "cell_type": "code",
   "execution_count": 59,
   "metadata": {},
   "outputs": [
    {
     "name": "stdout",
     "output_type": "stream",
     "text": [
      "576.0\n"
     ]
    }
   ],
   "source": [
    "print(index_split_date)"
   ]
  },
  {
   "cell_type": "code",
   "execution_count": 60,
   "metadata": {},
   "outputs": [],
   "source": [
    "split_date = pd.Timestamp(pjme.iloc[int(pjme.shape[0] * 0.80)]['Datetime'])"
   ]
  },
  {
   "cell_type": "code",
   "execution_count": 61,
   "metadata": {},
   "outputs": [
    {
     "name": "stdout",
     "output_type": "stream",
     "text": [
      "2006-03-30 00:00:00\n"
     ]
    }
   ],
   "source": [
    "print(split_date)"
   ]
  },
  {
   "cell_type": "code",
   "execution_count": null,
   "metadata": {},
   "outputs": [],
   "source": []
  },
  {
   "cell_type": "code",
   "execution_count": 62,
   "metadata": {},
   "outputs": [
    {
     "data": {
      "text/html": [
       "<div>\n",
       "<style scoped>\n",
       "    .dataframe tbody tr th:only-of-type {\n",
       "        vertical-align: middle;\n",
       "    }\n",
       "\n",
       "    .dataframe tbody tr th {\n",
       "        vertical-align: top;\n",
       "    }\n",
       "\n",
       "    .dataframe thead th {\n",
       "        text-align: right;\n",
       "    }\n",
       "</style>\n",
       "<table border=\"1\" class=\"dataframe\">\n",
       "  <thead>\n",
       "    <tr style=\"text-align: right;\">\n",
       "      <th></th>\n",
       "      <th>Datetime</th>\n",
       "      <th>PJME_MW</th>\n",
       "    </tr>\n",
       "  </thead>\n",
       "  <tbody>\n",
       "    <tr>\n",
       "      <td>0</td>\n",
       "      <td>2006-03-06 00:00:00</td>\n",
       "      <td>29132.0</td>\n",
       "    </tr>\n",
       "    <tr>\n",
       "      <td>1</td>\n",
       "      <td>2006-03-06 01:00:00</td>\n",
       "      <td>27632.0</td>\n",
       "    </tr>\n",
       "    <tr>\n",
       "      <td>2</td>\n",
       "      <td>2006-03-06 02:00:00</td>\n",
       "      <td>26967.0</td>\n",
       "    </tr>\n",
       "    <tr>\n",
       "      <td>3</td>\n",
       "      <td>2006-03-06 03:00:00</td>\n",
       "      <td>26866.0</td>\n",
       "    </tr>\n",
       "    <tr>\n",
       "      <td>4</td>\n",
       "      <td>2006-03-06 04:00:00</td>\n",
       "      <td>26990.0</td>\n",
       "    </tr>\n",
       "  </tbody>\n",
       "</table>\n",
       "</div>"
      ],
      "text/plain": [
       "             Datetime  PJME_MW\n",
       "0 2006-03-06 00:00:00  29132.0\n",
       "1 2006-03-06 01:00:00  27632.0\n",
       "2 2006-03-06 02:00:00  26967.0\n",
       "3 2006-03-06 03:00:00  26866.0\n",
       "4 2006-03-06 04:00:00  26990.0"
      ]
     },
     "execution_count": 62,
     "metadata": {},
     "output_type": "execute_result"
    }
   ],
   "source": [
    "pjme.head()"
   ]
  },
  {
   "cell_type": "code",
   "execution_count": 63,
   "metadata": {},
   "outputs": [
    {
     "data": {
      "text/html": [
       "<div>\n",
       "<style scoped>\n",
       "    .dataframe tbody tr th:only-of-type {\n",
       "        vertical-align: middle;\n",
       "    }\n",
       "\n",
       "    .dataframe tbody tr th {\n",
       "        vertical-align: top;\n",
       "    }\n",
       "\n",
       "    .dataframe thead th {\n",
       "        text-align: right;\n",
       "    }\n",
       "</style>\n",
       "<table border=\"1\" class=\"dataframe\">\n",
       "  <thead>\n",
       "    <tr style=\"text-align: right;\">\n",
       "      <th></th>\n",
       "      <th>Datetime</th>\n",
       "      <th>PJME_MW</th>\n",
       "    </tr>\n",
       "  </thead>\n",
       "  <tbody>\n",
       "    <tr>\n",
       "      <td>715</td>\n",
       "      <td>2006-04-04 20:00:00</td>\n",
       "      <td>32416.0</td>\n",
       "    </tr>\n",
       "    <tr>\n",
       "      <td>716</td>\n",
       "      <td>2006-04-04 21:00:00</td>\n",
       "      <td>33691.0</td>\n",
       "    </tr>\n",
       "    <tr>\n",
       "      <td>717</td>\n",
       "      <td>2006-04-04 22:00:00</td>\n",
       "      <td>32509.0</td>\n",
       "    </tr>\n",
       "    <tr>\n",
       "      <td>718</td>\n",
       "      <td>2006-04-04 23:00:00</td>\n",
       "      <td>29931.0</td>\n",
       "    </tr>\n",
       "    <tr>\n",
       "      <td>719</td>\n",
       "      <td>2006-04-05 00:00:00</td>\n",
       "      <td>27264.0</td>\n",
       "    </tr>\n",
       "  </tbody>\n",
       "</table>\n",
       "</div>"
      ],
      "text/plain": [
       "               Datetime  PJME_MW\n",
       "715 2006-04-04 20:00:00  32416.0\n",
       "716 2006-04-04 21:00:00  33691.0\n",
       "717 2006-04-04 22:00:00  32509.0\n",
       "718 2006-04-04 23:00:00  29931.0\n",
       "719 2006-04-05 00:00:00  27264.0"
      ]
     },
     "execution_count": 63,
     "metadata": {},
     "output_type": "execute_result"
    }
   ],
   "source": [
    "pjme.tail()"
   ]
  },
  {
   "cell_type": "code",
   "execution_count": 64,
   "metadata": {},
   "outputs": [],
   "source": [
    "pjme.set_index('Datetime',inplace=True)"
   ]
  },
  {
   "cell_type": "code",
   "execution_count": 65,
   "metadata": {},
   "outputs": [],
   "source": [
    "pjme_train = pjme.loc[pjme.index <= split_date].copy()\n",
    "pjme_test = pjme.loc[pjme.index > split_date].copy()"
   ]
  },
  {
   "cell_type": "code",
   "execution_count": null,
   "metadata": {},
   "outputs": [],
   "source": []
  },
  {
   "cell_type": "code",
   "execution_count": 66,
   "metadata": {},
   "outputs": [],
   "source": [
    "pjme_test.reset_index(inplace=True)"
   ]
  },
  {
   "cell_type": "code",
   "execution_count": 67,
   "metadata": {},
   "outputs": [
    {
     "data": {
      "text/html": [
       "<div>\n",
       "<style scoped>\n",
       "    .dataframe tbody tr th:only-of-type {\n",
       "        vertical-align: middle;\n",
       "    }\n",
       "\n",
       "    .dataframe tbody tr th {\n",
       "        vertical-align: top;\n",
       "    }\n",
       "\n",
       "    .dataframe thead th {\n",
       "        text-align: right;\n",
       "    }\n",
       "</style>\n",
       "<table border=\"1\" class=\"dataframe\">\n",
       "  <thead>\n",
       "    <tr style=\"text-align: right;\">\n",
       "      <th></th>\n",
       "      <th>Datetime</th>\n",
       "      <th>PJME_MW</th>\n",
       "    </tr>\n",
       "  </thead>\n",
       "  <tbody>\n",
       "    <tr>\n",
       "      <td>0</td>\n",
       "      <td>2006-03-30 01:00:00</td>\n",
       "      <td>24902.0</td>\n",
       "    </tr>\n",
       "    <tr>\n",
       "      <td>1</td>\n",
       "      <td>2006-03-30 02:00:00</td>\n",
       "      <td>24139.0</td>\n",
       "    </tr>\n",
       "    <tr>\n",
       "      <td>2</td>\n",
       "      <td>2006-03-30 03:00:00</td>\n",
       "      <td>23953.0</td>\n",
       "    </tr>\n",
       "    <tr>\n",
       "      <td>3</td>\n",
       "      <td>2006-03-30 04:00:00</td>\n",
       "      <td>24125.0</td>\n",
       "    </tr>\n",
       "    <tr>\n",
       "      <td>4</td>\n",
       "      <td>2006-03-30 05:00:00</td>\n",
       "      <td>24915.0</td>\n",
       "    </tr>\n",
       "  </tbody>\n",
       "</table>\n",
       "</div>"
      ],
      "text/plain": [
       "             Datetime  PJME_MW\n",
       "0 2006-03-30 01:00:00  24902.0\n",
       "1 2006-03-30 02:00:00  24139.0\n",
       "2 2006-03-30 03:00:00  23953.0\n",
       "3 2006-03-30 04:00:00  24125.0\n",
       "4 2006-03-30 05:00:00  24915.0"
      ]
     },
     "execution_count": 67,
     "metadata": {},
     "output_type": "execute_result"
    }
   ],
   "source": [
    "pjme_test.head()"
   ]
  },
  {
   "cell_type": "code",
   "execution_count": 68,
   "metadata": {},
   "outputs": [],
   "source": [
    "\n",
    "def preprocess_xgb_data(df, lag_start=1, lag_end=720):\n",
    "    '''\n",
    "    Takes data and preprocesses for XGBoost.\n",
    "    \n",
    "    :param lag_start default 1 : int\n",
    "        Lag window start - 1 indicates one-day behind\n",
    "    :param lag_end default 365 : int\n",
    "        Lag window start - 365 indicates one-year behind\n",
    "        \n",
    "    Returns tuple : (data, target)\n",
    "    '''\n",
    "    \n",
    "    # Default is add in lag of 365 days of data - ie make the model consider 365 days of prior data\n",
    "    for i in range(lag_start,lag_end):\n",
    "        df[f'PJME_MW {i}'] = df.shift(periods=i, freq='H')['PJME_MW']\n",
    "        \n",
    "\n",
    "    df.reset_index(inplace=True)\n",
    "\n",
    "    # Split out attributes of timestamp - hopefully this lets the algorithm consider seasonality\n",
    "    df['date_epoch'] = pd.to_numeric(df['Datetime']) # Easier for algorithm to consider consecutive integers, rather than timestamps\n",
    "    df['dayofweek'] = df['Datetime'].dt.dayofweek\n",
    "    df['dayofmonth'] = df['Datetime'].dt.day\n",
    "    df['dayofyear'] = df['Datetime'].dt.dayofyear\n",
    "    df['weekofyear'] = df['Datetime'].dt.weekofyear\n",
    "    df['quarter'] = df['Datetime'].dt.quarter\n",
    "    df['month'] = df['Datetime'].dt.month\n",
    "    df['year'] = df['Datetime'].dt.year\n",
    "    \n",
    "    x = df.drop(columns=['Datetime', 'PJME_MW']) #Don't need timestamp and target\n",
    "    y = df['PJME_MW'] # Target prediction is the load\n",
    "    \n",
    "    return x, y"
   ]
  },
  {
   "cell_type": "code",
   "execution_count": 69,
   "metadata": {},
   "outputs": [
    {
     "data": {
      "text/plain": [
       "(720, 1)"
      ]
     },
     "execution_count": 69,
     "metadata": {},
     "output_type": "execute_result"
    }
   ],
   "source": [
    "pjme.shape"
   ]
  },
  {
   "cell_type": "code",
   "execution_count": 70,
   "metadata": {},
   "outputs": [],
   "source": [
    "# So because we need the lag data, we need to preprocess then do the split\n",
    "all_data = pjme.copy()\n",
    "\n",
    "# Create train test dataset using XGBoost preprocessing (365 days top 720 days lag)\n",
    "feature, label = preprocess_xgb_data(all_data, lag_start=576, lag_end=720)\n",
    "\n",
    "# We will aim for a 12 month forecast horizon (ie predict the last 365 days in the dataset)\n",
    "#train_feature = feature[:-576]\n",
    "#train_label = label[:-576]\n",
    "\n",
    "#test_feature = feature[-144:]\n",
    "#test_label = label[-144:]\n",
    "\n",
    "train_feature = feature[:576]\n",
    "train_label = label[:576]\n",
    "\n",
    "test_feature = feature[577:]\n",
    "test_label = label[577:]\n",
    "\n",
    "\n",
    "train_feature_scaled = train_feature.fillna(0)\n",
    "test_feature_scaled = test_feature.fillna(0)\n",
    "\n",
    "train_feature.drop(columns=['date_epoch']) #Don't need timestamp\n",
    "test_feature.drop(columns=['date_epoch']) #Don't need timestamp\n",
    "\n",
    "# Scale dataset\n",
    "from sklearn.preprocessing import StandardScaler\n",
    "scaler = StandardScaler()\n",
    "\n",
    "train_feature_scaled = scaler.fit_transform(train_feature)\n",
    "test_feature_scaled = scaler.transform(test_feature)"
   ]
  },
  {
   "cell_type": "code",
   "execution_count": 71,
   "metadata": {},
   "outputs": [
    {
     "data": {
      "text/plain": [
       "(720, 152)"
      ]
     },
     "execution_count": 71,
     "metadata": {},
     "output_type": "execute_result"
    }
   ],
   "source": [
    "feature.shape"
   ]
  },
  {
   "cell_type": "code",
   "execution_count": 72,
   "metadata": {},
   "outputs": [
    {
     "data": {
      "text/plain": [
       "(720, 154)"
      ]
     },
     "execution_count": 72,
     "metadata": {},
     "output_type": "execute_result"
    }
   ],
   "source": [
    "all_data.shape"
   ]
  },
  {
   "cell_type": "code",
   "execution_count": 73,
   "metadata": {},
   "outputs": [
    {
     "name": "stdout",
     "output_type": "stream",
     "text": [
      "(143, 152)\n"
     ]
    }
   ],
   "source": [
    "print(test_feature_scaled.shape)"
   ]
  },
  {
   "cell_type": "code",
   "execution_count": 74,
   "metadata": {},
   "outputs": [
    {
     "name": "stdout",
     "output_type": "stream",
     "text": [
      "     PJME_MW 576  PJME_MW 577  PJME_MW 578  PJME_MW 579  PJME_MW 580  \\\n",
      "1            NaN          NaN          NaN          NaN          NaN   \n",
      "2            NaN          NaN          NaN          NaN          NaN   \n",
      "3            NaN          NaN          NaN          NaN          NaN   \n",
      "4            NaN          NaN          NaN          NaN          NaN   \n",
      "5            NaN          NaN          NaN          NaN          NaN   \n",
      "..           ...          ...          ...          ...          ...   \n",
      "571          NaN          NaN          NaN          NaN          NaN   \n",
      "572          NaN          NaN          NaN          NaN          NaN   \n",
      "573          NaN          NaN          NaN          NaN          NaN   \n",
      "574          NaN          NaN          NaN          NaN          NaN   \n",
      "575          NaN          NaN          NaN          NaN          NaN   \n",
      "\n",
      "     PJME_MW 581  PJME_MW 582  PJME_MW 583  PJME_MW 584  PJME_MW 585  ...  \\\n",
      "1            NaN          NaN          NaN          NaN          NaN  ...   \n",
      "2            NaN          NaN          NaN          NaN          NaN  ...   \n",
      "3            NaN          NaN          NaN          NaN          NaN  ...   \n",
      "4            NaN          NaN          NaN          NaN          NaN  ...   \n",
      "5            NaN          NaN          NaN          NaN          NaN  ...   \n",
      "..           ...          ...          ...          ...          ...  ...   \n",
      "571          NaN          NaN          NaN          NaN          NaN  ...   \n",
      "572          NaN          NaN          NaN          NaN          NaN  ...   \n",
      "573          NaN          NaN          NaN          NaN          NaN  ...   \n",
      "574          NaN          NaN          NaN          NaN          NaN  ...   \n",
      "575          NaN          NaN          NaN          NaN          NaN  ...   \n",
      "\n",
      "     PJME_MW 718  PJME_MW 719           date_epoch  dayofweek  dayofmonth  \\\n",
      "1            NaN          NaN  1141606800000000000          0           6   \n",
      "2            NaN          NaN  1141610400000000000          0           6   \n",
      "3            NaN          NaN  1141614000000000000          0           6   \n",
      "4            NaN          NaN  1141617600000000000          0           6   \n",
      "5            NaN          NaN  1141621200000000000          0           6   \n",
      "..           ...          ...                  ...        ...         ...   \n",
      "571          NaN          NaN  1143658800000000000          2          29   \n",
      "572          NaN          NaN  1143662400000000000          2          29   \n",
      "573          NaN          NaN  1143666000000000000          2          29   \n",
      "574          NaN          NaN  1143669600000000000          2          29   \n",
      "575          NaN          NaN  1143673200000000000          2          29   \n",
      "\n",
      "     dayofyear  weekofyear  quarter  month  year  \n",
      "1           65          10        1      3  2006  \n",
      "2           65          10        1      3  2006  \n",
      "3           65          10        1      3  2006  \n",
      "4           65          10        1      3  2006  \n",
      "5           65          10        1      3  2006  \n",
      "..         ...         ...      ...    ...   ...  \n",
      "571         88          13        1      3  2006  \n",
      "572         88          13        1      3  2006  \n",
      "573         88          13        1      3  2006  \n",
      "574         88          13        1      3  2006  \n",
      "575         88          13        1      3  2006  \n",
      "\n",
      "[575 rows x 152 columns]\n"
     ]
    }
   ],
   "source": [
    "print(train_feature)"
   ]
  },
  {
   "cell_type": "code",
   "execution_count": 75,
   "metadata": {},
   "outputs": [
    {
     "data": {
      "text/plain": [
       "(575, 152)"
      ]
     },
     "execution_count": 75,
     "metadata": {},
     "output_type": "execute_result"
    }
   ],
   "source": [
    "train_feature.shape\n"
   ]
  },
  {
   "cell_type": "code",
   "execution_count": 43,
   "metadata": {},
   "outputs": [
    {
     "name": "stdout",
     "output_type": "stream",
     "text": [
      "1      27632.0\n",
      "2      26967.0\n",
      "3      26866.0\n",
      "4      26990.0\n",
      "5      27854.0\n",
      "        ...   \n",
      "571    32569.0\n",
      "572    33929.0\n",
      "573    33344.0\n",
      "574    31527.0\n",
      "575    29033.0\n",
      "Name: PJME_MW, Length: 575, dtype: float64\n"
     ]
    }
   ],
   "source": [
    "print(train_label)\n",
    "\n"
   ]
  },
  {
   "cell_type": "code",
   "execution_count": 44,
   "metadata": {},
   "outputs": [
    {
     "data": {
      "text/plain": [
       "(575,)"
      ]
     },
     "execution_count": 44,
     "metadata": {},
     "output_type": "execute_result"
    }
   ],
   "source": [
    "train_label.shape"
   ]
  },
  {
   "cell_type": "code",
   "execution_count": 45,
   "metadata": {},
   "outputs": [
    {
     "name": "stdout",
     "output_type": "stream",
     "text": [
      "     PJME_MW 576  PJME_MW 577  PJME_MW 578  PJME_MW 579  PJME_MW 580  \\\n",
      "577      27632.0      29132.0          NaN          NaN          NaN   \n",
      "578      26967.0      27632.0      29132.0          NaN          NaN   \n",
      "579      26866.0      26967.0      27632.0      29132.0          NaN   \n",
      "580      26990.0      26866.0      26967.0      27632.0      29132.0   \n",
      "581      27854.0      26990.0      26866.0      26967.0      27632.0   \n",
      "..           ...          ...          ...          ...          ...   \n",
      "715      29793.0      29626.0      27515.0      26802.0      26652.0   \n",
      "716      29152.0      29793.0      29626.0      27515.0      26802.0   \n",
      "717      27987.0      29152.0      29793.0      29626.0      27515.0   \n",
      "718      26334.0      27987.0      29152.0      29793.0      29626.0   \n",
      "719      24530.0      26334.0      27987.0      29152.0      29793.0   \n",
      "\n",
      "     PJME_MW 581  PJME_MW 582  PJME_MW 583  PJME_MW 584  PJME_MW 585  ...  \\\n",
      "577          NaN          NaN          NaN          NaN          NaN  ...   \n",
      "578          NaN          NaN          NaN          NaN          NaN  ...   \n",
      "579          NaN          NaN          NaN          NaN          NaN  ...   \n",
      "580          NaN          NaN          NaN          NaN          NaN  ...   \n",
      "581      29132.0          NaN          NaN          NaN          NaN  ...   \n",
      "..           ...          ...          ...          ...          ...  ...   \n",
      "715      26841.0      27387.0      28063.0      28496.0      28769.0  ...   \n",
      "716      26652.0      26841.0      27387.0      28063.0      28496.0  ...   \n",
      "717      26802.0      26652.0      26841.0      27387.0      28063.0  ...   \n",
      "718      27515.0      26802.0      26652.0      26841.0      27387.0  ...   \n",
      "719      29626.0      27515.0      26802.0      26652.0      26841.0  ...   \n",
      "\n",
      "     PJME_MW 718  PJME_MW 719           date_epoch  dayofweek  dayofmonth  \\\n",
      "577          NaN          NaN  1143680400000000000          3          30   \n",
      "578          NaN          NaN  1143684000000000000          3          30   \n",
      "579          NaN          NaN  1143687600000000000          3          30   \n",
      "580          NaN          NaN  1143691200000000000          3          30   \n",
      "581          NaN          NaN  1143694800000000000          3          30   \n",
      "..           ...          ...                  ...        ...         ...   \n",
      "715          NaN          NaN  1144180800000000000          1           4   \n",
      "716          NaN          NaN  1144184400000000000          1           4   \n",
      "717      29132.0          NaN  1144188000000000000          1           4   \n",
      "718      27632.0      29132.0  1144191600000000000          1           4   \n",
      "719      26967.0      27632.0  1144195200000000000          2           5   \n",
      "\n",
      "     dayofyear  weekofyear  quarter  month  year  \n",
      "577         89          13        1      3  2006  \n",
      "578         89          13        1      3  2006  \n",
      "579         89          13        1      3  2006  \n",
      "580         89          13        1      3  2006  \n",
      "581         89          13        1      3  2006  \n",
      "..         ...         ...      ...    ...   ...  \n",
      "715         94          14        2      4  2006  \n",
      "716         94          14        2      4  2006  \n",
      "717         94          14        2      4  2006  \n",
      "718         94          14        2      4  2006  \n",
      "719         95          14        2      4  2006  \n",
      "\n",
      "[143 rows x 152 columns]\n"
     ]
    }
   ],
   "source": [
    "print(test_feature)\n"
   ]
  },
  {
   "cell_type": "code",
   "execution_count": 46,
   "metadata": {},
   "outputs": [
    {
     "name": "stdout",
     "output_type": "stream",
     "text": [
      "577    24902.0\n",
      "578    24139.0\n",
      "579    23953.0\n",
      "580    24125.0\n",
      "581    24915.0\n",
      "        ...   \n",
      "715    32416.0\n",
      "716    33691.0\n",
      "717    32509.0\n",
      "718    29931.0\n",
      "719    27264.0\n",
      "Name: PJME_MW, Length: 143, dtype: float64\n"
     ]
    }
   ],
   "source": [
    "print(test_label)"
   ]
  },
  {
   "cell_type": "code",
   "execution_count": 34,
   "metadata": {},
   "outputs": [
    {
     "name": "stdout",
     "output_type": "stream",
     "text": [
      "[[       nan        nan        nan ... -0.4472136 -0.4472136  0.       ]\n",
      " [       nan        nan        nan ... -0.4472136 -0.4472136  0.       ]\n",
      " [       nan        nan        nan ... -0.4472136 -0.4472136  0.       ]\n",
      " ...\n",
      " [       nan        nan        nan ... -0.4472136 -0.4472136  0.       ]\n",
      " [       nan        nan        nan ... -0.4472136 -0.4472136  0.       ]\n",
      " [       nan        nan        nan ... -0.4472136 -0.4472136  0.       ]]\n"
     ]
    }
   ],
   "source": [
    "print(test_feature_scaled)"
   ]
  },
  {
   "cell_type": "code",
   "execution_count": 35,
   "metadata": {},
   "outputs": [
    {
     "name": "stdout",
     "output_type": "stream",
     "text": [
      "(143, 2)\n"
     ]
    }
   ],
   "source": [
    "print(pjme_test.shape)"
   ]
  },
  {
   "cell_type": "code",
   "execution_count": 36,
   "metadata": {},
   "outputs": [
    {
     "ename": "ValueError",
     "evalue": "Input contains NaN, infinity or a value too large for dtype('float64').",
     "output_type": "error",
     "traceback": [
      "\u001b[1;31m---------------------------------------------------------------------------\u001b[0m",
      "\u001b[1;31mValueError\u001b[0m                                Traceback (most recent call last)",
      "\u001b[1;32m<ipython-input-36-fb406915c329>\u001b[0m in \u001b[0;36m<module>\u001b[1;34m\u001b[0m\n\u001b[0;32m     14\u001b[0m model.fit(\n\u001b[0;32m     15\u001b[0m     \u001b[0mtrain_feature_scaled\u001b[0m\u001b[1;33m\u001b[0m\u001b[1;33m\u001b[0m\u001b[0m\n\u001b[1;32m---> 16\u001b[1;33m     \u001b[1;33m,\u001b[0m\u001b[0mtrain_label\u001b[0m\u001b[1;33m\u001b[0m\u001b[1;33m\u001b[0m\u001b[0m\n\u001b[0m\u001b[0;32m     17\u001b[0m )\n\u001b[0;32m     18\u001b[0m \u001b[0mLASSO_prediction\u001b[0m \u001b[1;33m=\u001b[0m \u001b[0mpjme_test\u001b[0m\u001b[1;33m.\u001b[0m\u001b[0mcopy\u001b[0m\u001b[1;33m(\u001b[0m\u001b[1;33m)\u001b[0m\u001b[1;33m\u001b[0m\u001b[1;33m\u001b[0m\u001b[0m\n",
      "\u001b[1;32mC:\\ProgramData\\Anaconda3\\lib\\site-packages\\sklearn\\linear_model\\_coordinate_descent.py\u001b[0m in \u001b[0;36mfit\u001b[1;34m(self, X, y)\u001b[0m\n\u001b[0;32m   1193\u001b[0m             X, y = self._validate_data(X, y,\n\u001b[0;32m   1194\u001b[0m                                        validate_separately=(check_X_params,\n\u001b[1;32m-> 1195\u001b[1;33m                                                             check_y_params))\n\u001b[0m\u001b[0;32m   1196\u001b[0m             \u001b[1;32mif\u001b[0m \u001b[0msparse\u001b[0m\u001b[1;33m.\u001b[0m\u001b[0misspmatrix\u001b[0m\u001b[1;33m(\u001b[0m\u001b[0mX\u001b[0m\u001b[1;33m)\u001b[0m\u001b[1;33m:\u001b[0m\u001b[1;33m\u001b[0m\u001b[1;33m\u001b[0m\u001b[0m\n\u001b[0;32m   1197\u001b[0m                 if (hasattr(reference_to_old_X, \"data\") and\n",
      "\u001b[1;32mC:\\ProgramData\\Anaconda3\\lib\\site-packages\\sklearn\\base.py\u001b[0m in \u001b[0;36m_validate_data\u001b[1;34m(self, X, y, reset, validate_separately, **check_params)\u001b[0m\n\u001b[0;32m    427\u001b[0m                 \u001b[1;31m# :(\u001b[0m\u001b[1;33m\u001b[0m\u001b[1;33m\u001b[0m\u001b[1;33m\u001b[0m\u001b[0m\n\u001b[0;32m    428\u001b[0m                 \u001b[0mcheck_X_params\u001b[0m\u001b[1;33m,\u001b[0m \u001b[0mcheck_y_params\u001b[0m \u001b[1;33m=\u001b[0m \u001b[0mvalidate_separately\u001b[0m\u001b[1;33m\u001b[0m\u001b[1;33m\u001b[0m\u001b[0m\n\u001b[1;32m--> 429\u001b[1;33m                 \u001b[0mX\u001b[0m \u001b[1;33m=\u001b[0m \u001b[0mcheck_array\u001b[0m\u001b[1;33m(\u001b[0m\u001b[0mX\u001b[0m\u001b[1;33m,\u001b[0m \u001b[1;33m**\u001b[0m\u001b[0mcheck_X_params\u001b[0m\u001b[1;33m)\u001b[0m\u001b[1;33m\u001b[0m\u001b[1;33m\u001b[0m\u001b[0m\n\u001b[0m\u001b[0;32m    430\u001b[0m                 \u001b[0my\u001b[0m \u001b[1;33m=\u001b[0m \u001b[0mcheck_array\u001b[0m\u001b[1;33m(\u001b[0m\u001b[0my\u001b[0m\u001b[1;33m,\u001b[0m \u001b[1;33m**\u001b[0m\u001b[0mcheck_y_params\u001b[0m\u001b[1;33m)\u001b[0m\u001b[1;33m\u001b[0m\u001b[1;33m\u001b[0m\u001b[0m\n\u001b[0;32m    431\u001b[0m             \u001b[1;32melse\u001b[0m\u001b[1;33m:\u001b[0m\u001b[1;33m\u001b[0m\u001b[1;33m\u001b[0m\u001b[0m\n",
      "\u001b[1;32mC:\\ProgramData\\Anaconda3\\lib\\site-packages\\sklearn\\utils\\validation.py\u001b[0m in \u001b[0;36minner_f\u001b[1;34m(*args, **kwargs)\u001b[0m\n\u001b[0;32m     70\u001b[0m                           FutureWarning)\n\u001b[0;32m     71\u001b[0m         \u001b[0mkwargs\u001b[0m\u001b[1;33m.\u001b[0m\u001b[0mupdate\u001b[0m\u001b[1;33m(\u001b[0m\u001b[1;33m{\u001b[0m\u001b[0mk\u001b[0m\u001b[1;33m:\u001b[0m \u001b[0marg\u001b[0m \u001b[1;32mfor\u001b[0m \u001b[0mk\u001b[0m\u001b[1;33m,\u001b[0m \u001b[0marg\u001b[0m \u001b[1;32min\u001b[0m \u001b[0mzip\u001b[0m\u001b[1;33m(\u001b[0m\u001b[0msig\u001b[0m\u001b[1;33m.\u001b[0m\u001b[0mparameters\u001b[0m\u001b[1;33m,\u001b[0m \u001b[0margs\u001b[0m\u001b[1;33m)\u001b[0m\u001b[1;33m}\u001b[0m\u001b[1;33m)\u001b[0m\u001b[1;33m\u001b[0m\u001b[1;33m\u001b[0m\u001b[0m\n\u001b[1;32m---> 72\u001b[1;33m         \u001b[1;32mreturn\u001b[0m \u001b[0mf\u001b[0m\u001b[1;33m(\u001b[0m\u001b[1;33m**\u001b[0m\u001b[0mkwargs\u001b[0m\u001b[1;33m)\u001b[0m\u001b[1;33m\u001b[0m\u001b[1;33m\u001b[0m\u001b[0m\n\u001b[0m\u001b[0;32m     73\u001b[0m     \u001b[1;32mreturn\u001b[0m \u001b[0minner_f\u001b[0m\u001b[1;33m\u001b[0m\u001b[1;33m\u001b[0m\u001b[0m\n\u001b[0;32m     74\u001b[0m \u001b[1;33m\u001b[0m\u001b[0m\n",
      "\u001b[1;32mC:\\ProgramData\\Anaconda3\\lib\\site-packages\\sklearn\\utils\\validation.py\u001b[0m in \u001b[0;36mcheck_array\u001b[1;34m(array, accept_sparse, accept_large_sparse, dtype, order, copy, force_all_finite, ensure_2d, allow_nd, ensure_min_samples, ensure_min_features, estimator)\u001b[0m\n\u001b[0;32m    643\u001b[0m         \u001b[1;32mif\u001b[0m \u001b[0mforce_all_finite\u001b[0m\u001b[1;33m:\u001b[0m\u001b[1;33m\u001b[0m\u001b[1;33m\u001b[0m\u001b[0m\n\u001b[0;32m    644\u001b[0m             _assert_all_finite(array,\n\u001b[1;32m--> 645\u001b[1;33m                                allow_nan=force_all_finite == 'allow-nan')\n\u001b[0m\u001b[0;32m    646\u001b[0m \u001b[1;33m\u001b[0m\u001b[0m\n\u001b[0;32m    647\u001b[0m     \u001b[1;32mif\u001b[0m \u001b[0mensure_min_samples\u001b[0m \u001b[1;33m>\u001b[0m \u001b[1;36m0\u001b[0m\u001b[1;33m:\u001b[0m\u001b[1;33m\u001b[0m\u001b[1;33m\u001b[0m\u001b[0m\n",
      "\u001b[1;32mC:\\ProgramData\\Anaconda3\\lib\\site-packages\\sklearn\\utils\\validation.py\u001b[0m in \u001b[0;36m_assert_all_finite\u001b[1;34m(X, allow_nan, msg_dtype)\u001b[0m\n\u001b[0;32m     97\u001b[0m                     \u001b[0mmsg_err\u001b[0m\u001b[1;33m.\u001b[0m\u001b[0mformat\u001b[0m\u001b[1;33m\u001b[0m\u001b[1;33m\u001b[0m\u001b[0m\n\u001b[0;32m     98\u001b[0m                     (type_err,\n\u001b[1;32m---> 99\u001b[1;33m                      msg_dtype if msg_dtype is not None else X.dtype)\n\u001b[0m\u001b[0;32m    100\u001b[0m             )\n\u001b[0;32m    101\u001b[0m     \u001b[1;31m# for object dtype data, we only check for NaNs (GH-13254)\u001b[0m\u001b[1;33m\u001b[0m\u001b[1;33m\u001b[0m\u001b[1;33m\u001b[0m\u001b[0m\n",
      "\u001b[1;31mValueError\u001b[0m: Input contains NaN, infinity or a value too large for dtype('float64')."
     ]
    }
   ],
   "source": [
    "from sklearn.model_selection import TimeSeriesSplit\n",
    "tscv = TimeSeriesSplit(n_splits=5) # in this case 5-fold\n",
    "\n",
    "#Train and predict using LASSO\n",
    "from sklearn.linear_model import LassoCV\n",
    "\n",
    "model = LassoCV(\n",
    "    alphas=[0.0001, 0.0003, 0.0006, 0.001, 0.003, 0.006, 0.01, 0.03, 0.06, 0.1,0.3, 0.6, 1]\n",
    "    ,max_iter=1000 # 1000 iterations\n",
    "    ,random_state=42\n",
    "    ,cv=tscv\n",
    "    ,verbose=True\n",
    ")\n",
    "model.fit(\n",
    "    train_feature_scaled\n",
    "    ,train_label\n",
    ")\n",
    "LASSO_prediction = pjme_test.copy()\n",
    "LASSO_prediction['PJME_MW Prediction'] = model.predict(test_feature_scaled)\n",
    "LASSO_prediction = LASSO_prediction[['Datetime', 'PJME_MW Prediction']].set_index('Datetime')\n",
    "LASSO_prediction = LASSO_prediction.rename(columns={'PJME_MW Prediction': 'PJME_MW'})\n",
    "\n",
    "LASSO_prediction"
   ]
  },
  {
   "cell_type": "code",
   "execution_count": null,
   "metadata": {},
   "outputs": [],
   "source": [
    "LASSO_prediction.head()"
   ]
  },
  {
   "cell_type": "code",
   "execution_count": null,
   "metadata": {},
   "outputs": [],
   "source": [
    "LASSO_prediction.tail()"
   ]
  },
  {
   "cell_type": "code",
   "execution_count": null,
   "metadata": {},
   "outputs": [],
   "source": [
    "pjme_train.tail(50)"
   ]
  },
  {
   "cell_type": "code",
   "execution_count": null,
   "metadata": {},
   "outputs": [],
   "source": [
    "LASSO_prediction.PJME_MW.max()"
   ]
  },
  {
   "cell_type": "code",
   "execution_count": null,
   "metadata": {},
   "outputs": [],
   "source": [
    "LASSO_prediction.head()"
   ]
  },
  {
   "cell_type": "code",
   "execution_count": null,
   "metadata": {},
   "outputs": [],
   "source": [
    "LASSO_prediction.index = pd.to_datetime(LASSO_prediction.index)"
   ]
  },
  {
   "cell_type": "code",
   "execution_count": null,
   "metadata": {},
   "outputs": [],
   "source": [
    "pjme_train.index = pd.to_datetime(pjme_train.index)"
   ]
  },
  {
   "cell_type": "code",
   "execution_count": null,
   "metadata": {},
   "outputs": [],
   "source": [
    "pjme_test.index = pd.to_datetime(pjme_test['Datetime'])"
   ]
  },
  {
   "cell_type": "code",
   "execution_count": null,
   "metadata": {},
   "outputs": [],
   "source": [
    "#pjme_test.index = pd.to_datetime(pjme_test.index)"
   ]
  },
  {
   "cell_type": "code",
   "execution_count": null,
   "metadata": {},
   "outputs": [],
   "source": [
    "LASSO_prediction.info()"
   ]
  },
  {
   "cell_type": "code",
   "execution_count": null,
   "metadata": {},
   "outputs": [],
   "source": [
    "pjme_train.info()"
   ]
  },
  {
   "cell_type": "code",
   "execution_count": null,
   "metadata": {},
   "outputs": [],
   "source": [
    "LASSO_prediction.reset_index(inplace=True)"
   ]
  },
  {
   "cell_type": "code",
   "execution_count": null,
   "metadata": {},
   "outputs": [],
   "source": [
    "pjme_test.drop('Datetime',inplace=True, axis=1)"
   ]
  },
  {
   "cell_type": "code",
   "execution_count": null,
   "metadata": {},
   "outputs": [],
   "source": [
    "pd.set_option(\"display.max_rows\", None, \"display.max_columns\", None)"
   ]
  },
  {
   "cell_type": "code",
   "execution_count": null,
   "metadata": {},
   "outputs": [],
   "source": [
    "pjme_test.head()"
   ]
  },
  {
   "cell_type": "code",
   "execution_count": null,
   "metadata": {},
   "outputs": [],
   "source": [
    "LASSO_prediction['TEST'] = pjme_test['PJME_MW']"
   ]
  },
  {
   "cell_type": "code",
   "execution_count": null,
   "metadata": {},
   "outputs": [],
   "source": [
    "print(LASSO_prediction)"
   ]
  },
  {
   "cell_type": "code",
   "execution_count": null,
   "metadata": {},
   "outputs": [],
   "source": [
    "print(pjme_test)"
   ]
  },
  {
   "cell_type": "code",
   "execution_count": null,
   "metadata": {},
   "outputs": [],
   "source": [
    "LASSO_prediction['Datetime'].min()"
   ]
  },
  {
   "cell_type": "code",
   "execution_count": null,
   "metadata": {},
   "outputs": [],
   "source": [
    "LASSO_prediction['Datetime'].max()"
   ]
  },
  {
   "cell_type": "code",
   "execution_count": null,
   "metadata": {},
   "outputs": [],
   "source": [
    "LASSO_prediction.PJME_MW.max()"
   ]
  },
  {
   "cell_type": "code",
   "execution_count": null,
   "metadata": {},
   "outputs": [],
   "source": [
    "LASSO_prediction.set_index('Datetime', inplace=True)"
   ]
  },
  {
   "cell_type": "code",
   "execution_count": null,
   "metadata": {},
   "outputs": [],
   "source": [
    "#pjme_test.set_index('Datetime',inplace=True)"
   ]
  },
  {
   "cell_type": "code",
   "execution_count": null,
   "metadata": {},
   "outputs": [],
   "source": [
    "# Let's visually see the results\n",
    "plt.scatter(x=pjme_train.index, y=pjme_train['PJME_MW'], label='Training Data', color='black')\n",
    "plt.scatter(x=pjme_test.index, y=pjme_test['PJME_MW'], label='Test Actuals', color='red')\n",
    "plt.plot(LASSO_prediction, label='LASSO', color='orange')\n",
    "\n",
    "# Plot Labels, Legends etc\n",
    "plt.xlabel(\"Timestamp\")\n",
    "plt.ylabel(\"MWh\")\n",
    "plt.legend(loc='best')\n",
    "plt.title('LASSO Model (Daily) - Results')\n",
    "#plt.tight_layout()\n",
    "plt.grid(True)\n",
    "\n",
    "\n",
    "# For clarify, let's limit to only 2015 onwards\n",
    "plt.xlim(datetime(2006, 3, 1),datetime(2006, 4, 5))         \n",
    "\n",
    "plt.show()"
   ]
  },
  {
   "cell_type": "code",
   "execution_count": null,
   "metadata": {},
   "outputs": [],
   "source": []
  },
  {
   "cell_type": "code",
   "execution_count": null,
   "metadata": {},
   "outputs": [],
   "source": []
  },
  {
   "cell_type": "code",
   "execution_count": null,
   "metadata": {},
   "outputs": [],
   "source": []
  },
  {
   "cell_type": "code",
   "execution_count": null,
   "metadata": {},
   "outputs": [],
   "source": []
  },
  {
   "cell_type": "code",
   "execution_count": null,
   "metadata": {},
   "outputs": [],
   "source": []
  },
  {
   "cell_type": "code",
   "execution_count": null,
   "metadata": {},
   "outputs": [],
   "source": []
  },
  {
   "cell_type": "code",
   "execution_count": null,
   "metadata": {},
   "outputs": [],
   "source": []
  },
  {
   "cell_type": "code",
   "execution_count": null,
   "metadata": {},
   "outputs": [],
   "source": []
  },
  {
   "cell_type": "code",
   "execution_count": null,
   "metadata": {},
   "outputs": [],
   "source": []
  },
  {
   "cell_type": "code",
   "execution_count": null,
   "metadata": {},
   "outputs": [],
   "source": []
  },
  {
   "cell_type": "code",
   "execution_count": null,
   "metadata": {},
   "outputs": [],
   "source": [
    "# Setup and train model and fit\n",
    "model = Prophet()\n",
    "model.fit(pjme_train.reset_index() \\\n",
    "              .rename(columns={'Datetime':time_col,\n",
    "                               'PJME_MW':target_col}))"
   ]
  },
  {
   "cell_type": "code",
   "execution_count": null,
   "metadata": {},
   "outputs": [],
   "source": [
    "# Predict on training set with model\n",
    "pjme_test_fcst = model.predict(df=pjme_test.reset_index() \\\n",
    "                                   .rename(columns={'Datetime':time_col}))"
   ]
  },
  {
   "cell_type": "code",
   "execution_count": null,
   "metadata": {},
   "outputs": [],
   "source": [
    "pjme_test_fcst.head()"
   ]
  },
  {
   "cell_type": "code",
   "execution_count": null,
   "metadata": {},
   "outputs": [],
   "source": [
    "# Plot the forecast\n",
    "f, ax = plt.subplots(1)\n",
    "f.set_figheight(5)\n",
    "f.set_figwidth(15)\n",
    "fig = model.plot(pjme_test_fcst,\n",
    "                 ax=ax)\n",
    "plt.show()"
   ]
  },
  {
   "cell_type": "code",
   "execution_count": null,
   "metadata": {},
   "outputs": [],
   "source": [
    "# Plot the components of the model\n",
    "fig = model.plot_components(pjme_test_fcst)"
   ]
  },
  {
   "cell_type": "code",
   "execution_count": null,
   "metadata": {},
   "outputs": [],
   "source": [
    "# Plot the forecast with the actuals\n",
    "f, ax = plt.subplots(1)\n",
    "f.set_figheight(5)\n",
    "f.set_figwidth(15)\n",
    "ax.scatter(pjme_test.index, pjme_test['PJME_MW'], color='r')\n",
    "fig = model.plot(pjme_test_fcst, ax=ax)"
   ]
  },
  {
   "cell_type": "code",
   "execution_count": null,
   "metadata": {},
   "outputs": [],
   "source": [
    "month_lower_date = pd.Timestamp(split_date)\n",
    "month_upper_date = pd.Timestamp(split_date + timedelta(days = 5))\n",
    "\n",
    "week_lower_date = pd.Timestamp(split_date)\n",
    "week_upper_date = pd.Timestamp(split_date + timedelta(days = 1))"
   ]
  },
  {
   "cell_type": "markdown",
   "metadata": {},
   "source": [
    "# Error Metrics\n",
    "Our RMSE error is 15987910.88\n",
    "Our MAE error is 3247.98\n",
    "Our MAPE error is 10.344\n",
    "\n",
    "by comparison in the XGBoost model our errors were significantly less (8.9% MAPE): Check that out here"
   ]
  },
  {
   "cell_type": "code",
   "execution_count": null,
   "metadata": {},
   "outputs": [],
   "source": [
    "mean_squared_error(y_true=pjme_test['PJME_MW'],\n",
    "                   y_pred=pjme_test_fcst['yhat'])"
   ]
  },
  {
   "cell_type": "code",
   "execution_count": null,
   "metadata": {},
   "outputs": [],
   "source": [
    "mean_absolute_error(y_true=pjme_test['PJME_MW'],\n",
    "                   y_pred=pjme_test_fcst['yhat'])"
   ]
  },
  {
   "cell_type": "code",
   "execution_count": null,
   "metadata": {},
   "outputs": [],
   "source": [
    "def mean_absolute_percentage_error(y_true, y_pred): \n",
    "    \"\"\"Calculates MAPE given y_true and y_pred\"\"\"\n",
    "    y_true, y_pred = np.array(y_true), np.array(y_pred)\n",
    "    return np.mean(np.abs((y_true - y_pred) / y_true)) * 100\n",
    "\n",
    "score = mean_absolute_percentage_error(y_true=pjme_test['PJME_MW'],\n",
    "                   y_pred=pjme_test_fcst['yhat'])"
   ]
  },
  {
   "cell_type": "code",
   "execution_count": null,
   "metadata": {},
   "outputs": [],
   "source": [
    "print(score)"
   ]
  },
  {
   "cell_type": "code",
   "execution_count": null,
   "metadata": {},
   "outputs": [],
   "source": [
    "pjme.head()"
   ]
  },
  {
   "cell_type": "code",
   "execution_count": null,
   "metadata": {},
   "outputs": [],
   "source": [
    "pjme = pjme.reset_index()"
   ]
  },
  {
   "cell_type": "code",
   "execution_count": null,
   "metadata": {},
   "outputs": [],
   "source": [
    "pjme.head()"
   ]
  },
  {
   "cell_type": "code",
   "execution_count": null,
   "metadata": {},
   "outputs": [],
   "source": [
    "Xrefit = pjme.copy()"
   ]
  },
  {
   "cell_type": "code",
   "execution_count": null,
   "metadata": {},
   "outputs": [],
   "source": []
  },
  {
   "cell_type": "code",
   "execution_count": null,
   "metadata": {},
   "outputs": [],
   "source": [
    "Xrefit.columns = [time_col,target_col]"
   ]
  },
  {
   "cell_type": "code",
   "execution_count": null,
   "metadata": {},
   "outputs": [],
   "source": [
    "Xrefit.head()"
   ]
  },
  {
   "cell_type": "code",
   "execution_count": null,
   "metadata": {},
   "outputs": [],
   "source": [
    "Xrefit.tail()"
   ]
  },
  {
   "cell_type": "markdown",
   "metadata": {},
   "source": [
    "# Construção do Pipeline "
   ]
  },
  {
   "cell_type": "code",
   "execution_count": null,
   "metadata": {},
   "outputs": [],
   "source": [
    "trained_models = {}\n",
    "df_model_result=pd.DataFrame()\n",
    "\n",
    "result_list = []\n",
    "\n",
    "model = Prophet()\n",
    "trained_models = model.fit(Xrefit.reset_index())\n",
    "    \n",
    "    #result list\n",
    "result_list.append({'model_name': 'prophet',\n",
    "                        'date_begin': Xrefit.ds.min(),\n",
    "                        'date_end'  : Xrefit.ds.max(),\n",
    "                        'score': score})\n",
    "    \n",
    "df_results = pd.DataFrame().from_dict(result_list)"
   ]
  },
  {
   "cell_type": "code",
   "execution_count": null,
   "metadata": {},
   "outputs": [],
   "source": [
    "df_results.head()"
   ]
  },
  {
   "cell_type": "markdown",
   "metadata": {},
   "source": [
    "# Exportar os resultados e modelagem "
   ]
  },
  {
   "cell_type": "code",
   "execution_count": null,
   "metadata": {},
   "outputs": [],
   "source": [
    "# exportar a tabela de resultados\n",
    "\n",
    "#data_proc_file = WORKDIR + '/Data/Processed/energy_consumption_data_modeling.parquet'\n",
    "#model_score_file = WORKDIR + '/Data/Modeling/model_scores.parquet'\n",
    "#model_file = WORKDIR + '/Data/Modeling/trained_models.jbl'\n",
    "df_results.to_parquet(model_score_file)\n",
    "\n",
    "filename = model_score_file.replace(\".parquet\",\"_\" + df_results.date_end.max().date().strftime('%Y-%m-%d') + \".parquet\") \n",
    "df_results.to_parquet(filename)\n",
    "\n",
    "filename = model_file  \n",
    "pickle.dump(trained_models, open(filename, 'wb'))\n",
    "\n",
    "\n",
    "filename = model_file.replace(\".jbl\",\"_\" + df_results.date_end.max().date().strftime('%Y-%m-%d') + \".jbl\")     \n",
    "#with open(trained_models, 'wb') as fid:\n",
    "    #pickle.dump(trained_models, fid)\n",
    "pickle.dump(trained_models, open(filename, 'wb'))\n",
    "    \n",
    "    \n",
    "    \n",
    "df_results.head()"
   ]
  },
  {
   "cell_type": "code",
   "execution_count": null,
   "metadata": {},
   "outputs": [],
   "source": [
    "df_results.head()"
   ]
  },
  {
   "cell_type": "code",
   "execution_count": null,
   "metadata": {},
   "outputs": [],
   "source": [
    "df_results.head()"
   ]
  },
  {
   "cell_type": "code",
   "execution_count": null,
   "metadata": {},
   "outputs": [],
   "source": []
  },
  {
   "cell_type": "code",
   "execution_count": null,
   "metadata": {},
   "outputs": [],
   "source": []
  }
 ],
 "metadata": {
  "kernelspec": {
   "display_name": "Python 3",
   "language": "python",
   "name": "python3"
  },
  "language_info": {
   "codemirror_mode": {
    "name": "ipython",
    "version": 3
   },
   "file_extension": ".py",
   "mimetype": "text/x-python",
   "name": "python",
   "nbconvert_exporter": "python",
   "pygments_lexer": "ipython3",
   "version": "3.7.4"
  }
 },
 "nbformat": 4,
 "nbformat_minor": 4
}
