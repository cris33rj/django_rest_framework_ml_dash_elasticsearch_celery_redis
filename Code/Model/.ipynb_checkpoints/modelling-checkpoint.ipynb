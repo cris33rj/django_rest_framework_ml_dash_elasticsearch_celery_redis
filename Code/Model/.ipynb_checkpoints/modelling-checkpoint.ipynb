{
 "cells": [
  {
   "cell_type": "code",
   "execution_count": 75,
   "metadata": {},
   "outputs": [],
   "source": [
    "import os\n",
    "import pandas as pd\n",
    "import seaborn as sns\n",
    "import numpy as np\n",
    "import matplotlib.pyplot as plt\n",
    "from fbprophet import Prophet\n",
    "import pickle\n",
    "import scipy.optimize as optim\n",
    "import logging\n",
    "from sklearn.metrics import mean_squared_error, mean_absolute_error\n",
    "plt.style.use('fivethirtyeight') # For plots\n",
    "from datetime import datetime, timedelta\n",
    "c = '#386B7F' # basic color for plots\n",
    "\n",
    "from statsmodels.graphics.tsaplots import plot_acf, plot_pacf\n",
    "\n",
    "import warnings\n",
    "warnings.filterwarnings('ignore')\n",
    "\n",
    "logging.getLogger().setLevel(logging.ERROR)\n",
    "    \n",
    "%matplotlib inline\n",
    "\n",
    "%store -r WORKDIR\n",
    "\n",
    "if 'WORKDIR' not in dir():\n",
    "    WORKDIR = 'C:/Users/thewr/git/mit_data_science.git/'\n",
    "\n",
    "dataset_max_date  = pd.Timestamp('26-Mar-2006')\n",
    "dataset_min_date = pd.Timestamp(dataset_max_date - timedelta(days = 30))\n",
    "\n",
    "time_col = 'ds'\n",
    "target_col = 'y'\n",
    "\n",
    "data_proc_file = WORKDIR + '/Data/Processed/energy_consumption_data_modeling.parquet'\n",
    "model_score_file = WORKDIR + '/Data/Modeling/model_scores.parquet'\n",
    "model_file = WORKDIR + '/Data/Modeling/trained_models.jbl'\n"
   ]
  },
  {
   "cell_type": "markdown",
   "metadata": {},
   "source": [
    "# Carga dos Dados "
   ]
  },
  {
   "cell_type": "code",
   "execution_count": 76,
   "metadata": {},
   "outputs": [
    {
     "name": "stdout",
     "output_type": "stream",
     "text": [
      "<class 'pandas.core.frame.DataFrame'>\n",
      "Int64Index: 8710 entries, 0 to 8709\n",
      "Data columns (total 2 columns):\n",
      "Datetime    8710 non-null datetime64[ns]\n",
      "PJME_MW     8710 non-null float64\n",
      "dtypes: datetime64[ns](1), float64(1)\n",
      "memory usage: 204.1 KB\n"
     ]
    }
   ],
   "source": [
    "pjme = pd.read_parquet(data_proc_file)\n",
    "pjme.info()\n",
    "\n"
   ]
  },
  {
   "cell_type": "code",
   "execution_count": 77,
   "metadata": {},
   "outputs": [
    {
     "name": "stdout",
     "output_type": "stream",
     "text": [
      "2006-03-31 00:00:00\n"
     ]
    }
   ],
   "source": [
    "if os.path.exists(model_score_file):\n",
    "    df_score_model = pd.read_parquet(model_score_file)\n",
    "    print(df_score_model['date_end'][0])\n",
    "    if not df_score_model.empty:\n",
    "        date_end = pd.Timestamp(df_score_model['date_end'][0].strftime('%Y.%m.%d'))    \n",
    "    if pd.notnull(date_end):\n",
    "        dataset_max_date  = pd.Timestamp(date_end + timedelta(days = 5))\n",
    "else: dataset_max_date  = dataset_max_date  \n"
   ]
  },
  {
   "cell_type": "code",
   "execution_count": 78,
   "metadata": {},
   "outputs": [
    {
     "name": "stdout",
     "output_type": "stream",
     "text": [
      "2006-04-05 00:00:00\n"
     ]
    }
   ],
   "source": [
    "print(dataset_max_date)"
   ]
  },
  {
   "cell_type": "code",
   "execution_count": 79,
   "metadata": {},
   "outputs": [],
   "source": [
    "dataset_min_date = pd.Timestamp(dataset_max_date - timedelta(days = 30))"
   ]
  },
  {
   "cell_type": "code",
   "execution_count": 80,
   "metadata": {},
   "outputs": [
    {
     "name": "stdout",
     "output_type": "stream",
     "text": [
      "2006-03-06 00:00:00\n"
     ]
    }
   ],
   "source": [
    "print(dataset_min_date)                 "
   ]
  },
  {
   "cell_type": "code",
   "execution_count": null,
   "metadata": {},
   "outputs": [],
   "source": []
  },
  {
   "cell_type": "code",
   "execution_count": 81,
   "metadata": {},
   "outputs": [
    {
     "data": {
      "text/html": [
       "<div>\n",
       "<style scoped>\n",
       "    .dataframe tbody tr th:only-of-type {\n",
       "        vertical-align: middle;\n",
       "    }\n",
       "\n",
       "    .dataframe tbody tr th {\n",
       "        vertical-align: top;\n",
       "    }\n",
       "\n",
       "    .dataframe thead th {\n",
       "        text-align: right;\n",
       "    }\n",
       "</style>\n",
       "<table border=\"1\" class=\"dataframe\">\n",
       "  <thead>\n",
       "    <tr style=\"text-align: right;\">\n",
       "      <th></th>\n",
       "      <th>Datetime</th>\n",
       "      <th>PJME_MW</th>\n",
       "    </tr>\n",
       "  </thead>\n",
       "  <tbody>\n",
       "    <tr>\n",
       "      <td>0</td>\n",
       "      <td>2006-01-01 00:00:00</td>\n",
       "      <td>30293.0</td>\n",
       "    </tr>\n",
       "    <tr>\n",
       "      <td>1</td>\n",
       "      <td>2006-01-01 01:00:00</td>\n",
       "      <td>28884.0</td>\n",
       "    </tr>\n",
       "    <tr>\n",
       "      <td>2</td>\n",
       "      <td>2006-01-01 02:00:00</td>\n",
       "      <td>27556.0</td>\n",
       "    </tr>\n",
       "    <tr>\n",
       "      <td>3</td>\n",
       "      <td>2006-01-01 03:00:00</td>\n",
       "      <td>26484.0</td>\n",
       "    </tr>\n",
       "    <tr>\n",
       "      <td>4</td>\n",
       "      <td>2006-01-01 04:00:00</td>\n",
       "      <td>25822.0</td>\n",
       "    </tr>\n",
       "  </tbody>\n",
       "</table>\n",
       "</div>"
      ],
      "text/plain": [
       "             Datetime  PJME_MW\n",
       "0 2006-01-01 00:00:00  30293.0\n",
       "1 2006-01-01 01:00:00  28884.0\n",
       "2 2006-01-01 02:00:00  27556.0\n",
       "3 2006-01-01 03:00:00  26484.0\n",
       "4 2006-01-01 04:00:00  25822.0"
      ]
     },
     "execution_count": 81,
     "metadata": {},
     "output_type": "execute_result"
    }
   ],
   "source": [
    "pjme.head()"
   ]
  },
  {
   "cell_type": "code",
   "execution_count": 82,
   "metadata": {},
   "outputs": [
    {
     "data": {
      "text/plain": [
       "Index(['Datetime', 'PJME_MW'], dtype='object')"
      ]
     },
     "execution_count": 82,
     "metadata": {},
     "output_type": "execute_result"
    }
   ],
   "source": [
    "pjme.columns"
   ]
  },
  {
   "cell_type": "code",
   "execution_count": 83,
   "metadata": {},
   "outputs": [],
   "source": [
    "pjme.set_index('Datetime',inplace=True)"
   ]
  },
  {
   "cell_type": "code",
   "execution_count": 84,
   "metadata": {},
   "outputs": [
    {
     "name": "stdout",
     "output_type": "stream",
     "text": [
      "shape: (720, 1)\n",
      "columns: Index(['PJME_MW'], dtype='object')\n"
     ]
    }
   ],
   "source": [
    "pjme = pjme[dataset_min_date:dataset_max_date]\n",
    "\n",
    "print('shape:', pjme.shape)\n",
    "print('columns:', pjme.columns)"
   ]
  },
  {
   "cell_type": "code",
   "execution_count": null,
   "metadata": {},
   "outputs": [],
   "source": []
  },
  {
   "cell_type": "code",
   "execution_count": 13,
   "metadata": {},
   "outputs": [
    {
     "data": {
      "text/html": [
       "<div>\n",
       "<style scoped>\n",
       "    .dataframe tbody tr th:only-of-type {\n",
       "        vertical-align: middle;\n",
       "    }\n",
       "\n",
       "    .dataframe tbody tr th {\n",
       "        vertical-align: top;\n",
       "    }\n",
       "\n",
       "    .dataframe thead th {\n",
       "        text-align: right;\n",
       "    }\n",
       "</style>\n",
       "<table border=\"1\" class=\"dataframe\">\n",
       "  <thead>\n",
       "    <tr style=\"text-align: right;\">\n",
       "      <th></th>\n",
       "      <th>PJME_MW</th>\n",
       "    </tr>\n",
       "    <tr>\n",
       "      <th>Datetime</th>\n",
       "      <th></th>\n",
       "    </tr>\n",
       "  </thead>\n",
       "  <tbody>\n",
       "    <tr>\n",
       "      <td>2006-03-06 00:00:00</td>\n",
       "      <td>29132.0</td>\n",
       "    </tr>\n",
       "    <tr>\n",
       "      <td>2006-03-06 01:00:00</td>\n",
       "      <td>27632.0</td>\n",
       "    </tr>\n",
       "    <tr>\n",
       "      <td>2006-03-06 02:00:00</td>\n",
       "      <td>26967.0</td>\n",
       "    </tr>\n",
       "    <tr>\n",
       "      <td>2006-03-06 03:00:00</td>\n",
       "      <td>26866.0</td>\n",
       "    </tr>\n",
       "    <tr>\n",
       "      <td>2006-03-06 04:00:00</td>\n",
       "      <td>26990.0</td>\n",
       "    </tr>\n",
       "  </tbody>\n",
       "</table>\n",
       "</div>"
      ],
      "text/plain": [
       "                     PJME_MW\n",
       "Datetime                    \n",
       "2006-03-06 00:00:00  29132.0\n",
       "2006-03-06 01:00:00  27632.0\n",
       "2006-03-06 02:00:00  26967.0\n",
       "2006-03-06 03:00:00  26866.0\n",
       "2006-03-06 04:00:00  26990.0"
      ]
     },
     "execution_count": 13,
     "metadata": {},
     "output_type": "execute_result"
    }
   ],
   "source": [
    "pjme.head()"
   ]
  },
  {
   "cell_type": "code",
   "execution_count": null,
   "metadata": {},
   "outputs": [],
   "source": []
  },
  {
   "cell_type": "code",
   "execution_count": 14,
   "metadata": {},
   "outputs": [
    {
     "data": {
      "text/html": [
       "<div>\n",
       "<style scoped>\n",
       "    .dataframe tbody tr th:only-of-type {\n",
       "        vertical-align: middle;\n",
       "    }\n",
       "\n",
       "    .dataframe tbody tr th {\n",
       "        vertical-align: top;\n",
       "    }\n",
       "\n",
       "    .dataframe thead th {\n",
       "        text-align: right;\n",
       "    }\n",
       "</style>\n",
       "<table border=\"1\" class=\"dataframe\">\n",
       "  <thead>\n",
       "    <tr style=\"text-align: right;\">\n",
       "      <th></th>\n",
       "      <th>PJME_MW</th>\n",
       "    </tr>\n",
       "    <tr>\n",
       "      <th>Datetime</th>\n",
       "      <th></th>\n",
       "    </tr>\n",
       "  </thead>\n",
       "  <tbody>\n",
       "    <tr>\n",
       "      <td>2006-04-04 20:00:00</td>\n",
       "      <td>32416.0</td>\n",
       "    </tr>\n",
       "    <tr>\n",
       "      <td>2006-04-04 21:00:00</td>\n",
       "      <td>33691.0</td>\n",
       "    </tr>\n",
       "    <tr>\n",
       "      <td>2006-04-04 22:00:00</td>\n",
       "      <td>32509.0</td>\n",
       "    </tr>\n",
       "    <tr>\n",
       "      <td>2006-04-04 23:00:00</td>\n",
       "      <td>29931.0</td>\n",
       "    </tr>\n",
       "    <tr>\n",
       "      <td>2006-04-05 00:00:00</td>\n",
       "      <td>27264.0</td>\n",
       "    </tr>\n",
       "  </tbody>\n",
       "</table>\n",
       "</div>"
      ],
      "text/plain": [
       "                     PJME_MW\n",
       "Datetime                    \n",
       "2006-04-04 20:00:00  32416.0\n",
       "2006-04-04 21:00:00  33691.0\n",
       "2006-04-04 22:00:00  32509.0\n",
       "2006-04-04 23:00:00  29931.0\n",
       "2006-04-05 00:00:00  27264.0"
      ]
     },
     "execution_count": 14,
     "metadata": {},
     "output_type": "execute_result"
    }
   ],
   "source": [
    "pjme.tail()"
   ]
  },
  {
   "cell_type": "code",
   "execution_count": 15,
   "metadata": {},
   "outputs": [
    {
     "data": {
      "text/plain": [
       "(720, 1)"
      ]
     },
     "execution_count": 15,
     "metadata": {},
     "output_type": "execute_result"
    }
   ],
   "source": [
    "pjme.shape"
   ]
  },
  {
   "cell_type": "code",
   "execution_count": 16,
   "metadata": {},
   "outputs": [
    {
     "name": "stdout",
     "output_type": "stream",
     "text": [
      "<class 'pandas.core.frame.DataFrame'>\n",
      "DatetimeIndex: 720 entries, 2006-03-06 00:00:00 to 2006-04-05 00:00:00\n",
      "Data columns (total 1 columns):\n",
      "PJME_MW    720 non-null float64\n",
      "dtypes: float64(1)\n",
      "memory usage: 11.2 KB\n"
     ]
    }
   ],
   "source": [
    "pjme.info()"
   ]
  },
  {
   "cell_type": "code",
   "execution_count": 17,
   "metadata": {},
   "outputs": [],
   "source": [
    "pjme = pjme.reset_index()"
   ]
  },
  {
   "cell_type": "code",
   "execution_count": 18,
   "metadata": {},
   "outputs": [],
   "source": [
    "split_date = pd.Timestamp(pjme.iloc[int(pjme.shape[0] * 0.80)]['Datetime'])"
   ]
  },
  {
   "cell_type": "code",
   "execution_count": 19,
   "metadata": {},
   "outputs": [
    {
     "name": "stdout",
     "output_type": "stream",
     "text": [
      "2006-03-30 00:00:00\n"
     ]
    }
   ],
   "source": [
    "print(split_date)"
   ]
  },
  {
   "cell_type": "code",
   "execution_count": 20,
   "metadata": {},
   "outputs": [
    {
     "data": {
      "text/html": [
       "<div>\n",
       "<style scoped>\n",
       "    .dataframe tbody tr th:only-of-type {\n",
       "        vertical-align: middle;\n",
       "    }\n",
       "\n",
       "    .dataframe tbody tr th {\n",
       "        vertical-align: top;\n",
       "    }\n",
       "\n",
       "    .dataframe thead th {\n",
       "        text-align: right;\n",
       "    }\n",
       "</style>\n",
       "<table border=\"1\" class=\"dataframe\">\n",
       "  <thead>\n",
       "    <tr style=\"text-align: right;\">\n",
       "      <th></th>\n",
       "      <th>Datetime</th>\n",
       "      <th>PJME_MW</th>\n",
       "    </tr>\n",
       "  </thead>\n",
       "  <tbody>\n",
       "    <tr>\n",
       "      <td>0</td>\n",
       "      <td>2006-03-06 00:00:00</td>\n",
       "      <td>29132.0</td>\n",
       "    </tr>\n",
       "    <tr>\n",
       "      <td>1</td>\n",
       "      <td>2006-03-06 01:00:00</td>\n",
       "      <td>27632.0</td>\n",
       "    </tr>\n",
       "    <tr>\n",
       "      <td>2</td>\n",
       "      <td>2006-03-06 02:00:00</td>\n",
       "      <td>26967.0</td>\n",
       "    </tr>\n",
       "    <tr>\n",
       "      <td>3</td>\n",
       "      <td>2006-03-06 03:00:00</td>\n",
       "      <td>26866.0</td>\n",
       "    </tr>\n",
       "    <tr>\n",
       "      <td>4</td>\n",
       "      <td>2006-03-06 04:00:00</td>\n",
       "      <td>26990.0</td>\n",
       "    </tr>\n",
       "  </tbody>\n",
       "</table>\n",
       "</div>"
      ],
      "text/plain": [
       "             Datetime  PJME_MW\n",
       "0 2006-03-06 00:00:00  29132.0\n",
       "1 2006-03-06 01:00:00  27632.0\n",
       "2 2006-03-06 02:00:00  26967.0\n",
       "3 2006-03-06 03:00:00  26866.0\n",
       "4 2006-03-06 04:00:00  26990.0"
      ]
     },
     "execution_count": 20,
     "metadata": {},
     "output_type": "execute_result"
    }
   ],
   "source": [
    "pjme.head()"
   ]
  },
  {
   "cell_type": "code",
   "execution_count": 21,
   "metadata": {},
   "outputs": [],
   "source": [
    "pjme.set_index('Datetime', inplace=True)"
   ]
  },
  {
   "cell_type": "code",
   "execution_count": 68,
   "metadata": {},
   "outputs": [
    {
     "data": {
      "image/png": "[encoded data removed]",
      "text/plain": [
       "<Figure size 864x576 with 2 Axes>"
      ]
     },
     "metadata": {
      "needs_background": "light"
     },
     "output_type": "display_data"
    }
   ],
   "source": [
    "fig, ax = plt.subplots(1, 2, figsize=(12,8))\n",
    "plot_acf(x=pjme['PJME_MW'], lags = 50, ax=ax[0])\n",
    "plot_pacf(x=pjme['PJME_MW'], lags = 50, ax=ax[1]);\n"
   ]
  },
  {
   "cell_type": "markdown",
   "metadata": {},
   "source": [
    "# Treino / Teste "
   ]
  },
  {
   "cell_type": "code",
   "execution_count": 68,
   "metadata": {},
   "outputs": [],
   "source": [
    "pjme_train = pjme.loc[pjme.index <= split_date].copy()\n",
    "pjme_test = pjme.loc[pjme.index > split_date].copy()"
   ]
  },
  {
   "cell_type": "code",
   "execution_count": 69,
   "metadata": {},
   "outputs": [],
   "source": [
    "pd.plotting.register_matplotlib_converters()"
   ]
  },
  {
   "cell_type": "code",
   "execution_count": 70,
   "metadata": {
    "scrolled": true
   },
   "outputs": [
    {
     "data": {
      "image/png": "[encoded data removed]",
      "text/plain": [
       "<Figure size 1080x360 with 1 Axes>"
      ]
     },
     "metadata": {
      "needs_background": "light"
     },
     "output_type": "display_data"
    }
   ],
   "source": [
    "# Plot train and test so you can see where we have split\n",
    "pjme_test \\\n",
    "    .rename(columns={'PJME_MW': 'TEST SET'}) \\\n",
    "    .join(pjme_train.rename(columns={'PJME_MW': 'TRAINING SET'}),\n",
    "          how='outer') \\\n",
    "    .plot(figsize=(15,5), title='PJM East', style='.')\n",
    "plt.show()"
   ]
  },
  {
   "cell_type": "code",
   "execution_count": 71,
   "metadata": {},
   "outputs": [
    {
     "data": {
      "text/html": [
       "<div>\n",
       "<style scoped>\n",
       "    .dataframe tbody tr th:only-of-type {\n",
       "        vertical-align: middle;\n",
       "    }\n",
       "\n",
       "    .dataframe tbody tr th {\n",
       "        vertical-align: top;\n",
       "    }\n",
       "\n",
       "    .dataframe thead th {\n",
       "        text-align: right;\n",
       "    }\n",
       "</style>\n",
       "<table border=\"1\" class=\"dataframe\">\n",
       "  <thead>\n",
       "    <tr style=\"text-align: right;\">\n",
       "      <th></th>\n",
       "      <th>ds</th>\n",
       "      <th>y</th>\n",
       "    </tr>\n",
       "  </thead>\n",
       "  <tbody>\n",
       "    <tr>\n",
       "      <td>0</td>\n",
       "      <td>2006-01-30 00:00:00</td>\n",
       "      <td>27036.0</td>\n",
       "    </tr>\n",
       "    <tr>\n",
       "      <td>1</td>\n",
       "      <td>2006-01-30 01:00:00</td>\n",
       "      <td>25492.0</td>\n",
       "    </tr>\n",
       "    <tr>\n",
       "      <td>2</td>\n",
       "      <td>2006-01-30 02:00:00</td>\n",
       "      <td>24676.0</td>\n",
       "    </tr>\n",
       "    <tr>\n",
       "      <td>3</td>\n",
       "      <td>2006-01-30 03:00:00</td>\n",
       "      <td>24464.0</td>\n",
       "    </tr>\n",
       "    <tr>\n",
       "      <td>4</td>\n",
       "      <td>2006-01-30 04:00:00</td>\n",
       "      <td>24668.0</td>\n",
       "    </tr>\n",
       "  </tbody>\n",
       "</table>\n",
       "</div>"
      ],
      "text/plain": [
       "                   ds        y\n",
       "0 2006-01-30 00:00:00  27036.0\n",
       "1 2006-01-30 01:00:00  25492.0\n",
       "2 2006-01-30 02:00:00  24676.0\n",
       "3 2006-01-30 03:00:00  24464.0\n",
       "4 2006-01-30 04:00:00  24668.0"
      ]
     },
     "execution_count": 71,
     "metadata": {},
     "output_type": "execute_result"
    }
   ],
   "source": [
    "# Format data for prophet model using ds and y\n",
    "pjme_train.reset_index() \\\n",
    "    .rename(columns={'Datetime':time_col,\n",
    "                     'PJME_MW':target_col}).head()"
   ]
  },
  {
   "cell_type": "code",
   "execution_count": 72,
   "metadata": {},
   "outputs": [
    {
     "name": "stderr",
     "output_type": "stream",
     "text": [
      "INFO:fbprophet:Disabling yearly seasonality. Run prophet with yearly_seasonality=True to override this.\n"
     ]
    },
    {
     "data": {
      "text/plain": [
       "<fbprophet.forecaster.Prophet at 0x20a728176c8>"
      ]
     },
     "execution_count": 72,
     "metadata": {},
     "output_type": "execute_result"
    }
   ],
   "source": [
    "# Setup and train model and fit\n",
    "model = Prophet()\n",
    "model.fit(pjme_train.reset_index() \\\n",
    "              .rename(columns={'Datetime':time_col,\n",
    "                               'PJME_MW':target_col}))"
   ]
  },
  {
   "cell_type": "code",
   "execution_count": 73,
   "metadata": {},
   "outputs": [],
   "source": [
    "# Predict on training set with model\n",
    "pjme_test_fcst = model.predict(df=pjme_test.reset_index() \\\n",
    "                                   .rename(columns={'Datetime':time_col}))"
   ]
  },
  {
   "cell_type": "code",
   "execution_count": 74,
   "metadata": {},
   "outputs": [
    {
     "data": {
      "text/html": [
       "<div>\n",
       "<style scoped>\n",
       "    .dataframe tbody tr th:only-of-type {\n",
       "        vertical-align: middle;\n",
       "    }\n",
       "\n",
       "    .dataframe tbody tr th {\n",
       "        vertical-align: top;\n",
       "    }\n",
       "\n",
       "    .dataframe thead th {\n",
       "        text-align: right;\n",
       "    }\n",
       "</style>\n",
       "<table border=\"1\" class=\"dataframe\">\n",
       "  <thead>\n",
       "    <tr style=\"text-align: right;\">\n",
       "      <th></th>\n",
       "      <th>ds</th>\n",
       "      <th>trend</th>\n",
       "      <th>yhat_lower</th>\n",
       "      <th>yhat_upper</th>\n",
       "      <th>trend_lower</th>\n",
       "      <th>trend_upper</th>\n",
       "      <th>additive_terms</th>\n",
       "      <th>additive_terms_lower</th>\n",
       "      <th>additive_terms_upper</th>\n",
       "      <th>daily</th>\n",
       "      <th>daily_lower</th>\n",
       "      <th>daily_upper</th>\n",
       "      <th>weekly</th>\n",
       "      <th>weekly_lower</th>\n",
       "      <th>weekly_upper</th>\n",
       "      <th>multiplicative_terms</th>\n",
       "      <th>multiplicative_terms_lower</th>\n",
       "      <th>multiplicative_terms_upper</th>\n",
       "      <th>yhat</th>\n",
       "    </tr>\n",
       "  </thead>\n",
       "  <tbody>\n",
       "    <tr>\n",
       "      <td>0</td>\n",
       "      <td>2006-02-23 01:00:00</td>\n",
       "      <td>34224.006987</td>\n",
       "      <td>29230.309391</td>\n",
       "      <td>32582.269783</td>\n",
       "      <td>34224.006987</td>\n",
       "      <td>34224.006987</td>\n",
       "      <td>-3240.838572</td>\n",
       "      <td>-3240.838572</td>\n",
       "      <td>-3240.838572</td>\n",
       "      <td>-3979.677590</td>\n",
       "      <td>-3979.677590</td>\n",
       "      <td>-3979.677590</td>\n",
       "      <td>738.839019</td>\n",
       "      <td>738.839019</td>\n",
       "      <td>738.839019</td>\n",
       "      <td>0.0</td>\n",
       "      <td>0.0</td>\n",
       "      <td>0.0</td>\n",
       "      <td>30983.168415</td>\n",
       "    </tr>\n",
       "    <tr>\n",
       "      <td>1</td>\n",
       "      <td>2006-02-23 02:00:00</td>\n",
       "      <td>34229.625101</td>\n",
       "      <td>28351.289613</td>\n",
       "      <td>31631.509806</td>\n",
       "      <td>34229.625101</td>\n",
       "      <td>34229.625101</td>\n",
       "      <td>-4367.525469</td>\n",
       "      <td>-4367.525469</td>\n",
       "      <td>-4367.525469</td>\n",
       "      <td>-5062.291196</td>\n",
       "      <td>-5062.291196</td>\n",
       "      <td>-5062.291196</td>\n",
       "      <td>694.765728</td>\n",
       "      <td>694.765728</td>\n",
       "      <td>694.765728</td>\n",
       "      <td>0.0</td>\n",
       "      <td>0.0</td>\n",
       "      <td>0.0</td>\n",
       "      <td>29862.099633</td>\n",
       "    </tr>\n",
       "    <tr>\n",
       "      <td>2</td>\n",
       "      <td>2006-02-23 03:00:00</td>\n",
       "      <td>34235.243215</td>\n",
       "      <td>27378.127386</td>\n",
       "      <td>30867.086636</td>\n",
       "      <td>34235.243215</td>\n",
       "      <td>34235.243215</td>\n",
       "      <td>-5099.028021</td>\n",
       "      <td>-5099.028021</td>\n",
       "      <td>-5099.028021</td>\n",
       "      <td>-5746.549103</td>\n",
       "      <td>-5746.549103</td>\n",
       "      <td>-5746.549103</td>\n",
       "      <td>647.521082</td>\n",
       "      <td>647.521082</td>\n",
       "      <td>647.521082</td>\n",
       "      <td>0.0</td>\n",
       "      <td>0.0</td>\n",
       "      <td>0.0</td>\n",
       "      <td>29136.215194</td>\n",
       "    </tr>\n",
       "    <tr>\n",
       "      <td>3</td>\n",
       "      <td>2006-02-23 04:00:00</td>\n",
       "      <td>34240.861330</td>\n",
       "      <td>27411.283834</td>\n",
       "      <td>30694.869666</td>\n",
       "      <td>34240.861330</td>\n",
       "      <td>34240.861330</td>\n",
       "      <td>-5104.475155</td>\n",
       "      <td>-5104.475155</td>\n",
       "      <td>-5104.475155</td>\n",
       "      <td>-5701.711449</td>\n",
       "      <td>-5701.711449</td>\n",
       "      <td>-5701.711449</td>\n",
       "      <td>597.236294</td>\n",
       "      <td>597.236294</td>\n",
       "      <td>597.236294</td>\n",
       "      <td>0.0</td>\n",
       "      <td>0.0</td>\n",
       "      <td>0.0</td>\n",
       "      <td>29136.386174</td>\n",
       "    </tr>\n",
       "    <tr>\n",
       "      <td>4</td>\n",
       "      <td>2006-02-23 05:00:00</td>\n",
       "      <td>34246.479444</td>\n",
       "      <td>28516.324520</td>\n",
       "      <td>31935.600491</td>\n",
       "      <td>34245.604652</td>\n",
       "      <td>34246.811495</td>\n",
       "      <td>-4041.736570</td>\n",
       "      <td>-4041.736570</td>\n",
       "      <td>-4041.736570</td>\n",
       "      <td>-4585.809669</td>\n",
       "      <td>-4585.809669</td>\n",
       "      <td>-4585.809669</td>\n",
       "      <td>544.073099</td>\n",
       "      <td>544.073099</td>\n",
       "      <td>544.073099</td>\n",
       "      <td>0.0</td>\n",
       "      <td>0.0</td>\n",
       "      <td>0.0</td>\n",
       "      <td>30204.742873</td>\n",
       "    </tr>\n",
       "  </tbody>\n",
       "</table>\n",
       "</div>"
      ],
      "text/plain": [
       "                   ds         trend    yhat_lower    yhat_upper   trend_lower  \\\n",
       "0 2006-02-23 01:00:00  34224.006987  29230.309391  32582.269783  34224.006987   \n",
       "1 2006-02-23 02:00:00  34229.625101  28351.289613  31631.509806  34229.625101   \n",
       "2 2006-02-23 03:00:00  34235.243215  27378.127386  30867.086636  34235.243215   \n",
       "3 2006-02-23 04:00:00  34240.861330  27411.283834  30694.869666  34240.861330   \n",
       "4 2006-02-23 05:00:00  34246.479444  28516.324520  31935.600491  34245.604652   \n",
       "\n",
       "    trend_upper  additive_terms  additive_terms_lower  additive_terms_upper  \\\n",
       "0  34224.006987    -3240.838572          -3240.838572          -3240.838572   \n",
       "1  34229.625101    -4367.525469          -4367.525469          -4367.525469   \n",
       "2  34235.243215    -5099.028021          -5099.028021          -5099.028021   \n",
       "3  34240.861330    -5104.475155          -5104.475155          -5104.475155   \n",
       "4  34246.811495    -4041.736570          -4041.736570          -4041.736570   \n",
       "\n",
       "         daily  daily_lower  daily_upper      weekly  weekly_lower  \\\n",
       "0 -3979.677590 -3979.677590 -3979.677590  738.839019    738.839019   \n",
       "1 -5062.291196 -5062.291196 -5062.291196  694.765728    694.765728   \n",
       "2 -5746.549103 -5746.549103 -5746.549103  647.521082    647.521082   \n",
       "3 -5701.711449 -5701.711449 -5701.711449  597.236294    597.236294   \n",
       "4 -4585.809669 -4585.809669 -4585.809669  544.073099    544.073099   \n",
       "\n",
       "   weekly_upper  multiplicative_terms  multiplicative_terms_lower  \\\n",
       "0    738.839019                   0.0                         0.0   \n",
       "1    694.765728                   0.0                         0.0   \n",
       "2    647.521082                   0.0                         0.0   \n",
       "3    597.236294                   0.0                         0.0   \n",
       "4    544.073099                   0.0                         0.0   \n",
       "\n",
       "   multiplicative_terms_upper          yhat  \n",
       "0                         0.0  30983.168415  \n",
       "1                         0.0  29862.099633  \n",
       "2                         0.0  29136.215194  \n",
       "3                         0.0  29136.386174  \n",
       "4                         0.0  30204.742873  "
      ]
     },
     "execution_count": 74,
     "metadata": {},
     "output_type": "execute_result"
    }
   ],
   "source": [
    "pjme_test_fcst.head()"
   ]
  },
  {
   "cell_type": "code",
   "execution_count": 75,
   "metadata": {},
   "outputs": [
    {
     "data": {
      "image/png": "[encoded data removed]",
      "text/plain": [
       "<Figure size 1080x360 with 1 Axes>"
      ]
     },
     "metadata": {
      "needs_background": "light"
     },
     "output_type": "display_data"
    }
   ],
   "source": [
    "# Plot the forecast\n",
    "f, ax = plt.subplots(1)\n",
    "f.set_figheight(5)\n",
    "f.set_figwidth(15)\n",
    "fig = model.plot(pjme_test_fcst,\n",
    "                 ax=ax)\n",
    "plt.show()"
   ]
  },
  {
   "cell_type": "code",
   "execution_count": 76,
   "metadata": {},
   "outputs": [
    {
     "data": {
      "image/png": "[encoded data removed]",
      "text/plain": [
       "<Figure size 648x648 with 3 Axes>"
      ]
     },
     "metadata": {},
     "output_type": "display_data"
    }
   ],
   "source": [
    "# Plot the components of the model\n",
    "fig = model.plot_components(pjme_test_fcst)"
   ]
  },
  {
   "cell_type": "code",
   "execution_count": 77,
   "metadata": {},
   "outputs": [
    {
     "data": {
      "image/png": "[encoded data removed]",
      "text/plain": [
       "<Figure size 1080x360 with 1 Axes>"
      ]
     },
     "metadata": {
      "needs_background": "light"
     },
     "output_type": "display_data"
    }
   ],
   "source": [
    "# Plot the forecast with the actuals\n",
    "f, ax = plt.subplots(1)\n",
    "f.set_figheight(5)\n",
    "f.set_figwidth(15)\n",
    "ax.scatter(pjme_test.index, pjme_test['PJME_MW'], color='r')\n",
    "fig = model.plot(pjme_test_fcst, ax=ax)"
   ]
  },
  {
   "cell_type": "code",
   "execution_count": 78,
   "metadata": {},
   "outputs": [],
   "source": [
    "month_lower_date = pd.Timestamp(split_date)\n",
    "month_upper_date = pd.Timestamp(split_date + timedelta(days = 5))\n",
    "\n",
    "week_lower_date = pd.Timestamp(split_date)\n",
    "week_upper_date = pd.Timestamp(split_date + timedelta(days = 1))"
   ]
  },
  {
   "cell_type": "markdown",
   "metadata": {},
   "source": [
    "# Error Metrics\n",
    "Our RMSE error is 15987910.88\n",
    "Our MAE error is 3247.98\n",
    "Our MAPE error is 10.344\n",
    "\n",
    "by comparison in the XGBoost model our errors were significantly less (8.9% MAPE): Check that out here"
   ]
  },
  {
   "cell_type": "code",
   "execution_count": 81,
   "metadata": {},
   "outputs": [
    {
     "data": {
      "text/plain": [
       "2195915.126339721"
      ]
     },
     "execution_count": 81,
     "metadata": {},
     "output_type": "execute_result"
    }
   ],
   "source": [
    "mean_squared_error(y_true=pjme_test['PJME_MW'],\n",
    "                   y_pred=pjme_test_fcst['yhat'])"
   ]
  },
  {
   "cell_type": "code",
   "execution_count": 82,
   "metadata": {},
   "outputs": [
    {
     "data": {
      "text/plain": [
       "1182.1994291654885"
      ]
     },
     "execution_count": 82,
     "metadata": {},
     "output_type": "execute_result"
    }
   ],
   "source": [
    "mean_absolute_error(y_true=pjme_test['PJME_MW'],\n",
    "                   y_pred=pjme_test_fcst['yhat'])"
   ]
  },
  {
   "cell_type": "code",
   "execution_count": 83,
   "metadata": {},
   "outputs": [],
   "source": [
    "def mean_absolute_percentage_error(y_true, y_pred): \n",
    "    \"\"\"Calculates MAPE given y_true and y_pred\"\"\"\n",
    "    y_true, y_pred = np.array(y_true), np.array(y_pred)\n",
    "    return np.mean(np.abs((y_true - y_pred) / y_true)) * 100\n",
    "\n",
    "score = mean_absolute_percentage_error(y_true=pjme_test['PJME_MW'],\n",
    "                   y_pred=pjme_test_fcst['yhat'])"
   ]
  },
  {
   "cell_type": "code",
   "execution_count": 84,
   "metadata": {},
   "outputs": [
    {
     "name": "stdout",
     "output_type": "stream",
     "text": [
      "3.56405064468798\n"
     ]
    }
   ],
   "source": [
    "print(score)"
   ]
  },
  {
   "cell_type": "code",
   "execution_count": 85,
   "metadata": {},
   "outputs": [
    {
     "data": {
      "text/html": [
       "<div>\n",
       "<style scoped>\n",
       "    .dataframe tbody tr th:only-of-type {\n",
       "        vertical-align: middle;\n",
       "    }\n",
       "\n",
       "    .dataframe tbody tr th {\n",
       "        vertical-align: top;\n",
       "    }\n",
       "\n",
       "    .dataframe thead th {\n",
       "        text-align: right;\n",
       "    }\n",
       "</style>\n",
       "<table border=\"1\" class=\"dataframe\">\n",
       "  <thead>\n",
       "    <tr style=\"text-align: right;\">\n",
       "      <th></th>\n",
       "      <th>PJME_MW</th>\n",
       "    </tr>\n",
       "    <tr>\n",
       "      <th>Datetime</th>\n",
       "      <th></th>\n",
       "    </tr>\n",
       "  </thead>\n",
       "  <tbody>\n",
       "    <tr>\n",
       "      <td>2006-01-30 00:00:00</td>\n",
       "      <td>27036.0</td>\n",
       "    </tr>\n",
       "    <tr>\n",
       "      <td>2006-01-30 01:00:00</td>\n",
       "      <td>25492.0</td>\n",
       "    </tr>\n",
       "    <tr>\n",
       "      <td>2006-01-30 02:00:00</td>\n",
       "      <td>24676.0</td>\n",
       "    </tr>\n",
       "    <tr>\n",
       "      <td>2006-01-30 03:00:00</td>\n",
       "      <td>24464.0</td>\n",
       "    </tr>\n",
       "    <tr>\n",
       "      <td>2006-01-30 04:00:00</td>\n",
       "      <td>24668.0</td>\n",
       "    </tr>\n",
       "  </tbody>\n",
       "</table>\n",
       "</div>"
      ],
      "text/plain": [
       "                     PJME_MW\n",
       "Datetime                    \n",
       "2006-01-30 00:00:00  27036.0\n",
       "2006-01-30 01:00:00  25492.0\n",
       "2006-01-30 02:00:00  24676.0\n",
       "2006-01-30 03:00:00  24464.0\n",
       "2006-01-30 04:00:00  24668.0"
      ]
     },
     "execution_count": 85,
     "metadata": {},
     "output_type": "execute_result"
    }
   ],
   "source": [
    "pjme.head()"
   ]
  },
  {
   "cell_type": "code",
   "execution_count": 86,
   "metadata": {},
   "outputs": [],
   "source": [
    "pjme = pjme.reset_index()"
   ]
  },
  {
   "cell_type": "code",
   "execution_count": 87,
   "metadata": {},
   "outputs": [
    {
     "data": {
      "text/html": [
       "<div>\n",
       "<style scoped>\n",
       "    .dataframe tbody tr th:only-of-type {\n",
       "        vertical-align: middle;\n",
       "    }\n",
       "\n",
       "    .dataframe tbody tr th {\n",
       "        vertical-align: top;\n",
       "    }\n",
       "\n",
       "    .dataframe thead th {\n",
       "        text-align: right;\n",
       "    }\n",
       "</style>\n",
       "<table border=\"1\" class=\"dataframe\">\n",
       "  <thead>\n",
       "    <tr style=\"text-align: right;\">\n",
       "      <th></th>\n",
       "      <th>Datetime</th>\n",
       "      <th>PJME_MW</th>\n",
       "    </tr>\n",
       "  </thead>\n",
       "  <tbody>\n",
       "    <tr>\n",
       "      <td>0</td>\n",
       "      <td>2006-01-30 00:00:00</td>\n",
       "      <td>27036.0</td>\n",
       "    </tr>\n",
       "    <tr>\n",
       "      <td>1</td>\n",
       "      <td>2006-01-30 01:00:00</td>\n",
       "      <td>25492.0</td>\n",
       "    </tr>\n",
       "    <tr>\n",
       "      <td>2</td>\n",
       "      <td>2006-01-30 02:00:00</td>\n",
       "      <td>24676.0</td>\n",
       "    </tr>\n",
       "    <tr>\n",
       "      <td>3</td>\n",
       "      <td>2006-01-30 03:00:00</td>\n",
       "      <td>24464.0</td>\n",
       "    </tr>\n",
       "    <tr>\n",
       "      <td>4</td>\n",
       "      <td>2006-01-30 04:00:00</td>\n",
       "      <td>24668.0</td>\n",
       "    </tr>\n",
       "  </tbody>\n",
       "</table>\n",
       "</div>"
      ],
      "text/plain": [
       "             Datetime  PJME_MW\n",
       "0 2006-01-30 00:00:00  27036.0\n",
       "1 2006-01-30 01:00:00  25492.0\n",
       "2 2006-01-30 02:00:00  24676.0\n",
       "3 2006-01-30 03:00:00  24464.0\n",
       "4 2006-01-30 04:00:00  24668.0"
      ]
     },
     "execution_count": 87,
     "metadata": {},
     "output_type": "execute_result"
    }
   ],
   "source": [
    "pjme.head()"
   ]
  },
  {
   "cell_type": "code",
   "execution_count": 88,
   "metadata": {},
   "outputs": [],
   "source": [
    "Xrefit = pjme.copy()"
   ]
  },
  {
   "cell_type": "code",
   "execution_count": null,
   "metadata": {},
   "outputs": [],
   "source": []
  },
  {
   "cell_type": "code",
   "execution_count": 89,
   "metadata": {},
   "outputs": [],
   "source": [
    "Xrefit.columns = [time_col,target_col]"
   ]
  },
  {
   "cell_type": "code",
   "execution_count": 90,
   "metadata": {},
   "outputs": [
    {
     "data": {
      "text/html": [
       "<div>\n",
       "<style scoped>\n",
       "    .dataframe tbody tr th:only-of-type {\n",
       "        vertical-align: middle;\n",
       "    }\n",
       "\n",
       "    .dataframe tbody tr th {\n",
       "        vertical-align: top;\n",
       "    }\n",
       "\n",
       "    .dataframe thead th {\n",
       "        text-align: right;\n",
       "    }\n",
       "</style>\n",
       "<table border=\"1\" class=\"dataframe\">\n",
       "  <thead>\n",
       "    <tr style=\"text-align: right;\">\n",
       "      <th></th>\n",
       "      <th>ds</th>\n",
       "      <th>y</th>\n",
       "    </tr>\n",
       "  </thead>\n",
       "  <tbody>\n",
       "    <tr>\n",
       "      <td>0</td>\n",
       "      <td>2006-01-30 00:00:00</td>\n",
       "      <td>27036.0</td>\n",
       "    </tr>\n",
       "    <tr>\n",
       "      <td>1</td>\n",
       "      <td>2006-01-30 01:00:00</td>\n",
       "      <td>25492.0</td>\n",
       "    </tr>\n",
       "    <tr>\n",
       "      <td>2</td>\n",
       "      <td>2006-01-30 02:00:00</td>\n",
       "      <td>24676.0</td>\n",
       "    </tr>\n",
       "    <tr>\n",
       "      <td>3</td>\n",
       "      <td>2006-01-30 03:00:00</td>\n",
       "      <td>24464.0</td>\n",
       "    </tr>\n",
       "    <tr>\n",
       "      <td>4</td>\n",
       "      <td>2006-01-30 04:00:00</td>\n",
       "      <td>24668.0</td>\n",
       "    </tr>\n",
       "  </tbody>\n",
       "</table>\n",
       "</div>"
      ],
      "text/plain": [
       "                   ds        y\n",
       "0 2006-01-30 00:00:00  27036.0\n",
       "1 2006-01-30 01:00:00  25492.0\n",
       "2 2006-01-30 02:00:00  24676.0\n",
       "3 2006-01-30 03:00:00  24464.0\n",
       "4 2006-01-30 04:00:00  24668.0"
      ]
     },
     "execution_count": 90,
     "metadata": {},
     "output_type": "execute_result"
    }
   ],
   "source": [
    "Xrefit.head()"
   ]
  },
  {
   "cell_type": "code",
   "execution_count": 91,
   "metadata": {},
   "outputs": [
    {
     "data": {
      "text/html": [
       "<div>\n",
       "<style scoped>\n",
       "    .dataframe tbody tr th:only-of-type {\n",
       "        vertical-align: middle;\n",
       "    }\n",
       "\n",
       "    .dataframe tbody tr th {\n",
       "        vertical-align: top;\n",
       "    }\n",
       "\n",
       "    .dataframe thead th {\n",
       "        text-align: right;\n",
       "    }\n",
       "</style>\n",
       "<table border=\"1\" class=\"dataframe\">\n",
       "  <thead>\n",
       "    <tr style=\"text-align: right;\">\n",
       "      <th></th>\n",
       "      <th>ds</th>\n",
       "      <th>y</th>\n",
       "    </tr>\n",
       "  </thead>\n",
       "  <tbody>\n",
       "    <tr>\n",
       "      <td>716</td>\n",
       "      <td>2006-02-28 20:00:00</td>\n",
       "      <td>39916.0</td>\n",
       "    </tr>\n",
       "    <tr>\n",
       "      <td>717</td>\n",
       "      <td>2006-02-28 21:00:00</td>\n",
       "      <td>39114.0</td>\n",
       "    </tr>\n",
       "    <tr>\n",
       "      <td>718</td>\n",
       "      <td>2006-02-28 22:00:00</td>\n",
       "      <td>37417.0</td>\n",
       "    </tr>\n",
       "    <tr>\n",
       "      <td>719</td>\n",
       "      <td>2006-02-28 23:00:00</td>\n",
       "      <td>34691.0</td>\n",
       "    </tr>\n",
       "    <tr>\n",
       "      <td>720</td>\n",
       "      <td>2006-03-01 00:00:00</td>\n",
       "      <td>31950.0</td>\n",
       "    </tr>\n",
       "  </tbody>\n",
       "</table>\n",
       "</div>"
      ],
      "text/plain": [
       "                     ds        y\n",
       "716 2006-02-28 20:00:00  39916.0\n",
       "717 2006-02-28 21:00:00  39114.0\n",
       "718 2006-02-28 22:00:00  37417.0\n",
       "719 2006-02-28 23:00:00  34691.0\n",
       "720 2006-03-01 00:00:00  31950.0"
      ]
     },
     "execution_count": 91,
     "metadata": {},
     "output_type": "execute_result"
    }
   ],
   "source": [
    "Xrefit.tail()"
   ]
  },
  {
   "cell_type": "markdown",
   "metadata": {},
   "source": [
    "# Construção do Pipeline "
   ]
  },
  {
   "cell_type": "code",
   "execution_count": 92,
   "metadata": {},
   "outputs": [
    {
     "name": "stderr",
     "output_type": "stream",
     "text": [
      "INFO:fbprophet:Disabling yearly seasonality. Run prophet with yearly_seasonality=True to override this.\n"
     ]
    }
   ],
   "source": [
    "trained_models = {}\n",
    "df_model_result=pd.DataFrame()\n",
    "\n",
    "result_list = []\n",
    "\n",
    "model = Prophet()\n",
    "trained_models = model.fit(Xrefit.reset_index())\n",
    "    \n",
    "    #result list\n",
    "result_list.append({'model_name': 'prophet',\n",
    "                        'date_begin': Xrefit.ds.min(),\n",
    "                        'date_end'  : Xrefit.ds.max(),\n",
    "                        'score': score})\n",
    "    \n",
    "df_results = pd.DataFrame().from_dict(result_list)"
   ]
  },
  {
   "cell_type": "code",
   "execution_count": 93,
   "metadata": {},
   "outputs": [
    {
     "data": {
      "text/html": [
       "<div>\n",
       "<style scoped>\n",
       "    .dataframe tbody tr th:only-of-type {\n",
       "        vertical-align: middle;\n",
       "    }\n",
       "\n",
       "    .dataframe tbody tr th {\n",
       "        vertical-align: top;\n",
       "    }\n",
       "\n",
       "    .dataframe thead th {\n",
       "        text-align: right;\n",
       "    }\n",
       "</style>\n",
       "<table border=\"1\" class=\"dataframe\">\n",
       "  <thead>\n",
       "    <tr style=\"text-align: right;\">\n",
       "      <th></th>\n",
       "      <th>model_name</th>\n",
       "      <th>date_begin</th>\n",
       "      <th>date_end</th>\n",
       "      <th>score</th>\n",
       "    </tr>\n",
       "  </thead>\n",
       "  <tbody>\n",
       "    <tr>\n",
       "      <td>0</td>\n",
       "      <td>prophet</td>\n",
       "      <td>2006-01-30</td>\n",
       "      <td>2006-03-01</td>\n",
       "      <td>3.564051</td>\n",
       "    </tr>\n",
       "  </tbody>\n",
       "</table>\n",
       "</div>"
      ],
      "text/plain": [
       "  model_name date_begin   date_end     score\n",
       "0    prophet 2006-01-30 2006-03-01  3.564051"
      ]
     },
     "execution_count": 93,
     "metadata": {},
     "output_type": "execute_result"
    }
   ],
   "source": [
    "df_results.head()"
   ]
  },
  {
   "cell_type": "markdown",
   "metadata": {},
   "source": [
    "# Exportar os resultados e modelagem "
   ]
  },
  {
   "cell_type": "code",
   "execution_count": 94,
   "metadata": {},
   "outputs": [
    {
     "data": {
      "text/html": [
       "<div>\n",
       "<style scoped>\n",
       "    .dataframe tbody tr th:only-of-type {\n",
       "        vertical-align: middle;\n",
       "    }\n",
       "\n",
       "    .dataframe tbody tr th {\n",
       "        vertical-align: top;\n",
       "    }\n",
       "\n",
       "    .dataframe thead th {\n",
       "        text-align: right;\n",
       "    }\n",
       "</style>\n",
       "<table border=\"1\" class=\"dataframe\">\n",
       "  <thead>\n",
       "    <tr style=\"text-align: right;\">\n",
       "      <th></th>\n",
       "      <th>model_name</th>\n",
       "      <th>date_begin</th>\n",
       "      <th>date_end</th>\n",
       "      <th>score</th>\n",
       "    </tr>\n",
       "  </thead>\n",
       "  <tbody>\n",
       "    <tr>\n",
       "      <td>0</td>\n",
       "      <td>prophet</td>\n",
       "      <td>2006-01-30</td>\n",
       "      <td>2006-03-01</td>\n",
       "      <td>3.564051</td>\n",
       "    </tr>\n",
       "  </tbody>\n",
       "</table>\n",
       "</div>"
      ],
      "text/plain": [
       "  model_name date_begin   date_end     score\n",
       "0    prophet 2006-01-30 2006-03-01  3.564051"
      ]
     },
     "execution_count": 94,
     "metadata": {},
     "output_type": "execute_result"
    }
   ],
   "source": [
    "# exportar a tabela de resultados\n",
    "\n",
    "#data_proc_file = WORKDIR + '/Data/Processed/energy_consumption_data_modeling.parquet'\n",
    "#model_score_file = WORKDIR + '/Data/Modeling/model_scores.parquet'\n",
    "#model_file = WORKDIR + '/Data/Modeling/trained_models.jbl'\n",
    "df_results.to_parquet(model_score_file)\n",
    "\n",
    "filename = model_score_file.replace(\".parquet\",\"_\" + df_results.date_end.max().date().strftime('%Y-%m-%d') + \".parquet\") \n",
    "df_results.to_parquet(filename)\n",
    "\n",
    "filename = model_file  \n",
    "pickle.dump(trained_models, open(filename, 'wb'))\n",
    "\n",
    "\n",
    "filename = model_file.replace(\".jbl\",\"_\" + df_results.date_end.max().date().strftime('%Y-%m-%d') + \".jbl\")     \n",
    "#with open(trained_models, 'wb') as fid:\n",
    "    #pickle.dump(trained_models, fid)\n",
    "pickle.dump(trained_models, open(filename, 'wb'))\n",
    "    \n",
    "    \n",
    "    \n",
    "df_results.head()"
   ]
  },
  {
   "cell_type": "code",
   "execution_count": 95,
   "metadata": {},
   "outputs": [
    {
     "data": {
      "text/html": [
       "<div>\n",
       "<style scoped>\n",
       "    .dataframe tbody tr th:only-of-type {\n",
       "        vertical-align: middle;\n",
       "    }\n",
       "\n",
       "    .dataframe tbody tr th {\n",
       "        vertical-align: top;\n",
       "    }\n",
       "\n",
       "    .dataframe thead th {\n",
       "        text-align: right;\n",
       "    }\n",
       "</style>\n",
       "<table border=\"1\" class=\"dataframe\">\n",
       "  <thead>\n",
       "    <tr style=\"text-align: right;\">\n",
       "      <th></th>\n",
       "      <th>model_name</th>\n",
       "      <th>date_begin</th>\n",
       "      <th>date_end</th>\n",
       "      <th>score</th>\n",
       "    </tr>\n",
       "  </thead>\n",
       "  <tbody>\n",
       "    <tr>\n",
       "      <td>0</td>\n",
       "      <td>prophet</td>\n",
       "      <td>2006-01-30</td>\n",
       "      <td>2006-03-01</td>\n",
       "      <td>3.564051</td>\n",
       "    </tr>\n",
       "  </tbody>\n",
       "</table>\n",
       "</div>"
      ],
      "text/plain": [
       "  model_name date_begin   date_end     score\n",
       "0    prophet 2006-01-30 2006-03-01  3.564051"
      ]
     },
     "execution_count": 95,
     "metadata": {},
     "output_type": "execute_result"
    }
   ],
   "source": [
    "df_results.head()"
   ]
  },
  {
   "cell_type": "code",
   "execution_count": 96,
   "metadata": {},
   "outputs": [
    {
     "data": {
      "text/html": [
       "<div>\n",
       "<style scoped>\n",
       "    .dataframe tbody tr th:only-of-type {\n",
       "        vertical-align: middle;\n",
       "    }\n",
       "\n",
       "    .dataframe tbody tr th {\n",
       "        vertical-align: top;\n",
       "    }\n",
       "\n",
       "    .dataframe thead th {\n",
       "        text-align: right;\n",
       "    }\n",
       "</style>\n",
       "<table border=\"1\" class=\"dataframe\">\n",
       "  <thead>\n",
       "    <tr style=\"text-align: right;\">\n",
       "      <th></th>\n",
       "      <th>model_name</th>\n",
       "      <th>date_begin</th>\n",
       "      <th>date_end</th>\n",
       "      <th>score</th>\n",
       "    </tr>\n",
       "  </thead>\n",
       "  <tbody>\n",
       "    <tr>\n",
       "      <td>0</td>\n",
       "      <td>prophet</td>\n",
       "      <td>2006-01-30</td>\n",
       "      <td>2006-03-01</td>\n",
       "      <td>3.564051</td>\n",
       "    </tr>\n",
       "  </tbody>\n",
       "</table>\n",
       "</div>"
      ],
      "text/plain": [
       "  model_name date_begin   date_end     score\n",
       "0    prophet 2006-01-30 2006-03-01  3.564051"
      ]
     },
     "execution_count": 96,
     "metadata": {},
     "output_type": "execute_result"
    }
   ],
   "source": [
    "df_results.head()"
   ]
  },
  {
   "cell_type": "code",
   "execution_count": null,
   "metadata": {},
   "outputs": [],
   "source": []
  },
  {
   "cell_type": "code",
   "execution_count": null,
   "metadata": {},
   "outputs": [],
   "source": []
  }
 ],
 "metadata": {
  "kernelspec": {
   "display_name": "Python 3",
   "language": "python",
   "name": "python3"
  },
  "language_info": {
   "codemirror_mode": {
    "name": "ipython",
    "version": 3
   },
   "file_extension": ".py",
   "mimetype": "text/x-python",
   "name": "python",
   "nbconvert_exporter": "python",
   "pygments_lexer": "ipython3",
   "version": "3.7.4"
  }
 },
 "nbformat": 4,
 "nbformat_minor": 4
}
