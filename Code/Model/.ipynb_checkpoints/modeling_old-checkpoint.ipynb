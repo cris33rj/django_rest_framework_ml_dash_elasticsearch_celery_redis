{
 "cells": [
  {
   "cell_type": "code",
   "execution_count": 50,
   "metadata": {},
   "outputs": [],
   "source": [
    "\n",
    "import pandas as pd\n",
    "import seaborn as sns\n",
    "import numpy as np\n",
    "import matplotlib.pyplot as plt\n",
    "import fbprophet\n",
    "import pickle\n",
    "import scipy.optimize as optim\n",
    "import logging\n",
    "\n",
    "logging.getLogger().setLevel(logging.ERROR)\n",
    "    \n",
    "\n",
    "%matplotlib inline\n",
    "\n",
    "plt.style.use('bmh')\n",
    "\n",
    "%store -r WORKDIR\n",
    "\n",
    "if 'WORKDIR' not in dir():\n",
    "    WORKDIR = 'C:/Users/thewr/git/mit_data_science.git/'\n",
    "\n",
    "\n",
    "\n",
    "max_date = '2020-06-01'\n",
    "min_samples = 30\n",
    "\n",
    "\n",
    "data_proc_file = WORKDIR + '/Data/Processed/covid19_data_modeling.parquet'\n",
    "model_score_file = WORKDIR + '/Data/Modeling/model_scores.parquet'\n",
    "model_file = WORKDIR + '/Data/Modeling/trained_models.jbl'\n",
    "\n",
    "time_col = 'date'\n",
    "grain_col = 'countrycode'\n",
    "target_col = 'cases'\n",
    "countrycode_list = ['US','CN','BR','IT','FR','UK']\n",
    "\n",
    "ntest = 15\n",
    "\n",
    "pd.plotting.register_matplotlib_converters()"
   ]
  },
  {
   "cell_type": "markdown",
   "metadata": {},
   "source": [
    "# Carga dos Dados "
   ]
  },
  {
   "cell_type": "code",
   "execution_count": 51,
   "metadata": {},
   "outputs": [
    {
     "name": "stdout",
     "output_type": "stream",
     "text": [
      "shape: (16572, 5)\n",
      "columns: Index(['countrycode', 'date', 'cases', 'deaths', 'recovered'], dtype='object')\n"
     ]
    }
   ],
   "source": [
    "df = pd.read_parquet(data_proc_file)\n",
    "\n",
    "df = df[df[time_col] < max_date]\n",
    "\n",
    "print('shape:', df.shape)\n",
    "print('columns:', df.columns)"
   ]
  },
  {
   "cell_type": "code",
   "execution_count": 52,
   "metadata": {},
   "outputs": [
    {
     "data": {
      "text/html": [
       "<div>\n",
       "<style scoped>\n",
       "    .dataframe tbody tr th:only-of-type {\n",
       "        vertical-align: middle;\n",
       "    }\n",
       "\n",
       "    .dataframe tbody tr th {\n",
       "        vertical-align: top;\n",
       "    }\n",
       "\n",
       "    .dataframe thead th {\n",
       "        text-align: right;\n",
       "    }\n",
       "</style>\n",
       "<table border=\"1\" class=\"dataframe\">\n",
       "  <thead>\n",
       "    <tr style=\"text-align: right;\">\n",
       "      <th></th>\n",
       "      <th>countrycode</th>\n",
       "      <th>date</th>\n",
       "      <th>cases</th>\n",
       "      <th>deaths</th>\n",
       "      <th>recovered</th>\n",
       "    </tr>\n",
       "  </thead>\n",
       "  <tbody>\n",
       "    <tr>\n",
       "      <td>6</td>\n",
       "      <td>AD</td>\n",
       "      <td>2020-05-31</td>\n",
       "      <td>764.0</td>\n",
       "      <td>51.0</td>\n",
       "      <td>1.0</td>\n",
       "    </tr>\n",
       "    <tr>\n",
       "      <td>7</td>\n",
       "      <td>AD</td>\n",
       "      <td>2020-05-30</td>\n",
       "      <td>764.0</td>\n",
       "      <td>51.0</td>\n",
       "      <td>1.0</td>\n",
       "    </tr>\n",
       "    <tr>\n",
       "      <td>8</td>\n",
       "      <td>AD</td>\n",
       "      <td>2020-05-29</td>\n",
       "      <td>764.0</td>\n",
       "      <td>51.0</td>\n",
       "      <td>1.0</td>\n",
       "    </tr>\n",
       "    <tr>\n",
       "      <td>9</td>\n",
       "      <td>AD</td>\n",
       "      <td>2020-05-28</td>\n",
       "      <td>763.0</td>\n",
       "      <td>51.0</td>\n",
       "      <td>1.0</td>\n",
       "    </tr>\n",
       "    <tr>\n",
       "      <td>10</td>\n",
       "      <td>AD</td>\n",
       "      <td>2020-05-27</td>\n",
       "      <td>763.0</td>\n",
       "      <td>51.0</td>\n",
       "      <td>1.0</td>\n",
       "    </tr>\n",
       "  </tbody>\n",
       "</table>\n",
       "</div>"
      ],
      "text/plain": [
       "   countrycode       date  cases  deaths  recovered\n",
       "6           AD 2020-05-31  764.0    51.0        1.0\n",
       "7           AD 2020-05-30  764.0    51.0        1.0\n",
       "8           AD 2020-05-29  764.0    51.0        1.0\n",
       "9           AD 2020-05-28  763.0    51.0        1.0\n",
       "10          AD 2020-05-27  763.0    51.0        1.0"
      ]
     },
     "execution_count": 52,
     "metadata": {},
     "output_type": "execute_result"
    }
   ],
   "source": [
    "df.head()"
   ]
  },
  {
   "cell_type": "code",
   "execution_count": 35,
   "metadata": {},
   "outputs": [
    {
     "data": {
      "text/plain": [
       "(28099, 5)"
      ]
     },
     "execution_count": 35,
     "metadata": {},
     "output_type": "execute_result"
    }
   ],
   "source": [
    "df.shape"
   ]
  },
  {
   "cell_type": "markdown",
   "metadata": {},
   "source": [
    "# Treino / Teste "
   ]
  },
  {
   "cell_type": "code",
   "execution_count": 53,
   "metadata": {},
   "outputs": [
    {
     "name": "stdout",
     "output_type": "stream",
     "text": [
      "Train: (13746, 5)\n",
      "Test : (2826, 5)\n"
     ]
    }
   ],
   "source": [
    "def split_last_n_by_grain(df, ntest, time_column_name, grain_column_names):\n",
    "    \"\"\"Group df by grain and split on last n rows for each group.\"\"\"\n",
    "    df_grouped = (df.sort_values(time_column_name) # Sort by ascending time\n",
    "                  .groupby(grain_column_names, group_keys=False))\n",
    "    df_head = df_grouped.apply(lambda dfg: dfg.iloc[:-ntest])\n",
    "    df_tail = df_grouped.apply(lambda dfg: dfg.iloc[-ntest:])\n",
    "    return df_head, df_tail\n",
    "\n",
    "\n",
    "df_train, df_test = split_last_n_by_grain(df, ntest, time_col, grain_col)\n",
    "\n",
    "print('Train:', df_train.shape)\n",
    "print('Test :', df_test.shape)"
   ]
  },
  {
   "cell_type": "code",
   "execution_count": 37,
   "metadata": {},
   "outputs": [
    {
     "data": {
      "text/html": [
       "<div>\n",
       "<style scoped>\n",
       "    .dataframe tbody tr th:only-of-type {\n",
       "        vertical-align: middle;\n",
       "    }\n",
       "\n",
       "    .dataframe tbody tr th {\n",
       "        vertical-align: top;\n",
       "    }\n",
       "\n",
       "    .dataframe thead th {\n",
       "        text-align: right;\n",
       "    }\n",
       "</style>\n",
       "<table border=\"1\" class=\"dataframe\">\n",
       "  <thead>\n",
       "    <tr style=\"text-align: right;\">\n",
       "      <th></th>\n",
       "      <th>countrycode</th>\n",
       "      <th>date</th>\n",
       "      <th>cases</th>\n",
       "      <th>deaths</th>\n",
       "      <th>recovered</th>\n",
       "    </tr>\n",
       "  </thead>\n",
       "  <tbody>\n",
       "    <tr>\n",
       "      <td>96</td>\n",
       "      <td>AD</td>\n",
       "      <td>2020-03-02</td>\n",
       "      <td>1.0</td>\n",
       "      <td>0.0</td>\n",
       "      <td>0.0</td>\n",
       "    </tr>\n",
       "    <tr>\n",
       "      <td>95</td>\n",
       "      <td>AD</td>\n",
       "      <td>2020-03-03</td>\n",
       "      <td>1.0</td>\n",
       "      <td>0.0</td>\n",
       "      <td>0.0</td>\n",
       "    </tr>\n",
       "    <tr>\n",
       "      <td>94</td>\n",
       "      <td>AD</td>\n",
       "      <td>2020-03-04</td>\n",
       "      <td>1.0</td>\n",
       "      <td>0.0</td>\n",
       "      <td>0.0</td>\n",
       "    </tr>\n",
       "    <tr>\n",
       "      <td>93</td>\n",
       "      <td>AD</td>\n",
       "      <td>2020-03-05</td>\n",
       "      <td>1.0</td>\n",
       "      <td>0.0</td>\n",
       "      <td>0.0</td>\n",
       "    </tr>\n",
       "    <tr>\n",
       "      <td>92</td>\n",
       "      <td>AD</td>\n",
       "      <td>2020-03-06</td>\n",
       "      <td>1.0</td>\n",
       "      <td>0.0</td>\n",
       "      <td>0.0</td>\n",
       "    </tr>\n",
       "  </tbody>\n",
       "</table>\n",
       "</div>"
      ],
      "text/plain": [
       "   countrycode       date  cases  deaths  recovered\n",
       "96          AD 2020-03-02    1.0     0.0        0.0\n",
       "95          AD 2020-03-03    1.0     0.0        0.0\n",
       "94          AD 2020-03-04    1.0     0.0        0.0\n",
       "93          AD 2020-03-05    1.0     0.0        0.0\n",
       "92          AD 2020-03-06    1.0     0.0        0.0"
      ]
     },
     "execution_count": 37,
     "metadata": {},
     "output_type": "execute_result"
    }
   ],
   "source": [
    "df_train.head()"
   ]
  },
  {
   "cell_type": "code",
   "execution_count": 42,
   "metadata": {},
   "outputs": [
    {
     "data": {
      "text/html": [
       "<div>\n",
       "<style scoped>\n",
       "    .dataframe tbody tr th:only-of-type {\n",
       "        vertical-align: middle;\n",
       "    }\n",
       "\n",
       "    .dataframe tbody tr th {\n",
       "        vertical-align: top;\n",
       "    }\n",
       "\n",
       "    .dataframe thead th {\n",
       "        text-align: right;\n",
       "    }\n",
       "</style>\n",
       "<table border=\"1\" class=\"dataframe\">\n",
       "  <thead>\n",
       "    <tr style=\"text-align: right;\">\n",
       "      <th></th>\n",
       "      <th>countrycode</th>\n",
       "      <th>date</th>\n",
       "      <th>cases</th>\n",
       "      <th>deaths</th>\n",
       "      <th>recovered</th>\n",
       "    </tr>\n",
       "  </thead>\n",
       "  <tbody>\n",
       "    <tr>\n",
       "      <td>25151</td>\n",
       "      <td>AD</td>\n",
       "      <td>2020-07-17</td>\n",
       "      <td>880.0</td>\n",
       "      <td>52.0</td>\n",
       "      <td>800.0</td>\n",
       "    </tr>\n",
       "    <tr>\n",
       "      <td>25340</td>\n",
       "      <td>AD</td>\n",
       "      <td>2020-07-18</td>\n",
       "      <td>880.0</td>\n",
       "      <td>52.0</td>\n",
       "      <td>800.0</td>\n",
       "    </tr>\n",
       "    <tr>\n",
       "      <td>25529</td>\n",
       "      <td>AD</td>\n",
       "      <td>2020-07-19</td>\n",
       "      <td>880.0</td>\n",
       "      <td>52.0</td>\n",
       "      <td>800.0</td>\n",
       "    </tr>\n",
       "    <tr>\n",
       "      <td>25718</td>\n",
       "      <td>AD</td>\n",
       "      <td>2020-07-20</td>\n",
       "      <td>884.0</td>\n",
       "      <td>52.0</td>\n",
       "      <td>800.0</td>\n",
       "    </tr>\n",
       "    <tr>\n",
       "      <td>25907</td>\n",
       "      <td>AD</td>\n",
       "      <td>2020-07-21</td>\n",
       "      <td>884.0</td>\n",
       "      <td>52.0</td>\n",
       "      <td>800.0</td>\n",
       "    </tr>\n",
       "  </tbody>\n",
       "</table>\n",
       "</div>"
      ],
      "text/plain": [
       "      countrycode       date  cases  deaths  recovered\n",
       "25151          AD 2020-07-17  880.0    52.0      800.0\n",
       "25340          AD 2020-07-18  880.0    52.0      800.0\n",
       "25529          AD 2020-07-19  880.0    52.0      800.0\n",
       "25718          AD 2020-07-20  884.0    52.0      800.0\n",
       "25907          AD 2020-07-21  884.0    52.0      800.0"
      ]
     },
     "execution_count": 42,
     "metadata": {},
     "output_type": "execute_result"
    }
   ],
   "source": [
    "df_test.head()"
   ]
  },
  {
   "cell_type": "markdown",
   "metadata": {},
   "source": [
    "# Construção do Pipeline "
   ]
  },
  {
   "cell_type": "code",
   "execution_count": 58,
   "metadata": {},
   "outputs": [
    {
     "name": "stdout",
     "output_type": "stream",
     "text": [
      "Processing  USPrinting Xtrn  (116, 2)             date  cases\n",
      "22001 2020-01-22    1.0\n",
      "21812 2020-01-23    1.0\n",
      "Printing Xtst  (15,) date\n",
      "2020-05-17    1486376.0\n",
      "2020-05-18    1506840.0\n",
      "Name: cases, dtype: float64\n",
      "Printing XREFIT  (131, 2)\n"
     ]
    },
    {
     "ename": "ValueError",
     "evalue": "Capacities must be supplied for logistic growth in column \"cap\"",
     "output_type": "error",
     "traceback": [
      "\u001b[1;31m---------------------------------------------------------------------------\u001b[0m",
      "\u001b[1;31mValueError\u001b[0m                                Traceback (most recent call last)",
      "\u001b[1;32m<ipython-input-58-37cd43f3983a>\u001b[0m in \u001b[0;36m<module>\u001b[1;34m\u001b[0m\n\u001b[0;32m     21\u001b[0m         \u001b[1;32mcontinue\u001b[0m\u001b[1;33m\u001b[0m\u001b[1;33m\u001b[0m\u001b[0m\n\u001b[0;32m     22\u001b[0m \u001b[1;33m\u001b[0m\u001b[0m\n\u001b[1;32m---> 23\u001b[1;33m     \u001b[0mmodel\u001b[0m \u001b[1;33m=\u001b[0m \u001b[0mfbprophet\u001b[0m\u001b[1;33m.\u001b[0m\u001b[0mProphet\u001b[0m\u001b[1;33m(\u001b[0m\u001b[0mgrowth\u001b[0m\u001b[1;33m=\u001b[0m\u001b[1;34m'logistic'\u001b[0m\u001b[1;33m)\u001b[0m\u001b[1;33m.\u001b[0m\u001b[0mfit\u001b[0m\u001b[1;33m(\u001b[0m\u001b[0mXtrn\u001b[0m\u001b[1;33m)\u001b[0m\u001b[1;33m\u001b[0m\u001b[1;33m\u001b[0m\u001b[0m\n\u001b[0m\u001b[0;32m     24\u001b[0m \u001b[1;33m\u001b[0m\u001b[0m\n\u001b[0;32m     25\u001b[0m     \u001b[1;31m# Evaluate Model\u001b[0m\u001b[1;33m\u001b[0m\u001b[1;33m\u001b[0m\u001b[1;33m\u001b[0m\u001b[0m\n",
      "\u001b[1;32mC:\\ProgramData\\Anaconda3\\lib\\site-packages\\fbprophet\\forecaster.py\u001b[0m in \u001b[0;36mfit\u001b[1;34m(self, df, **kwargs)\u001b[0m\n\u001b[0;32m   1088\u001b[0m         \u001b[0mself\u001b[0m\u001b[1;33m.\u001b[0m\u001b[0mhistory_dates\u001b[0m \u001b[1;33m=\u001b[0m \u001b[0mpd\u001b[0m\u001b[1;33m.\u001b[0m\u001b[0mto_datetime\u001b[0m\u001b[1;33m(\u001b[0m\u001b[0mdf\u001b[0m\u001b[1;33m[\u001b[0m\u001b[1;34m'ds'\u001b[0m\u001b[1;33m]\u001b[0m\u001b[1;33m)\u001b[0m\u001b[1;33m.\u001b[0m\u001b[0msort_values\u001b[0m\u001b[1;33m(\u001b[0m\u001b[1;33m)\u001b[0m\u001b[1;33m\u001b[0m\u001b[1;33m\u001b[0m\u001b[0m\n\u001b[0;32m   1089\u001b[0m \u001b[1;33m\u001b[0m\u001b[0m\n\u001b[1;32m-> 1090\u001b[1;33m         \u001b[0mhistory\u001b[0m \u001b[1;33m=\u001b[0m \u001b[0mself\u001b[0m\u001b[1;33m.\u001b[0m\u001b[0msetup_dataframe\u001b[0m\u001b[1;33m(\u001b[0m\u001b[0mhistory\u001b[0m\u001b[1;33m,\u001b[0m \u001b[0minitialize_scales\u001b[0m\u001b[1;33m=\u001b[0m\u001b[1;32mTrue\u001b[0m\u001b[1;33m)\u001b[0m\u001b[1;33m\u001b[0m\u001b[1;33m\u001b[0m\u001b[0m\n\u001b[0m\u001b[0;32m   1091\u001b[0m         \u001b[0mself\u001b[0m\u001b[1;33m.\u001b[0m\u001b[0mhistory\u001b[0m \u001b[1;33m=\u001b[0m \u001b[0mhistory\u001b[0m\u001b[1;33m\u001b[0m\u001b[1;33m\u001b[0m\u001b[0m\n\u001b[0;32m   1092\u001b[0m         \u001b[0mself\u001b[0m\u001b[1;33m.\u001b[0m\u001b[0mset_auto_seasonalities\u001b[0m\u001b[1;33m(\u001b[0m\u001b[1;33m)\u001b[0m\u001b[1;33m\u001b[0m\u001b[1;33m\u001b[0m\u001b[0m\n",
      "\u001b[1;32mC:\\ProgramData\\Anaconda3\\lib\\site-packages\\fbprophet\\forecaster.py\u001b[0m in \u001b[0;36msetup_dataframe\u001b[1;34m(self, df, initialize_scales)\u001b[0m\n\u001b[0;32m    309\u001b[0m             \u001b[1;32mif\u001b[0m \u001b[1;34m'cap'\u001b[0m \u001b[1;32mnot\u001b[0m \u001b[1;32min\u001b[0m \u001b[0mdf\u001b[0m\u001b[1;33m:\u001b[0m\u001b[1;33m\u001b[0m\u001b[1;33m\u001b[0m\u001b[0m\n\u001b[0;32m    310\u001b[0m                 raise ValueError(\n\u001b[1;32m--> 311\u001b[1;33m                     \u001b[1;34m'Capacities must be supplied for logistic growth in '\u001b[0m\u001b[1;33m\u001b[0m\u001b[1;33m\u001b[0m\u001b[0m\n\u001b[0m\u001b[0;32m    312\u001b[0m                     \u001b[1;34m'column \"cap\"'\u001b[0m\u001b[1;33m\u001b[0m\u001b[1;33m\u001b[0m\u001b[0m\n\u001b[0;32m    313\u001b[0m                 )\n",
      "\u001b[1;31mValueError\u001b[0m: Capacities must be supplied for logistic growth in column \"cap\""
     ]
    }
   ],
   "source": [
    "def mape(y_true, y_pred):\n",
    "    return ((y_pred - y_true).abs()/y_true).mean() * 100\n",
    "    \n",
    "trained_models = {}\n",
    "df_model_result=pd.DataFrame()\n",
    "Xtrn1 = pd.DataFrame()\n",
    "Xtst2 = pd.DataFrame()\n",
    "result_list = []\n",
    "for countrycode in countrycode_list:\n",
    "    print('Processing ', countrycode, end='')\n",
    "    Xtrn = df_train[df_train[grain_col] == countrycode][[time_col, target_col]].copy()\n",
    "    print('Printing Xtrn ',Xtrn.shape, Xtrn.head(2))\n",
    "    Xtst = df_test[df_test[grain_col] == countrycode].groupby(time_col)[target_col].sum()\n",
    "    print('Printing Xtst ',Xtst.shape,Xtst.head(2))\n",
    "    Xrefit = df[df[grain_col] == countrycode][[time_col, target_col]].copy()\n",
    "    print('Printing XREFIT ',Xrefit.shape)\n",
    "    \n",
    "    Xtrn.columns = ['ds', 'y']\n",
    "    if Xtrn.shape[0] < min_samples:\n",
    "        print('=> less than', min_samples, '. Ignored.(', Xtrn.shape[0],')')\n",
    "        continue\n",
    "    \n",
    "    model = fbprophet.Prophet(growth='linear').fit(Xtrn)\n",
    "    \n",
    "    # Evaluate Model\n",
    "    n_periods = Xtst.shape[0]\n",
    "    forecast_data = model.make_future_dataframe(\n",
    "        periods=n_periods,\n",
    "        include_history=True\n",
    "        )\n",
    "    df_forecast = model.predict(forecast_data).set_index('ds')\n",
    "    forecast     = df_forecast.yhat[-n_periods:].rename('forecast')\n",
    "    forecast_low  =  df_forecast.yhat_lower[-n_periods:].rename('forecast_lo')\n",
    "    forecast_up   =  df_forecast.yhat_upper[-n_periods:].rename('forecast_up')\n",
    "    \n",
    "    # Score model\n",
    "    score = mape(Xtst, forecast)\n",
    "    print(' mape %.2f %%'%score)\n",
    "    \n",
    "    # Refit model\n",
    "    Xrefit.columns = ['ds','y']\n",
    "    trained_models[countrycode] = fbprophet.Prophet(growth='linear').fit(Xrefit)\n",
    "    \n",
    "    #result list\n",
    "    result_list.append({'countrycode':countrycode,\n",
    "                        'model_name': 'prophet',\n",
    "                        'date_begin': Xrefit.ds.min(),\n",
    "                        'date_end'  : Xrefit.ds.max(),\n",
    "                        'score': score})\n",
    "    \n",
    "df_results = pd.DataFrame().from_dict(result_list)"
   ]
  },
  {
   "cell_type": "code",
   "execution_count": 55,
   "metadata": {},
   "outputs": [
    {
     "data": {
      "text/plain": [
       "(5, 5)"
      ]
     },
     "execution_count": 55,
     "metadata": {},
     "output_type": "execute_result"
    }
   ],
   "source": [
    "df_results.shape"
   ]
  },
  {
   "cell_type": "code",
   "execution_count": 45,
   "metadata": {},
   "outputs": [
    {
     "data": {
      "text/html": [
       "<div>\n",
       "<style scoped>\n",
       "    .dataframe tbody tr th:only-of-type {\n",
       "        vertical-align: middle;\n",
       "    }\n",
       "\n",
       "    .dataframe tbody tr th {\n",
       "        vertical-align: top;\n",
       "    }\n",
       "\n",
       "    .dataframe thead th {\n",
       "        text-align: right;\n",
       "    }\n",
       "</style>\n",
       "<table border=\"1\" class=\"dataframe\">\n",
       "  <thead>\n",
       "    <tr style=\"text-align: right;\">\n",
       "      <th></th>\n",
       "      <th>countrycode</th>\n",
       "      <th>model_name</th>\n",
       "      <th>date_begin</th>\n",
       "      <th>date_end</th>\n",
       "      <th>score</th>\n",
       "    </tr>\n",
       "  </thead>\n",
       "  <tbody>\n",
       "    <tr>\n",
       "      <td>0</td>\n",
       "      <td>US</td>\n",
       "      <td>prophet</td>\n",
       "      <td>2020-01-22</td>\n",
       "      <td>2020-07-31</td>\n",
       "      <td>9.694024</td>\n",
       "    </tr>\n",
       "    <tr>\n",
       "      <td>1</td>\n",
       "      <td>CN</td>\n",
       "      <td>prophet</td>\n",
       "      <td>2020-01-22</td>\n",
       "      <td>2020-07-31</td>\n",
       "      <td>1.047769</td>\n",
       "    </tr>\n",
       "    <tr>\n",
       "      <td>2</td>\n",
       "      <td>BR</td>\n",
       "      <td>prophet</td>\n",
       "      <td>2020-02-26</td>\n",
       "      <td>2020-07-31</td>\n",
       "      <td>1.621774</td>\n",
       "    </tr>\n",
       "    <tr>\n",
       "      <td>3</td>\n",
       "      <td>IT</td>\n",
       "      <td>prophet</td>\n",
       "      <td>2020-01-31</td>\n",
       "      <td>2020-07-31</td>\n",
       "      <td>0.091595</td>\n",
       "    </tr>\n",
       "    <tr>\n",
       "      <td>4</td>\n",
       "      <td>FR</td>\n",
       "      <td>prophet</td>\n",
       "      <td>2020-01-24</td>\n",
       "      <td>2020-07-31</td>\n",
       "      <td>1.036974</td>\n",
       "    </tr>\n",
       "  </tbody>\n",
       "</table>\n",
       "</div>"
      ],
      "text/plain": [
       "  countrycode model_name date_begin   date_end     score\n",
       "0          US    prophet 2020-01-22 2020-07-31  9.694024\n",
       "1          CN    prophet 2020-01-22 2020-07-31  1.047769\n",
       "2          BR    prophet 2020-02-26 2020-07-31  1.621774\n",
       "3          IT    prophet 2020-01-31 2020-07-31  0.091595\n",
       "4          FR    prophet 2020-01-24 2020-07-31  1.036974"
      ]
     },
     "execution_count": 45,
     "metadata": {},
     "output_type": "execute_result"
    }
   ],
   "source": [
    "df_results.head()"
   ]
  },
  {
   "cell_type": "code",
   "execution_count": 24,
   "metadata": {},
   "outputs": [
    {
     "data": {
      "text/html": [
       "<div>\n",
       "<style scoped>\n",
       "    .dataframe tbody tr th:only-of-type {\n",
       "        vertical-align: middle;\n",
       "    }\n",
       "\n",
       "    .dataframe tbody tr th {\n",
       "        vertical-align: top;\n",
       "    }\n",
       "\n",
       "    .dataframe thead th {\n",
       "        text-align: right;\n",
       "    }\n",
       "</style>\n",
       "<table border=\"1\" class=\"dataframe\">\n",
       "  <thead>\n",
       "    <tr style=\"text-align: right;\">\n",
       "      <th></th>\n",
       "      <th>ds</th>\n",
       "      <th>y</th>\n",
       "    </tr>\n",
       "  </thead>\n",
       "  <tbody>\n",
       "  </tbody>\n",
       "</table>\n",
       "</div>"
      ],
      "text/plain": [
       "Empty DataFrame\n",
       "Columns: [ds, y]\n",
       "Index: []"
      ]
     },
     "execution_count": 24,
     "metadata": {},
     "output_type": "execute_result"
    }
   ],
   "source": [
    " Xtrn1.head()"
   ]
  },
  {
   "cell_type": "code",
   "execution_count": 47,
   "metadata": {},
   "outputs": [
    {
     "name": "stdout",
     "output_type": "stream",
     "text": [
      "{'US': <fbprophet.forecaster.Prophet object at 0x0000017D0612D448>, 'CN': <fbprophet.forecaster.Prophet object at 0x0000017D069C1E48>, 'BR': <fbprophet.forecaster.Prophet object at 0x0000017D0610C988>, 'IT': <fbprophet.forecaster.Prophet object at 0x0000017D06A05D88>, 'FR': <fbprophet.forecaster.Prophet object at 0x0000017D063A8D88>}\n"
     ]
    }
   ],
   "source": [
    "print(trained_models)"
   ]
  },
  {
   "cell_type": "code",
   "execution_count": 22,
   "metadata": {},
   "outputs": [
    {
     "data": {
      "text/html": [
       "<div>\n",
       "<style scoped>\n",
       "    .dataframe tbody tr th:only-of-type {\n",
       "        vertical-align: middle;\n",
       "    }\n",
       "\n",
       "    .dataframe tbody tr th {\n",
       "        vertical-align: top;\n",
       "    }\n",
       "\n",
       "    .dataframe thead th {\n",
       "        text-align: right;\n",
       "    }\n",
       "</style>\n",
       "<table border=\"1\" class=\"dataframe\">\n",
       "  <thead>\n",
       "    <tr style=\"text-align: right;\">\n",
       "      <th></th>\n",
       "      <th>ds</th>\n",
       "      <th>y</th>\n",
       "    </tr>\n",
       "  </thead>\n",
       "  <tbody>\n",
       "  </tbody>\n",
       "</table>\n",
       "</div>"
      ],
      "text/plain": [
       "Empty DataFrame\n",
       "Columns: [ds, y]\n",
       "Index: []"
      ]
     },
     "execution_count": 22,
     "metadata": {},
     "output_type": "execute_result"
    }
   ],
   "source": [
    " Xtrn.head()"
   ]
  },
  {
   "cell_type": "markdown",
   "metadata": {},
   "source": [
    "# Exportar os resultados e modelagem "
   ]
  },
  {
   "cell_type": "code",
   "execution_count": 56,
   "metadata": {},
   "outputs": [
    {
     "data": {
      "text/html": [
       "<div>\n",
       "<style scoped>\n",
       "    .dataframe tbody tr th:only-of-type {\n",
       "        vertical-align: middle;\n",
       "    }\n",
       "\n",
       "    .dataframe tbody tr th {\n",
       "        vertical-align: top;\n",
       "    }\n",
       "\n",
       "    .dataframe thead th {\n",
       "        text-align: right;\n",
       "    }\n",
       "</style>\n",
       "<table border=\"1\" class=\"dataframe\">\n",
       "  <thead>\n",
       "    <tr style=\"text-align: right;\">\n",
       "      <th></th>\n",
       "      <th>countrycode</th>\n",
       "      <th>model_name</th>\n",
       "      <th>date_begin</th>\n",
       "      <th>date_end</th>\n",
       "      <th>score</th>\n",
       "    </tr>\n",
       "  </thead>\n",
       "  <tbody>\n",
       "    <tr>\n",
       "      <td>0</td>\n",
       "      <td>US</td>\n",
       "      <td>prophet</td>\n",
       "      <td>2020-01-22</td>\n",
       "      <td>2020-05-31</td>\n",
       "      <td>3.261371</td>\n",
       "    </tr>\n",
       "    <tr>\n",
       "      <td>1</td>\n",
       "      <td>CN</td>\n",
       "      <td>prophet</td>\n",
       "      <td>2020-01-22</td>\n",
       "      <td>2020-05-31</td>\n",
       "      <td>1.543970</td>\n",
       "    </tr>\n",
       "    <tr>\n",
       "      <td>2</td>\n",
       "      <td>BR</td>\n",
       "      <td>prophet</td>\n",
       "      <td>2020-02-26</td>\n",
       "      <td>2020-05-31</td>\n",
       "      <td>18.699037</td>\n",
       "    </tr>\n",
       "    <tr>\n",
       "      <td>3</td>\n",
       "      <td>IT</td>\n",
       "      <td>prophet</td>\n",
       "      <td>2020-01-31</td>\n",
       "      <td>2020-05-31</td>\n",
       "      <td>4.289474</td>\n",
       "    </tr>\n",
       "    <tr>\n",
       "      <td>4</td>\n",
       "      <td>FR</td>\n",
       "      <td>prophet</td>\n",
       "      <td>2020-01-24</td>\n",
       "      <td>2020-05-31</td>\n",
       "      <td>4.173835</td>\n",
       "    </tr>\n",
       "  </tbody>\n",
       "</table>\n",
       "</div>"
      ],
      "text/plain": [
       "  countrycode model_name date_begin   date_end      score\n",
       "0          US    prophet 2020-01-22 2020-05-31   3.261371\n",
       "1          CN    prophet 2020-01-22 2020-05-31   1.543970\n",
       "2          BR    prophet 2020-02-26 2020-05-31  18.699037\n",
       "3          IT    prophet 2020-01-31 2020-05-31   4.289474\n",
       "4          FR    prophet 2020-01-24 2020-05-31   4.173835"
      ]
     },
     "execution_count": 56,
     "metadata": {},
     "output_type": "execute_result"
    }
   ],
   "source": [
    "# exportar a tabela de resultados\n",
    "df_results.to_parquet(model_score_file)\n",
    "\n",
    "filename = model_score_file.replace(\".parquet\",\"_\" + df_results.date_end.max().date().strftime('%Y-%m-%d') + \".parquet\") \n",
    "df_results.to_parquet(filename)\n",
    "\n",
    "\n",
    "with open(model_file, 'wb') as fid:\n",
    "    pickle.dump(trained_models, fid)\n",
    "\n",
    "\n",
    "filename = model_file.replace(\".jbl\",\"_\" + df_results.date_end.max().date().strftime('%Y-%m-%d') + \".jbl\")     \n",
    "with open(model_file, 'wb') as fid:\n",
    "    pickle.dump(trained_models, fid)\n",
    "    \n",
    "    \n",
    "df_results.head()"
   ]
  },
  {
   "cell_type": "code",
   "execution_count": null,
   "metadata": {},
   "outputs": [],
   "source": []
  }
 ],
 "metadata": {
  "kernelspec": {
   "display_name": "Python 3",
   "language": "python",
   "name": "python3"
  },
  "language_info": {
   "codemirror_mode": {
    "name": "ipython",
    "version": 3
   },
   "file_extension": ".py",
   "mimetype": "text/x-python",
   "name": "python",
   "nbconvert_exporter": "python",
   "pygments_lexer": "ipython3",
   "version": "3.7.4"
  }
 },
 "nbformat": 4,
 "nbformat_minor": 4
}
